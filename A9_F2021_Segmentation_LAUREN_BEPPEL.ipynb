{
  "nbformat": 4,
  "nbformat_minor": 0,
  "metadata": {
    "colab": {
      "name": "A9 F2021 Segmentation-LAUREN BEPPEL.ipynb",
      "provenance": [],
      "collapsed_sections": []
    },
    "kernelspec": {
      "name": "python3",
      "display_name": "Python 3"
    }
  },
  "cells": [
    {
      "cell_type": "markdown",
      "metadata": {
        "id": "v8tuBEKOxdJH"
      },
      "source": [
        "# A9 Customer Segmentation\n",
        "\n",
        "**Rationale** The idea for this assignment is to give you hands on experience in applying behavioral segmentation techniques to real world data where the variables you use for segmentation are not already created for you (you must define them first). Thus you must first do \"feature engineering\" before you can do segmentation. Don't worry, this problem is broken down into components.\n",
        "\n",
        "The dataset we use is [retail invoice](https://drive.google.com/drive/folders/1IUq9xm_0jWEs41iFp8TSWpb0CbPiT87m?usp=sharing). Each invoice is one purchase occassion, and for each invoice we have several observations representing the unique items (stockcode) purchased on that occassion.\n",
        "\n",
        "The goal of the first part is to create useful features about each consumer's observed behaviors, i.e. go from transaction level to customer level data. The goal of the second part is to then do behavioral segmentation based on these newly constructed features. "
      ]
    },
    {
      "cell_type": "markdown",
      "metadata": {
        "id": "B3dWWTS5s0CG"
      },
      "source": [
        "# Part 1 Feature Engineering (5 points)\n",
        "\n",
        "Generally, feature engineering is where your marketing domain knowledge comes into play. In other words, your intuitions about what matters in terms of separating consumers into different groups should drive what features (aka variables/columns) to create. However, in this assignment, you are expected to compute the characteristics detailed in the following instructions.\n"
      ]
    },
    {
      "cell_type": "markdown",
      "metadata": {
        "id": "kuRzBzBmtCeN"
      },
      "source": [
        "Read in the data, preview it, and familiarize yourself with the contents of the data."
      ]
    },
    {
      "cell_type": "code",
      "metadata": {
        "colab": {
          "base_uri": "https://localhost:8080/"
        },
        "id": "tGm3SB4BtEGQ",
        "outputId": "72d2e962-e1d2-4cae-9ad7-0c70571a88bc"
      },
      "source": [
        "import pandas as pd, numpy as np, os, matplotlib.pyplot as plt\n",
        "from google.colab import drive\n",
        "from sklearn.decomposition import PCA\n",
        "from sklearn.cluster import KMeans\n",
        "drive.mount('drive', force_remount=True)"
      ],
      "execution_count": 1,
      "outputs": [
        {
          "output_type": "stream",
          "name": "stdout",
          "text": [
            "Mounted at drive\n"
          ]
        }
      ]
    },
    {
      "cell_type": "code",
      "metadata": {
        "colab": {
          "base_uri": "https://localhost:8080/"
        },
        "id": "A16TwN9btXws",
        "outputId": "100d600c-f840-4179-cbb4-b05cbefb748c"
      },
      "source": [
        "fpath = 'drive/MyDrive/A9/' # change the path here\n",
        "os.listdir(fpath)"
      ],
      "execution_count": 2,
      "outputs": [
        {
          "output_type": "execute_result",
          "data": {
            "text/plain": [
              "['Mall_Customers.csv',\n",
              " 'spending_v_income.png',\n",
              " 'online_invoices.gsheet',\n",
              " 'online_invoices.csv']"
            ]
          },
          "metadata": {},
          "execution_count": 2
        }
      ]
    },
    {
      "cell_type": "code",
      "metadata": {
        "id": "-lVcVTC9tgmm"
      },
      "source": [
        "# Read in the data (csv file)\n",
        "data = pd.read_csv(fpath + 'online_invoices.csv', index_col = 0)"
      ],
      "execution_count": 3,
      "outputs": []
    },
    {
      "cell_type": "code",
      "metadata": {
        "id": "VKsPGGcLtn_w",
        "colab": {
          "base_uri": "https://localhost:8080/",
          "height": 204
        },
        "outputId": "8972e618-ae99-4bf6-b210-727bf421de7b"
      },
      "source": [
        "# Preview the data\n",
        "data.head()"
      ],
      "execution_count": 4,
      "outputs": [
        {
          "output_type": "execute_result",
          "data": {
            "text/html": [
              "<div>\n",
              "<style scoped>\n",
              "    .dataframe tbody tr th:only-of-type {\n",
              "        vertical-align: middle;\n",
              "    }\n",
              "\n",
              "    .dataframe tbody tr th {\n",
              "        vertical-align: top;\n",
              "    }\n",
              "\n",
              "    .dataframe thead th {\n",
              "        text-align: right;\n",
              "    }\n",
              "</style>\n",
              "<table border=\"1\" class=\"dataframe\">\n",
              "  <thead>\n",
              "    <tr style=\"text-align: right;\">\n",
              "      <th></th>\n",
              "      <th>InvoiceNo</th>\n",
              "      <th>StockCode</th>\n",
              "      <th>Description</th>\n",
              "      <th>Quantity</th>\n",
              "      <th>InvoiceDate</th>\n",
              "      <th>UnitPrice</th>\n",
              "      <th>CustomerID</th>\n",
              "      <th>Country</th>\n",
              "    </tr>\n",
              "  </thead>\n",
              "  <tbody>\n",
              "    <tr>\n",
              "      <th>0</th>\n",
              "      <td>536365</td>\n",
              "      <td>85123A</td>\n",
              "      <td>WHITE HANGING HEART T-LIGHT HOLDER</td>\n",
              "      <td>6</td>\n",
              "      <td>12/1/2010 8:26</td>\n",
              "      <td>2.55</td>\n",
              "      <td>17850.0</td>\n",
              "      <td>United Kingdom</td>\n",
              "    </tr>\n",
              "    <tr>\n",
              "      <th>1</th>\n",
              "      <td>536365</td>\n",
              "      <td>71053</td>\n",
              "      <td>WHITE METAL LANTERN</td>\n",
              "      <td>6</td>\n",
              "      <td>12/1/2010 8:26</td>\n",
              "      <td>3.39</td>\n",
              "      <td>17850.0</td>\n",
              "      <td>United Kingdom</td>\n",
              "    </tr>\n",
              "    <tr>\n",
              "      <th>2</th>\n",
              "      <td>536365</td>\n",
              "      <td>84406B</td>\n",
              "      <td>CREAM CUPID HEARTS COAT HANGER</td>\n",
              "      <td>8</td>\n",
              "      <td>12/1/2010 8:26</td>\n",
              "      <td>2.75</td>\n",
              "      <td>17850.0</td>\n",
              "      <td>United Kingdom</td>\n",
              "    </tr>\n",
              "    <tr>\n",
              "      <th>3</th>\n",
              "      <td>536365</td>\n",
              "      <td>84029G</td>\n",
              "      <td>KNITTED UNION FLAG HOT WATER BOTTLE</td>\n",
              "      <td>6</td>\n",
              "      <td>12/1/2010 8:26</td>\n",
              "      <td>3.39</td>\n",
              "      <td>17850.0</td>\n",
              "      <td>United Kingdom</td>\n",
              "    </tr>\n",
              "    <tr>\n",
              "      <th>4</th>\n",
              "      <td>536365</td>\n",
              "      <td>84029E</td>\n",
              "      <td>RED WOOLLY HOTTIE WHITE HEART.</td>\n",
              "      <td>6</td>\n",
              "      <td>12/1/2010 8:26</td>\n",
              "      <td>3.39</td>\n",
              "      <td>17850.0</td>\n",
              "      <td>United Kingdom</td>\n",
              "    </tr>\n",
              "  </tbody>\n",
              "</table>\n",
              "</div>"
            ],
            "text/plain": [
              "   InvoiceNo StockCode  ... CustomerID         Country\n",
              "0     536365    85123A  ...    17850.0  United Kingdom\n",
              "1     536365     71053  ...    17850.0  United Kingdom\n",
              "2     536365    84406B  ...    17850.0  United Kingdom\n",
              "3     536365    84029G  ...    17850.0  United Kingdom\n",
              "4     536365    84029E  ...    17850.0  United Kingdom\n",
              "\n",
              "[5 rows x 8 columns]"
            ]
          },
          "metadata": {},
          "execution_count": 4
        }
      ]
    },
    {
      "cell_type": "markdown",
      "metadata": {
        "id": "Ui2NVHT2t6Vu"
      },
      "source": [
        "**Answer questions here**\n",
        "\n",
        "What does each row represent? one online invoice (pick one)\n",
        "\n",
        "A. **1 invoice (1 point of sale transaction)** \\\\\n",
        "B. A single item sold \\\\\n",
        "C. Each unique item sold in a transaction \\\\\n",
        "D. Daily sales \\\\\n",
        "E. 1 customer's total purchases on each day\n"
      ]
    },
    {
      "cell_type": "markdown",
      "metadata": {
        "id": "Oxk5psRYtTmq"
      },
      "source": [
        "\n",
        "## Unique count variables\n",
        "\n",
        "Create a dataframe, `df_u` that represents each consumer's total number of transactions and unique products purchased.\n",
        "\n",
        "Hint: use a `groupby` + `.nunique()` statement. `df.groupby('id')[['var1', 'var2',....]].nunique().reset_index()` will compute the number of unique values of columns 'var1', 'var2',.... for each \"id\". You should calculate the number of unique `StockCode`'s (like SKU's) and `InvoicesNo`'s for each `CustomerID`. Change your column names in the resulting dataframe, `df_u`, to `['CustomerID', 'NTrans', 'NProducts']`.\n",
        "\n"
      ]
    },
    {
      "cell_type": "code",
      "metadata": {
        "id": "iBChy9Wit6YH"
      },
      "source": [
        "# use a groupby operation with the nunique summary function to calculate the number of unique\n",
        "# transactions and product SKU's for each item\n",
        "# call the resulting dataframe df_u\n",
        "\n",
        "df_u = data.groupby('CustomerID')[['StockCode', 'InvoiceNo']].nunique().reset_index()"
      ],
      "execution_count": 5,
      "outputs": []
    },
    {
      "cell_type": "code",
      "metadata": {
        "colab": {
          "base_uri": "https://localhost:8080/",
          "height": 204
        },
        "id": "ADHfQCdANVl3",
        "outputId": "4bc77997-3c3e-4a67-d9f4-cb84145dea61"
      },
      "source": [
        "df_u.head()"
      ],
      "execution_count": 6,
      "outputs": [
        {
          "output_type": "execute_result",
          "data": {
            "text/html": [
              "<div>\n",
              "<style scoped>\n",
              "    .dataframe tbody tr th:only-of-type {\n",
              "        vertical-align: middle;\n",
              "    }\n",
              "\n",
              "    .dataframe tbody tr th {\n",
              "        vertical-align: top;\n",
              "    }\n",
              "\n",
              "    .dataframe thead th {\n",
              "        text-align: right;\n",
              "    }\n",
              "</style>\n",
              "<table border=\"1\" class=\"dataframe\">\n",
              "  <thead>\n",
              "    <tr style=\"text-align: right;\">\n",
              "      <th></th>\n",
              "      <th>CustomerID</th>\n",
              "      <th>StockCode</th>\n",
              "      <th>InvoiceNo</th>\n",
              "    </tr>\n",
              "  </thead>\n",
              "  <tbody>\n",
              "    <tr>\n",
              "      <th>0</th>\n",
              "      <td>12346.0</td>\n",
              "      <td>1</td>\n",
              "      <td>1</td>\n",
              "    </tr>\n",
              "    <tr>\n",
              "      <th>1</th>\n",
              "      <td>12347.0</td>\n",
              "      <td>103</td>\n",
              "      <td>7</td>\n",
              "    </tr>\n",
              "    <tr>\n",
              "      <th>2</th>\n",
              "      <td>12348.0</td>\n",
              "      <td>21</td>\n",
              "      <td>4</td>\n",
              "    </tr>\n",
              "    <tr>\n",
              "      <th>3</th>\n",
              "      <td>12349.0</td>\n",
              "      <td>72</td>\n",
              "      <td>1</td>\n",
              "    </tr>\n",
              "    <tr>\n",
              "      <th>4</th>\n",
              "      <td>12350.0</td>\n",
              "      <td>16</td>\n",
              "      <td>1</td>\n",
              "    </tr>\n",
              "  </tbody>\n",
              "</table>\n",
              "</div>"
            ],
            "text/plain": [
              "   CustomerID  StockCode  InvoiceNo\n",
              "0     12346.0          1          1\n",
              "1     12347.0        103          7\n",
              "2     12348.0         21          4\n",
              "3     12349.0         72          1\n",
              "4     12350.0         16          1"
            ]
          },
          "metadata": {},
          "execution_count": 6
        }
      ]
    },
    {
      "cell_type": "code",
      "metadata": {
        "id": "lU8oH59PC_n6"
      },
      "source": [
        "# rename the columns for unique transactions and products purchased to:\n",
        "# NTrans and NProducts, respectively\n",
        "# Remember, you can either use the syntax dataframe.columns = ['col1', 'col2',....] <- set all the column names using list of strings for each column\n",
        "# or you can use dataframe.rename(columns = {'oldcolname':'newcolname', 'oldcolname2':'newcolname2', ....}, inplace = True) <- rename only the ones that should be renamed\n",
        "\n",
        "df_u.rename(columns = {'StockCode':'Nproducts', 'InvoiceNo':'NTrans'}, inplace = True)"
      ],
      "execution_count": 7,
      "outputs": []
    },
    {
      "cell_type": "code",
      "metadata": {
        "id": "GyMvxP5qMTk-",
        "colab": {
          "base_uri": "https://localhost:8080/",
          "height": 204
        },
        "outputId": "d4f9d612-a5bc-4d98-d3d2-4b6b3936f50d"
      },
      "source": [
        "# take a look at the first 5 rows of resulting dataframe, make sure contents are what you expect\n",
        "\n",
        "df_u.head()"
      ],
      "execution_count": 8,
      "outputs": [
        {
          "output_type": "execute_result",
          "data": {
            "text/html": [
              "<div>\n",
              "<style scoped>\n",
              "    .dataframe tbody tr th:only-of-type {\n",
              "        vertical-align: middle;\n",
              "    }\n",
              "\n",
              "    .dataframe tbody tr th {\n",
              "        vertical-align: top;\n",
              "    }\n",
              "\n",
              "    .dataframe thead th {\n",
              "        text-align: right;\n",
              "    }\n",
              "</style>\n",
              "<table border=\"1\" class=\"dataframe\">\n",
              "  <thead>\n",
              "    <tr style=\"text-align: right;\">\n",
              "      <th></th>\n",
              "      <th>CustomerID</th>\n",
              "      <th>Nproducts</th>\n",
              "      <th>NTrans</th>\n",
              "    </tr>\n",
              "  </thead>\n",
              "  <tbody>\n",
              "    <tr>\n",
              "      <th>0</th>\n",
              "      <td>12346.0</td>\n",
              "      <td>1</td>\n",
              "      <td>1</td>\n",
              "    </tr>\n",
              "    <tr>\n",
              "      <th>1</th>\n",
              "      <td>12347.0</td>\n",
              "      <td>103</td>\n",
              "      <td>7</td>\n",
              "    </tr>\n",
              "    <tr>\n",
              "      <th>2</th>\n",
              "      <td>12348.0</td>\n",
              "      <td>21</td>\n",
              "      <td>4</td>\n",
              "    </tr>\n",
              "    <tr>\n",
              "      <th>3</th>\n",
              "      <td>12349.0</td>\n",
              "      <td>72</td>\n",
              "      <td>1</td>\n",
              "    </tr>\n",
              "    <tr>\n",
              "      <th>4</th>\n",
              "      <td>12350.0</td>\n",
              "      <td>16</td>\n",
              "      <td>1</td>\n",
              "    </tr>\n",
              "  </tbody>\n",
              "</table>\n",
              "</div>"
            ],
            "text/plain": [
              "   CustomerID  Nproducts  NTrans\n",
              "0     12346.0          1       1\n",
              "1     12347.0        103       7\n",
              "2     12348.0         21       4\n",
              "3     12349.0         72       1\n",
              "4     12350.0         16       1"
            ]
          },
          "metadata": {},
          "execution_count": 8
        }
      ]
    },
    {
      "cell_type": "markdown",
      "metadata": {
        "id": "YLPqoJNPJCNE"
      },
      "source": [
        "\n",
        "## Customer spend\n",
        "\n",
        "Compute the total customer spending and number of units purchased for each customer of this retailer. \n",
        "\n",
        "Hint\n",
        "1. Create a column for `TotalSpend` (unit price x quantity)\n",
        "1. Use a (groupby + sum) to create a dataframe `df_s` that contains each customer's sum of `TotalSpend` and `Quantity`\n",
        "1. rename the quantity column to `TotalUnits`\n"
      ]
    },
    {
      "cell_type": "code",
      "metadata": {
        "id": "edY2KenyJGp4"
      },
      "source": [
        "# create total spend column\n",
        "\n",
        "data['TotalSpend'] = data['UnitPrice'] * data['Quantity']"
      ],
      "execution_count": 9,
      "outputs": []
    },
    {
      "cell_type": "code",
      "metadata": {
        "id": "wLl_CD_0MFHZ"
      },
      "source": [
        "# create dataframe, df_s, that contains the total spend for each customer using groupby statement\n",
        "# remember to reset_index\n",
        "\n",
        "df_s = data.groupby('CustomerID')[['TotalSpend', 'Quantity']].nunique().reset_index()"
      ],
      "execution_count": 10,
      "outputs": []
    },
    {
      "cell_type": "code",
      "metadata": {
        "colab": {
          "base_uri": "https://localhost:8080/",
          "height": 204
        },
        "id": "uqPtftSrZ5bS",
        "outputId": "49708258-aa23-4fae-97da-4ca64440a38e"
      },
      "source": [
        "df_s.head()"
      ],
      "execution_count": 11,
      "outputs": [
        {
          "output_type": "execute_result",
          "data": {
            "text/html": [
              "<div>\n",
              "<style scoped>\n",
              "    .dataframe tbody tr th:only-of-type {\n",
              "        vertical-align: middle;\n",
              "    }\n",
              "\n",
              "    .dataframe tbody tr th {\n",
              "        vertical-align: top;\n",
              "    }\n",
              "\n",
              "    .dataframe thead th {\n",
              "        text-align: right;\n",
              "    }\n",
              "</style>\n",
              "<table border=\"1\" class=\"dataframe\">\n",
              "  <thead>\n",
              "    <tr style=\"text-align: right;\">\n",
              "      <th></th>\n",
              "      <th>CustomerID</th>\n",
              "      <th>TotalSpend</th>\n",
              "      <th>Quantity</th>\n",
              "    </tr>\n",
              "  </thead>\n",
              "  <tbody>\n",
              "    <tr>\n",
              "      <th>0</th>\n",
              "      <td>12346.0</td>\n",
              "      <td>1</td>\n",
              "      <td>1</td>\n",
              "    </tr>\n",
              "    <tr>\n",
              "      <th>1</th>\n",
              "      <td>12347.0</td>\n",
              "      <td>56</td>\n",
              "      <td>15</td>\n",
              "    </tr>\n",
              "    <tr>\n",
              "      <th>2</th>\n",
              "      <td>12348.0</td>\n",
              "      <td>14</td>\n",
              "      <td>8</td>\n",
              "    </tr>\n",
              "    <tr>\n",
              "      <th>3</th>\n",
              "      <td>12349.0</td>\n",
              "      <td>41</td>\n",
              "      <td>12</td>\n",
              "    </tr>\n",
              "    <tr>\n",
              "      <th>4</th>\n",
              "      <td>12350.0</td>\n",
              "      <td>8</td>\n",
              "      <td>4</td>\n",
              "    </tr>\n",
              "  </tbody>\n",
              "</table>\n",
              "</div>"
            ],
            "text/plain": [
              "   CustomerID  TotalSpend  Quantity\n",
              "0     12346.0           1         1\n",
              "1     12347.0          56        15\n",
              "2     12348.0          14         8\n",
              "3     12349.0          41        12\n",
              "4     12350.0           8         4"
            ]
          },
          "metadata": {},
          "execution_count": 11
        }
      ]
    },
    {
      "cell_type": "code",
      "metadata": {
        "id": "oKLd7Pc0PVso"
      },
      "source": [
        "# rename columns so that resulting dataframe has columns: CustomerID, TotalSpend, and TotalUnits\n",
        "\n",
        "df_s.rename(columns = {'Quantity':'TotalUnits'}, inplace = True)"
      ],
      "execution_count": 12,
      "outputs": []
    },
    {
      "cell_type": "code",
      "metadata": {
        "id": "mW2xFRfCMabu",
        "colab": {
          "base_uri": "https://localhost:8080/",
          "height": 204
        },
        "outputId": "7985c613-81f4-4fc4-dd02-a03c792dba9e"
      },
      "source": [
        "# take a look at the first 5 rows of resulting dataframe, make sure contents are what you expect\n",
        "\n",
        "df_s.head()"
      ],
      "execution_count": 13,
      "outputs": [
        {
          "output_type": "execute_result",
          "data": {
            "text/html": [
              "<div>\n",
              "<style scoped>\n",
              "    .dataframe tbody tr th:only-of-type {\n",
              "        vertical-align: middle;\n",
              "    }\n",
              "\n",
              "    .dataframe tbody tr th {\n",
              "        vertical-align: top;\n",
              "    }\n",
              "\n",
              "    .dataframe thead th {\n",
              "        text-align: right;\n",
              "    }\n",
              "</style>\n",
              "<table border=\"1\" class=\"dataframe\">\n",
              "  <thead>\n",
              "    <tr style=\"text-align: right;\">\n",
              "      <th></th>\n",
              "      <th>CustomerID</th>\n",
              "      <th>TotalSpend</th>\n",
              "      <th>TotalUnits</th>\n",
              "    </tr>\n",
              "  </thead>\n",
              "  <tbody>\n",
              "    <tr>\n",
              "      <th>0</th>\n",
              "      <td>12346.0</td>\n",
              "      <td>1</td>\n",
              "      <td>1</td>\n",
              "    </tr>\n",
              "    <tr>\n",
              "      <th>1</th>\n",
              "      <td>12347.0</td>\n",
              "      <td>56</td>\n",
              "      <td>15</td>\n",
              "    </tr>\n",
              "    <tr>\n",
              "      <th>2</th>\n",
              "      <td>12348.0</td>\n",
              "      <td>14</td>\n",
              "      <td>8</td>\n",
              "    </tr>\n",
              "    <tr>\n",
              "      <th>3</th>\n",
              "      <td>12349.0</td>\n",
              "      <td>41</td>\n",
              "      <td>12</td>\n",
              "    </tr>\n",
              "    <tr>\n",
              "      <th>4</th>\n",
              "      <td>12350.0</td>\n",
              "      <td>8</td>\n",
              "      <td>4</td>\n",
              "    </tr>\n",
              "  </tbody>\n",
              "</table>\n",
              "</div>"
            ],
            "text/plain": [
              "   CustomerID  TotalSpend  TotalUnits\n",
              "0     12346.0           1           1\n",
              "1     12347.0          56          15\n",
              "2     12348.0          14           8\n",
              "3     12349.0          41          12\n",
              "4     12350.0           8           4"
            ]
          },
          "metadata": {},
          "execution_count": 13
        }
      ]
    },
    {
      "cell_type": "markdown",
      "metadata": {
        "id": "8LWkk_qSOrs8"
      },
      "source": [
        "\n",
        "## Compute price of average SKU purchased\n",
        "\n",
        "Compute and create the `AveragePrice` column using the `df_s` dataframe's `TotalUnits` and `TotalSpend`.\n"
      ]
    },
    {
      "cell_type": "code",
      "metadata": {
        "id": "KJ2CXoeoPGaA"
      },
      "source": [
        "# create average price column in df_s\n",
        "df_s['Average_Price'] = df_s['TotalSpend']/df_s['TotalUnits']\n"
      ],
      "execution_count": 14,
      "outputs": []
    },
    {
      "cell_type": "code",
      "metadata": {
        "id": "d8cqACS8Osz7",
        "colab": {
          "base_uri": "https://localhost:8080/",
          "height": 204
        },
        "outputId": "34d149c1-44ee-45b8-f398-1b60c5e6c0c7"
      },
      "source": [
        "# preview df_s to make sure average price is as expected\n",
        "\n",
        "df_s.head()"
      ],
      "execution_count": 15,
      "outputs": [
        {
          "output_type": "execute_result",
          "data": {
            "text/html": [
              "<div>\n",
              "<style scoped>\n",
              "    .dataframe tbody tr th:only-of-type {\n",
              "        vertical-align: middle;\n",
              "    }\n",
              "\n",
              "    .dataframe tbody tr th {\n",
              "        vertical-align: top;\n",
              "    }\n",
              "\n",
              "    .dataframe thead th {\n",
              "        text-align: right;\n",
              "    }\n",
              "</style>\n",
              "<table border=\"1\" class=\"dataframe\">\n",
              "  <thead>\n",
              "    <tr style=\"text-align: right;\">\n",
              "      <th></th>\n",
              "      <th>CustomerID</th>\n",
              "      <th>TotalSpend</th>\n",
              "      <th>TotalUnits</th>\n",
              "      <th>Average_Price</th>\n",
              "    </tr>\n",
              "  </thead>\n",
              "  <tbody>\n",
              "    <tr>\n",
              "      <th>0</th>\n",
              "      <td>12346.0</td>\n",
              "      <td>1</td>\n",
              "      <td>1</td>\n",
              "      <td>1.000000</td>\n",
              "    </tr>\n",
              "    <tr>\n",
              "      <th>1</th>\n",
              "      <td>12347.0</td>\n",
              "      <td>56</td>\n",
              "      <td>15</td>\n",
              "      <td>3.733333</td>\n",
              "    </tr>\n",
              "    <tr>\n",
              "      <th>2</th>\n",
              "      <td>12348.0</td>\n",
              "      <td>14</td>\n",
              "      <td>8</td>\n",
              "      <td>1.750000</td>\n",
              "    </tr>\n",
              "    <tr>\n",
              "      <th>3</th>\n",
              "      <td>12349.0</td>\n",
              "      <td>41</td>\n",
              "      <td>12</td>\n",
              "      <td>3.416667</td>\n",
              "    </tr>\n",
              "    <tr>\n",
              "      <th>4</th>\n",
              "      <td>12350.0</td>\n",
              "      <td>8</td>\n",
              "      <td>4</td>\n",
              "      <td>2.000000</td>\n",
              "    </tr>\n",
              "  </tbody>\n",
              "</table>\n",
              "</div>"
            ],
            "text/plain": [
              "   CustomerID  TotalSpend  TotalUnits  Average_Price\n",
              "0     12346.0           1           1       1.000000\n",
              "1     12347.0          56          15       3.733333\n",
              "2     12348.0          14           8       1.750000\n",
              "3     12349.0          41          12       3.416667\n",
              "4     12350.0           8           4       2.000000"
            ]
          },
          "metadata": {},
          "execution_count": 15
        }
      ]
    },
    {
      "cell_type": "markdown",
      "metadata": {
        "id": "25EWNNZV9Wxj"
      },
      "source": [
        "\n",
        "## Merge `df_u` and `df_s`, call new dataframe df_c (c for \"consumer\")\n",
        "\n",
        "Using the variables in `df_c`, compute the following additional column:\n",
        "1. Spend per transaction (call it \"SpendPerTrans\")\n",
        "\n",
        "In total, you should have `df_c` with columns `['CustomerID', 'NTrans', 'NProducts', 'TotalSpend', 'AveragePrice', 'SpendPerTrans']`\n"
      ]
    },
    {
      "cell_type": "markdown",
      "metadata": {
        "id": "T3ar9ARRWWC6"
      },
      "source": [
        "**Answer this**\n",
        "\n",
        "On what column should you merge `df_s` and `df_u`?\n",
        "\n",
        "* Answer: df_s"
      ]
    },
    {
      "cell_type": "code",
      "metadata": {
        "id": "XsPDlZAsQMSf"
      },
      "source": [
        "# do the merge (review notes from module 3 on merges if necessary)\n",
        "# use an outer merge, call resulting dataframe, df_c\n",
        "\n",
        "df_c = df_s.merge(df_u, how = 'outer', on = 'CustomerID')"
      ],
      "execution_count": 16,
      "outputs": []
    },
    {
      "cell_type": "code",
      "metadata": {
        "id": "EDIpKkWeHCFd"
      },
      "source": [
        "# create the column 'SpendPerTrans'\n",
        "\n",
        "df_c['SpendPerTrans'] = df_c['TotalSpend']/ df_c['NTrans']"
      ],
      "execution_count": 17,
      "outputs": []
    },
    {
      "cell_type": "code",
      "metadata": {
        "id": "9Mm2LDzNYj_S",
        "colab": {
          "base_uri": "https://localhost:8080/",
          "height": 204
        },
        "outputId": "f51e2609-fbc9-407a-dfff-f766dc77c21b"
      },
      "source": [
        "# preview df_c to make sure it looks as expected\n",
        "\n",
        "df_c.head()"
      ],
      "execution_count": 18,
      "outputs": [
        {
          "output_type": "execute_result",
          "data": {
            "text/html": [
              "<div>\n",
              "<style scoped>\n",
              "    .dataframe tbody tr th:only-of-type {\n",
              "        vertical-align: middle;\n",
              "    }\n",
              "\n",
              "    .dataframe tbody tr th {\n",
              "        vertical-align: top;\n",
              "    }\n",
              "\n",
              "    .dataframe thead th {\n",
              "        text-align: right;\n",
              "    }\n",
              "</style>\n",
              "<table border=\"1\" class=\"dataframe\">\n",
              "  <thead>\n",
              "    <tr style=\"text-align: right;\">\n",
              "      <th></th>\n",
              "      <th>CustomerID</th>\n",
              "      <th>TotalSpend</th>\n",
              "      <th>TotalUnits</th>\n",
              "      <th>Average_Price</th>\n",
              "      <th>Nproducts</th>\n",
              "      <th>NTrans</th>\n",
              "      <th>SpendPerTrans</th>\n",
              "    </tr>\n",
              "  </thead>\n",
              "  <tbody>\n",
              "    <tr>\n",
              "      <th>0</th>\n",
              "      <td>12346.0</td>\n",
              "      <td>1</td>\n",
              "      <td>1</td>\n",
              "      <td>1.000000</td>\n",
              "      <td>1</td>\n",
              "      <td>1</td>\n",
              "      <td>1.0</td>\n",
              "    </tr>\n",
              "    <tr>\n",
              "      <th>1</th>\n",
              "      <td>12347.0</td>\n",
              "      <td>56</td>\n",
              "      <td>15</td>\n",
              "      <td>3.733333</td>\n",
              "      <td>103</td>\n",
              "      <td>7</td>\n",
              "      <td>8.0</td>\n",
              "    </tr>\n",
              "    <tr>\n",
              "      <th>2</th>\n",
              "      <td>12348.0</td>\n",
              "      <td>14</td>\n",
              "      <td>8</td>\n",
              "      <td>1.750000</td>\n",
              "      <td>21</td>\n",
              "      <td>4</td>\n",
              "      <td>3.5</td>\n",
              "    </tr>\n",
              "    <tr>\n",
              "      <th>3</th>\n",
              "      <td>12349.0</td>\n",
              "      <td>41</td>\n",
              "      <td>12</td>\n",
              "      <td>3.416667</td>\n",
              "      <td>72</td>\n",
              "      <td>1</td>\n",
              "      <td>41.0</td>\n",
              "    </tr>\n",
              "    <tr>\n",
              "      <th>4</th>\n",
              "      <td>12350.0</td>\n",
              "      <td>8</td>\n",
              "      <td>4</td>\n",
              "      <td>2.000000</td>\n",
              "      <td>16</td>\n",
              "      <td>1</td>\n",
              "      <td>8.0</td>\n",
              "    </tr>\n",
              "  </tbody>\n",
              "</table>\n",
              "</div>"
            ],
            "text/plain": [
              "   CustomerID  TotalSpend  TotalUnits  ...  Nproducts  NTrans  SpendPerTrans\n",
              "0     12346.0           1           1  ...          1       1            1.0\n",
              "1     12347.0          56          15  ...        103       7            8.0\n",
              "2     12348.0          14           8  ...         21       4            3.5\n",
              "3     12349.0          41          12  ...         72       1           41.0\n",
              "4     12350.0           8           4  ...         16       1            8.0\n",
              "\n",
              "[5 rows x 7 columns]"
            ]
          },
          "metadata": {},
          "execution_count": 18
        }
      ]
    },
    {
      "cell_type": "markdown",
      "metadata": {
        "id": "RRX-X9bugMkL"
      },
      "source": [
        "## Log transformation\n",
        "\n",
        "1. Plot the histogram of all the variables of df_c other than CustomerID\n",
        "1. Replace each of these variables with their respective log transformations\n",
        "1. Plot the histograms again, what's different?"
      ]
    },
    {
      "cell_type": "code",
      "metadata": {
        "id": "oJ_R1ic9eGbt",
        "colab": {
          "base_uri": "https://localhost:8080/",
          "height": 282
        },
        "outputId": "ed6291ce-4c52-4407-9ecf-cf96c01add2a"
      },
      "source": [
        "# plot the histogram of NTrans\n",
        "\n",
        "df_c.NTrans.hist(alpha = .5)"
      ],
      "execution_count": 19,
      "outputs": [
        {
          "output_type": "execute_result",
          "data": {
            "text/plain": [
              "<matplotlib.axes._subplots.AxesSubplot at 0x7f366c8f1ed0>"
            ]
          },
          "metadata": {},
          "execution_count": 19
        },
        {
          "output_type": "display_data",
          "data": {
            "image/png": "[encoded data removed]",
            "text/plain": [
              "<Figure size 432x288 with 1 Axes>"
            ]
          },
          "metadata": {
            "needs_background": "light"
          }
        }
      ]
    },
    {
      "cell_type": "code",
      "metadata": {
        "id": "M4LAnzFPePuP",
        "colab": {
          "base_uri": "https://localhost:8080/",
          "height": 282
        },
        "outputId": "a9bfe55c-1c7e-4818-f754-62a82c2df06f"
      },
      "source": [
        "# plot the histogram of NProducts\n",
        "\n",
        "df_c.Nproducts.hist(alpha = .5)"
      ],
      "execution_count": 20,
      "outputs": [
        {
          "output_type": "execute_result",
          "data": {
            "text/plain": [
              "<matplotlib.axes._subplots.AxesSubplot at 0x7f366c805690>"
            ]
          },
          "metadata": {},
          "execution_count": 20
        },
        {
          "output_type": "display_data",
          "data": {
            "image/png": "[encoded data removed]",
            "text/plain": [
              "<Figure size 432x288 with 1 Axes>"
            ]
          },
          "metadata": {
            "needs_background": "light"
          }
        }
      ]
    },
    {
      "cell_type": "code",
      "metadata": {
        "id": "xP_mjM8xeTTf",
        "colab": {
          "base_uri": "https://localhost:8080/",
          "height": 282
        },
        "outputId": "8dd5c9f3-09c2-4a5e-8b39-e6241f770587"
      },
      "source": [
        "# plot the histogram of TotalSpend\n",
        "\n",
        "df_c.TotalSpend.hist(alpha = .5)"
      ],
      "execution_count": 21,
      "outputs": [
        {
          "output_type": "execute_result",
          "data": {
            "text/plain": [
              "<matplotlib.axes._subplots.AxesSubplot at 0x7f366c2e3750>"
            ]
          },
          "metadata": {},
          "execution_count": 21
        },
        {
          "output_type": "display_data",
          "data": {
            "image/png": "[encoded data removed]",
            "text/plain": [
              "<Figure size 432x288 with 1 Axes>"
            ]
          },
          "metadata": {
            "needs_background": "light"
          }
        }
      ]
    },
    {
      "cell_type": "code",
      "metadata": {
        "id": "CJ4esbsjeYrb",
        "colab": {
          "base_uri": "https://localhost:8080/",
          "height": 282
        },
        "outputId": "fca3503a-a96e-4575-b0ca-48b542b3e030"
      },
      "source": [
        "# plot the histogram of TotalUnits\n",
        "\n",
        "df_c.TotalUnits.hist(alpha = .5)"
      ],
      "execution_count": 22,
      "outputs": [
        {
          "output_type": "execute_result",
          "data": {
            "text/plain": [
              "<matplotlib.axes._subplots.AxesSubplot at 0x7f366c2a2d50>"
            ]
          },
          "metadata": {},
          "execution_count": 22
        },
        {
          "output_type": "display_data",
          "data": {
            "image/png": "[encoded data removed]",
            "text/plain": [
              "<Figure size 432x288 with 1 Axes>"
            ]
          },
          "metadata": {
            "needs_background": "light"
          }
        }
      ]
    },
    {
      "cell_type": "code",
      "metadata": {
        "id": "IoIOTd6reJNp",
        "colab": {
          "base_uri": "https://localhost:8080/",
          "height": 282
        },
        "outputId": "bc4dfe59-a11e-41e3-d44c-ef50f694623d"
      },
      "source": [
        "# plot the histogram of AveragePrice\n",
        "\n",
        "df_c.Average_Price.hist(alpha = .5)"
      ],
      "execution_count": 23,
      "outputs": [
        {
          "output_type": "execute_result",
          "data": {
            "text/plain": [
              "<matplotlib.axes._subplots.AxesSubplot at 0x7f366c197550>"
            ]
          },
          "metadata": {},
          "execution_count": 23
        },
        {
          "output_type": "display_data",
          "data": {
            "image/png": "[encoded data removed]",
            "text/plain": [
              "<Figure size 432x288 with 1 Axes>"
            ]
          },
          "metadata": {
            "needs_background": "light"
          }
        }
      ]
    },
    {
      "cell_type": "code",
      "metadata": {
        "id": "X0NxCocCH3OO",
        "colab": {
          "base_uri": "https://localhost:8080/",
          "height": 282
        },
        "outputId": "ffa9d313-7efa-4dad-bc1d-fd74e4023b31"
      },
      "source": [
        "# plot the histogram of SpendPerTrans\n",
        "\n",
        "df_c.SpendPerTrans.hist(alpha = .5)"
      ],
      "execution_count": 24,
      "outputs": [
        {
          "output_type": "execute_result",
          "data": {
            "text/plain": [
              "<matplotlib.axes._subplots.AxesSubplot at 0x7f366c33cf10>"
            ]
          },
          "metadata": {},
          "execution_count": 24
        },
        {
          "output_type": "display_data",
          "data": {
            "image/png": "[encoded data removed]",
            "text/plain": [
              "<Figure size 432x288 with 1 Axes>"
            ]
          },
          "metadata": {
            "needs_background": "light"
          }
        }
      ]
    },
    {
      "cell_type": "code",
      "metadata": {
        "id": "Y4952ErQe1Mb"
      },
      "source": [
        "# Write a loop through all variables of df_c other than CustomerID \n",
        "# to replace each column with its log.\n",
        "# You can start the loop using: for c in df_c.columns[1:]:\n",
        "# (since df_c.columns[0] is the CustomerID column).\n",
        "# For some column, c, you can replace the column with its log using:\n",
        "# dataframe[c] = np.log(dataframe[c]) \n",
        "# (of course, use the right variable name for your dataframe)\n",
        "\n",
        "for c in df_c.columns[1:]:\n",
        "  df_c[c] = np.log(df_c[c]) "
      ],
      "execution_count": 25,
      "outputs": []
    },
    {
      "cell_type": "code",
      "metadata": {
        "id": "5zFUPsE3fbeF",
        "colab": {
          "base_uri": "https://localhost:8080/",
          "height": 282
        },
        "outputId": "bb64dc76-6a5d-410b-980e-f642d9ab332a"
      },
      "source": [
        "# plot the histogram of NTrans (after taking the log in cell above)\n",
        "\n",
        "df_c.NTrans.hist(alpha = .5)"
      ],
      "execution_count": 26,
      "outputs": [
        {
          "output_type": "execute_result",
          "data": {
            "text/plain": [
              "<matplotlib.axes._subplots.AxesSubplot at 0x7f366c0be350>"
            ]
          },
          "metadata": {},
          "execution_count": 26
        },
        {
          "output_type": "display_data",
          "data": {
            "image/png": "[encoded data removed]",
            "text/plain": [
              "<Figure size 432x288 with 1 Axes>"
            ]
          },
          "metadata": {
            "needs_background": "light"
          }
        }
      ]
    },
    {
      "cell_type": "code",
      "metadata": {
        "id": "IYmRVNPIf0DC",
        "colab": {
          "base_uri": "https://localhost:8080/",
          "height": 282
        },
        "outputId": "3abe8d2a-fd64-4fb9-ee5c-bbfbb37622b6"
      },
      "source": [
        "# plot the histogram of NProducts \n",
        "\n",
        "df_c.Nproducts.hist(alpha = .5)"
      ],
      "execution_count": 27,
      "outputs": [
        {
          "output_type": "execute_result",
          "data": {
            "text/plain": [
              "<matplotlib.axes._subplots.AxesSubplot at 0x7f366bfd7750>"
            ]
          },
          "metadata": {},
          "execution_count": 27
        },
        {
          "output_type": "display_data",
          "data": {
            "image/png": "[encoded data removed]",
            "text/plain": [
              "<Figure size 432x288 with 1 Axes>"
            ]
          },
          "metadata": {
            "needs_background": "light"
          }
        }
      ]
    },
    {
      "cell_type": "code",
      "metadata": {
        "id": "tE75Sq7if3Np",
        "colab": {
          "base_uri": "https://localhost:8080/",
          "height": 282
        },
        "outputId": "f4aeba72-1469-4a04-c18c-bb210e2b2969"
      },
      "source": [
        "# plot the histogram of TotalSpend \n",
        "\n",
        "df_c.TotalSpend.hist(alpha = .5)"
      ],
      "execution_count": 28,
      "outputs": [
        {
          "output_type": "execute_result",
          "data": {
            "text/plain": [
              "<matplotlib.axes._subplots.AxesSubplot at 0x7f366bf93e90>"
            ]
          },
          "metadata": {},
          "execution_count": 28
        },
        {
          "output_type": "display_data",
          "data": {
            "image/png": "[encoded data removed]",
            "text/plain": [
              "<Figure size 432x288 with 1 Axes>"
            ]
          },
          "metadata": {
            "needs_background": "light"
          }
        }
      ]
    },
    {
      "cell_type": "code",
      "metadata": {
        "id": "482290ggf7q5",
        "colab": {
          "base_uri": "https://localhost:8080/",
          "height": 282
        },
        "outputId": "5b4b7606-879c-40f4-b228-f0fd3b1f5431"
      },
      "source": [
        "# plot the histogram of TotalUnits\n",
        "\n",
        "df_c.TotalUnits.hist(alpha = .5)"
      ],
      "execution_count": 29,
      "outputs": [
        {
          "output_type": "execute_result",
          "data": {
            "text/plain": [
              "<matplotlib.axes._subplots.AxesSubplot at 0x7f366bedce90>"
            ]
          },
          "metadata": {},
          "execution_count": 29
        },
        {
          "output_type": "display_data",
          "data": {
            "image/png": "[encoded data removed]",
            "text/plain": [
              "<Figure size 432x288 with 1 Axes>"
            ]
          },
          "metadata": {
            "needs_background": "light"
          }
        }
      ]
    },
    {
      "cell_type": "code",
      "metadata": {
        "id": "UOarQXL4gFv6",
        "colab": {
          "base_uri": "https://localhost:8080/",
          "height": 282
        },
        "outputId": "92cced6f-2c7a-490d-9954-59a2b454fc1d"
      },
      "source": [
        "# plot the histogram of AveragePrice \n",
        "\n",
        "df_c.Average_Price.hist(alpha = .5)"
      ],
      "execution_count": 30,
      "outputs": [
        {
          "output_type": "execute_result",
          "data": {
            "text/plain": [
              "<matplotlib.axes._subplots.AxesSubplot at 0x7f366bea9910>"
            ]
          },
          "metadata": {},
          "execution_count": 30
        },
        {
          "output_type": "display_data",
          "data": {
            "image/png": "[encoded data removed]",
            "text/plain": [
              "<Figure size 432x288 with 1 Axes>"
            ]
          },
          "metadata": {
            "needs_background": "light"
          }
        }
      ]
    },
    {
      "cell_type": "code",
      "metadata": {
        "id": "OxlrIXpwH7qn",
        "colab": {
          "base_uri": "https://localhost:8080/",
          "height": 282
        },
        "outputId": "406e4bb9-78d2-4e90-d545-47f24a6e1737"
      },
      "source": [
        "# plot the histogram of SpendPerTrans \n",
        "\n",
        "df_c.SpendPerTrans.hist(alpha = .5)"
      ],
      "execution_count": 31,
      "outputs": [
        {
          "output_type": "execute_result",
          "data": {
            "text/plain": [
              "<matplotlib.axes._subplots.AxesSubplot at 0x7f366be02810>"
            ]
          },
          "metadata": {},
          "execution_count": 31
        },
        {
          "output_type": "display_data",
          "data": {
            "image/png": "[encoded data removed]",
            "text/plain": [
              "<Figure size 432x288 with 1 Axes>"
            ]
          },
          "metadata": {
            "needs_background": "light"
          }
        }
      ]
    },
    {
      "cell_type": "markdown",
      "metadata": {
        "id": "dDZw09uBeguU"
      },
      "source": [
        "**Answer this**\n",
        "\n",
        "Why might you want to transform these variables by taking logs of each of these variables? (Notice the difference after taking the log transformation)\n",
        "\n",
        "* Answer: You may want to transform these vaiables by taking logs to change trhe unit change to a percent change."
      ]
    },
    {
      "cell_type": "markdown",
      "metadata": {
        "id": "ZM6npcrmYLi9"
      },
      "source": [
        "# Create standaradized version of df_c\n",
        "\n",
        "1. Create `df_c_std` that has all the columns of `df_c` except `CustomerID`.\n",
        "1. Write a loop through all the columns of `df_c_std` to standardize each column (compute the z-score by subtracting mean and dividing by standard deviation).\n"
      ]
    },
    {
      "cell_type": "code",
      "metadata": {
        "id": "HiRlII9OYQgE",
        "colab": {
          "base_uri": "https://localhost:8080/",
          "height": 198
        },
        "outputId": "afff0844-d896-4541-de95-22f724180ee1"
      },
      "source": [
        "# First, create df_c_std by selecting all columns from df_c except CustomerID\n",
        "\n",
        "df_c_std = df_c.drop['CustomerID']\n",
        "df_c_std"
      ],
      "execution_count": 49,
      "outputs": [
        {
          "output_type": "error",
          "ename": "TypeError",
          "evalue": "ignored",
          "traceback": [
            "\u001b[0;31m---------------------------------------------------------------------------\u001b[0m",
            "\u001b[0;31mTypeError\u001b[0m                                 Traceback (most recent call last)",
            "\u001b[0;32m<ipython-input-49-b47c803641c4>\u001b[0m in \u001b[0;36m<module>\u001b[0;34m()\u001b[0m\n\u001b[1;32m      1\u001b[0m \u001b[0;31m# First, create df_c_std by selecting all columns from df_c except CustomerID\u001b[0m\u001b[0;34m\u001b[0m\u001b[0;34m\u001b[0m\u001b[0;34m\u001b[0m\u001b[0m\n\u001b[1;32m      2\u001b[0m \u001b[0;34m\u001b[0m\u001b[0m\n\u001b[0;32m----> 3\u001b[0;31m \u001b[0mdf_c_std\u001b[0m \u001b[0;34m=\u001b[0m \u001b[0mdf_c\u001b[0m\u001b[0;34m.\u001b[0m\u001b[0mdrop\u001b[0m\u001b[0;34m[\u001b[0m\u001b[0;34m'CustomerID'\u001b[0m\u001b[0;34m]\u001b[0m\u001b[0;34m\u001b[0m\u001b[0;34m\u001b[0m\u001b[0m\n\u001b[0m",
            "\u001b[0;31mTypeError\u001b[0m: 'method' object is not subscriptable"
          ]
        }
      ]
    },
    {
      "cell_type": "code",
      "metadata": {
        "id": "22TAskuVZamE"
      },
      "source": [
        "# write a loop to standardize each column of df_c_std\n",
        "# by replacing each column with (that column - the mean of the column) / std of column\n",
        "\n",
        "for c in df_c_std.columns[1:]:\n",
        "  df_c_std[c] = (df_c_std[c]-df_c[c].mean())/df_c_std[c].std(ddof=0)"
      ],
      "execution_count": null,
      "outputs": []
    },
    {
      "cell_type": "code",
      "metadata": {
        "id": "oXmMOxhyZ1eF"
      },
      "source": [
        "# preview df_c_std to make sure the values have been standardized \n",
        "\n",
        "df_c_std.head()"
      ],
      "execution_count": null,
      "outputs": []
    },
    {
      "cell_type": "markdown",
      "metadata": {
        "id": "k74kDrhraT7G"
      },
      "source": [
        "**Answer question**\n",
        "\n",
        "Why is it important to standardize variables before performing clustering?\n",
        "\n",
        "* Answer: To make sure data is consistent within the dataset, meaning it has the same content and format."
      ]
    },
    {
      "cell_type": "markdown",
      "metadata": {
        "id": "If2zZNEsmC10"
      },
      "source": [
        "# Part 2 Segmentation (5 points)\n"
      ]
    },
    {
      "cell_type": "markdown",
      "metadata": {
        "id": "9xNZsG0TYO8E"
      },
      "source": [
        "\n",
        "## Dimensionality reduction\n",
        "\n",
        "1. Compute the 2D principal components transformation of `df_c_std`, call this `transformed`\n",
        "1. Make sure `transformed` is a dataframe, then name the columns 'p0' and 'p1' for principal component 0 and 1, respectively.\n",
        "1. Add `p0` and `p1` to the df_c dataframe (create the same 2 columns in df_c).\n",
        "\n",
        "Create a scatter plot of the principal components 0 vs 1. \n"
      ]
    },
    {
      "cell_type": "markdown",
      "metadata": {
        "id": "g-UvjJcfbBMp"
      },
      "source": [
        "**Answer question**\n",
        "\n",
        "Why might you want to reduce the dimensionality of your data (using PCA) before performing clustering?\n",
        "\n",
        "* Answer: Reducing the dimensionality of your data will allow it to have an efficient processing time."
      ]
    },
    {
      "cell_type": "code",
      "metadata": {
        "id": "D7J7Iyeta6hx",
        "colab": {
          "base_uri": "https://localhost:8080/",
          "height": 232
        },
        "outputId": "f0b66f32-55e1-4f86-91a4-c16fcdd88720"
      },
      "source": [
        "# Use PCA to reduce df_c_std to its first 2 principle components\n",
        "# store the result as 2 columns in the *df_c* dataframe:\n",
        "# 'pc1' and 'pc2'\n",
        "\n",
        "from sklearn.decomposition import PCA\n",
        "pca = PCA(n_components=2)\n",
        "pca.fit_transform(df_c_std)\n",
        "\n",
        "transformed = pd.DataFrame(transformed, columns = ['pc1', 'pc2'])\n",
        "\n"
      ],
      "execution_count": 47,
      "outputs": [
        {
          "output_type": "error",
          "ename": "NameError",
          "evalue": "ignored",
          "traceback": [
            "\u001b[0;31m---------------------------------------------------------------------------\u001b[0m",
            "\u001b[0;31mNameError\u001b[0m                                 Traceback (most recent call last)",
            "\u001b[0;32m<ipython-input-47-96f3f70da765>\u001b[0m in \u001b[0;36m<module>\u001b[0;34m()\u001b[0m\n\u001b[1;32m      5\u001b[0m \u001b[0;32mfrom\u001b[0m \u001b[0msklearn\u001b[0m\u001b[0;34m.\u001b[0m\u001b[0mdecomposition\u001b[0m \u001b[0;32mimport\u001b[0m \u001b[0mPCA\u001b[0m\u001b[0;34m\u001b[0m\u001b[0;34m\u001b[0m\u001b[0m\n\u001b[1;32m      6\u001b[0m \u001b[0mpca\u001b[0m \u001b[0;34m=\u001b[0m \u001b[0mPCA\u001b[0m\u001b[0;34m(\u001b[0m\u001b[0mn_components\u001b[0m\u001b[0;34m=\u001b[0m\u001b[0;36m2\u001b[0m\u001b[0;34m)\u001b[0m\u001b[0;34m\u001b[0m\u001b[0;34m\u001b[0m\u001b[0m\n\u001b[0;32m----> 7\u001b[0;31m \u001b[0mpca\u001b[0m\u001b[0;34m.\u001b[0m\u001b[0mfit_transform\u001b[0m\u001b[0;34m(\u001b[0m\u001b[0mdf_c_std\u001b[0m\u001b[0;34m)\u001b[0m\u001b[0;34m\u001b[0m\u001b[0;34m\u001b[0m\u001b[0m\n\u001b[0m\u001b[1;32m      8\u001b[0m \u001b[0;34m\u001b[0m\u001b[0m\n\u001b[1;32m      9\u001b[0m \u001b[0mtransformed\u001b[0m \u001b[0;34m=\u001b[0m \u001b[0mpd\u001b[0m\u001b[0;34m.\u001b[0m\u001b[0mDataFrame\u001b[0m\u001b[0;34m(\u001b[0m\u001b[0mtransformed\u001b[0m\u001b[0;34m,\u001b[0m \u001b[0mcolumns\u001b[0m \u001b[0;34m=\u001b[0m \u001b[0;34m[\u001b[0m\u001b[0;34m'pc1'\u001b[0m\u001b[0;34m,\u001b[0m \u001b[0;34m'pc2'\u001b[0m\u001b[0;34m]\u001b[0m\u001b[0;34m)\u001b[0m\u001b[0;34m\u001b[0m\u001b[0;34m\u001b[0m\u001b[0m\n",
            "\u001b[0;31mNameError\u001b[0m: name 'df_c_std' is not defined"
          ]
        }
      ]
    },
    {
      "cell_type": "code",
      "metadata": {
        "id": "yTqP6A_KdVVz"
      },
      "source": [
        "# take a look at df_c to make sure principle components are in the dataframe\n",
        "\n",
        "df_c.head()"
      ],
      "execution_count": null,
      "outputs": []
    },
    {
      "cell_type": "code",
      "metadata": {
        "id": "4eyoD1r2dxoq"
      },
      "source": [
        "# Create a scatterplot of pc1 vs pc2\n",
        "\n",
        "plt.scatter(df.pc1, df.pc2)"
      ],
      "execution_count": null,
      "outputs": []
    },
    {
      "cell_type": "markdown",
      "metadata": {
        "id": "YM7vMz1zaKcS"
      },
      "source": [
        "\n",
        "## Segmentation\n",
        "Using a loop, compute the k-means clustering for $k$ from 2 to 10 segments using the `transformed` dataframe. Store the segment as the column `'seg2'`,`'seg3'`,...,`'seg10'` in the `df_c` dataframe. Make sure you store the inertia metrics in a list called `elbowdata` like in the notes. Create the elbow plot for your k-means clustering. \n",
        "\n",
        "1. How many segments does there appear to be based on the elbow plot?\n",
        "1. Use a loop to plot p0 vs p1 for each segment (different color for each segment)\n",
        "1. Use a groupby statement to show the mean of the variables in the raw versions (not z-scores) used to conduct the segmentation. e.g. what are the averages of `['NTrans', 'NProducts', 'TotalSpend', 'AveragePrice', 'SpendPerTrans', 'SKUsPerTrans']`\n",
        "\n",
        "1. In a few sentences, describe what are the characteristics of the resulting segments. Any distinctive segments?\n",
        "\n",
        "**Hints**\n",
        "1. Note here that `k` should be the number of clusters at each iteration of your loop, e.g. `for k in ....` \n",
        "2. `df_c['seg{}'.format(k)]=` your k-means segmentation to create the `'seg2'`, ..., `'seg15'` columns."
      ]
    },
    {
      "cell_type": "code",
      "metadata": {
        "id": "PoySPb11g4Oz"
      },
      "source": [
        "# Write a loop to perform k-means segmentation \n",
        "# on the principal component columns, e.g. pc1 and pc2, in *df_c*\n",
        "# for k from 2 to 10, e.g. for k in range(2,11):\n",
        "# Be sure to save the inertia metric to create the elbowplot\n",
        "# see similar example in notes\n",
        "\n",
        "for k in range(2,11):\n",
        "  clusterer = KMeans(n_clusters=k)\n",
        "  df_c['seg{}'.format(k)]= clusterer.fit_predict(transformed)\n",
        "  inertia = clusterer.inertia_\n",
        "  elbowdata.append([k, inertia])\n",
        "elbowdata = pd.DataFrame(elbowdata, columns = ['k', 'inertia']) "
      ],
      "execution_count": null,
      "outputs": []
    },
    {
      "cell_type": "code",
      "metadata": {
        "id": "dJBzu1CSjpqa"
      },
      "source": [
        "# preview your dataframe df_c to get an idea of the contents\n",
        "\n",
        "df_c"
      ],
      "execution_count": null,
      "outputs": []
    },
    {
      "cell_type": "markdown",
      "metadata": {
        "id": "LAGmDztOj8fo"
      },
      "source": [
        "**Answer this**\n",
        "What does each of the segk (for k =1,...,10) columns represent?\n",
        "\n",
        "1. Answer: a cluster of averages"
      ]
    },
    {
      "cell_type": "code",
      "metadata": {
        "id": "b8f-xQZHhur2"
      },
      "source": [
        "# Create the elbow plot\n",
        "\n",
        "fig, ax = plt.subplots(1, figsize = (10,8))\n",
        "ax.plot(elbowdata.k, elbowdata.inertia)"
      ],
      "execution_count": null,
      "outputs": []
    },
    {
      "cell_type": "markdown",
      "metadata": {
        "id": "Kmh4Hzbpir6H"
      },
      "source": [
        "**Answer this**\n",
        "Based on the eyeball test, where is the \"elbow\"? i.e. how many clusters seems the \"right\" number\n",
        "1. Answer: The elbow is around (3, 2.75) on the x and y axis.\n",
        "There seems to be 6 segments."
      ]
    },
    {
      "cell_type": "markdown",
      "metadata": {
        "id": "KPpc9erki3_R"
      },
      "source": [
        "## Inspect segments"
      ]
    },
    {
      "cell_type": "code",
      "metadata": {
        "id": "0HopXsWkjepu"
      },
      "source": [
        "# Write a loop through each of the segments in your optimal KMeans cluster \n",
        "# and plot pc1 vs pc2 for that segment\n",
        "# similar to plotting price vs demand for each region of avocados dataset\n",
        "# use dot size 1\n",
        "# e.g.\n",
        "# for s in df_c['segk'].unique():\n",
        "#     temp = df_c[df_c['segk'] == s]\n",
        "#     plt.scatter(temp.pc1, temp.pc2, s = 1)\n",
        "# where segk is whichever KMeans result you deemed optimal based on previous elbow plot \n",
        "\n",
        "for s in df_c['segk'].unique():\n",
        "     temp = df_c[df_c['segk'] == s]\n",
        "     plt.scatter(temp.pc1, temp.pc2, s = 1)\n",
        "\n",
        "#could not find segk"
      ],
      "execution_count": null,
      "outputs": []
    },
    {
      "cell_type": "markdown",
      "metadata": {
        "id": "3TTVE4COi8Dp"
      },
      "source": [
        "Compute the average of: \n",
        "```\n",
        "NTrans\tNProducts\tTotalSpend\tTotalUnits\tAveragePrice SpendPerTrans\n",
        "```\n",
        "For each segment of the optimal KMeans segmentation (optimal being the k you found above in elbow plot).\n",
        "\n",
        "Since these variables in df_c have been log-transformed, use np.exp(the appropriate groupby + mean statement) to take the exponent of the resulting means, i.e. \"undo\" the log-transformation.\n",
        "\n",
        "e.g. np.exp(df.groupby('grpvar')['var1', 'var2','var3',...,etc.].mean())"
      ]
    },
    {
      "cell_type": "code",
      "metadata": {
        "id": "xAwQEioMjcw9"
      },
      "source": [
        "# segment averages\n",
        "\n",
        "np.exp(df.groupby('seg3')['NTrans', 'NProducts', 'TotalSpend', 'TotalUnits', 'AveragePrice', 'SpendPerTrans'].mean())"
      ],
      "execution_count": null,
      "outputs": []
    },
    {
      "cell_type": "markdown",
      "metadata": {
        "id": "5EpCCf8yaNid"
      },
      "source": [
        "**Answer questions below**\n",
        "1. Which segment buys the most expensive items?\n",
        "    * Answer: Could not compute code\n",
        "1. Which segment spends the most? \n",
        "    * Answer: Could not compute code\n",
        "1. Which segment buys the most variety of products?\n",
        "    * Answer: Could not compute code\n",
        "1. Which segment buys the  least variety of products?\n",
        "    * Answer: Could not compute code\n",
        "1. Are there any segments that seem like they should be combined?\n",
        "    * Answer: Total Spend and SpendPerTrans\n",
        "1. Suppose you want to run some promotions that will get customers to spend more. Pick 2 of the segments that are very different and describe a hypothetical promotional campaign targeted at each (e.g. could be some kind discount with a min. spend qualification, or maybe some kind of a volume discount, etc. - be creative). Explain why each campaign might be a better fit for the targeted segment.\n",
        "    * Answer: Could not compute code"
      ]
    },
    {
      "cell_type": "code",
      "metadata": {
        "id": "-pLDtx8lmPzq"
      },
      "source": [
        ""
      ],
      "execution_count": null,
      "outputs": []
    },
    {
      "cell_type": "code",
      "metadata": {
        "id": "50TWKVKCLmJh"
      },
      "source": [
        ""
      ],
      "execution_count": null,
      "outputs": []
    }
  ]
}