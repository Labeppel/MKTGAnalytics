{
  "nbformat": 4,
  "nbformat_minor": 0,
  "metadata": {
    "colab": {
      "name": "A10 Text_Analysis_Tutorial.ipynb",
      "provenance": [],
      "collapsed_sections": []
    },
    "kernelspec": {
      "display_name": "Python 3",
      "name": "python3"
    }
  },
  "cells": [
    {
      "cell_type": "markdown",
      "metadata": {
        "id": "KPwEyELGoIzD"
      },
      "source": [
        "**Rationale** Texts have become one of the most ubiquitous forms of marketing data in the digital economy. Perhaps nowhere is this more prevalent than in the online reviews domain. In our notes, we examined how natural language processing (NLP) techniques can be applied to Yelp restaurant reviews. On this homework assignment, you will apply the same tools to mine TripAdvisor hotel reviews. This dataset includes all TripAdvisor reviews written in 2015 (through part of 2016) for high review volume Vegas resorts and was collected as part of a large web crawl of over 50 Million online reviews at over 428k worldwide hotels by your professor and his colleague, Dr. Alex Chaudhry in 2016. \n",
        "\n",
        "* [Dataset](https://drive.google.com/drive/folders/16eyzTI32aKsKiLf9oPMzL3v2U30afd01?usp=sharing)\n",
        "\n",
        "You will only need:\n",
        "* vegas_2015_reviews.csv contains the reviews \n",
        "* vegas_info.csv contains a list of venues in Vegas\n",
        "\n",
        "Get started early on this assignment, some components **take a while to run**. "
      ]
    },
    {
      "cell_type": "markdown",
      "metadata": {
        "id": "RDtd9GIbopTs"
      },
      "source": [
        "This assignment will be slightly different. Please follow all prompts.\n",
        "\n",
        "1. This is a walkthrough tutorial, mostly. I have provided you with most of the necessary code. Your job is to run it, read it, understand how it relates to NLP concepts.\n",
        "1. There are many questions throughout. You will primarily be graded on these.\n",
        "1. There are a few places where I ask you to write some code. Pay attention to every cell, make sure you don't skip a cell that you must fill in on accident. Hopefully, this foces you to read through the code thoroughly."
      ]
    },
    {
      "cell_type": "markdown",
      "metadata": {
        "id": "fQ2JaIGTmQgL"
      },
      "source": [
        "# Imports and helper functions (execute these cells first)"
      ]
    },
    {
      "cell_type": "code",
      "metadata": {
        "colab": {
          "base_uri": "https://localhost:8080/"
        },
        "id": "J_ikf5j2tfCa",
        "outputId": "1e4c43b1-8765-4555-a5d4-deb043b05834"
      },
      "source": [
        "from google.colab import drive\n",
        "drive.mount('drive/')"
      ],
      "execution_count": 1,
      "outputs": [
        {
          "output_type": "stream",
          "name": "stdout",
          "text": [
            "Mounted at drive/\n"
          ]
        }
      ]
    },
    {
      "cell_type": "code",
      "metadata": {
        "id": "LpFdjrLUtiZu"
      },
      "source": [
        "import pandas as pd, numpy as np, matplotlib.pyplot as plt, os\n",
        "from textblob import TextBlob \n"
      ],
      "execution_count": 2,
      "outputs": []
    },
    {
      "cell_type": "code",
      "metadata": {
        "colab": {
          "base_uri": "https://localhost:8080/"
        },
        "id": "qHuXou0em8_y",
        "outputId": "be645e08-e6b3-4290-ade3-c93920cb617b"
      },
      "source": [
        "# imports\n",
        "\n",
        "import nltk\n",
        "nltk.download('stopwords') # download stopwords from NLTK servers\n",
        "from nltk.corpus import stopwords # import them\n",
        "sw = stopwords.words('english')\n",
        "\n",
        "\n",
        "import pandas as pd, numpy as np, matplotlib.pyplot as plt, os, time # standard imports\n",
        "from itertools import chain\n",
        "\n",
        "# for sentiment analysis\n",
        "from textblob import TextBlob \n",
        "\n",
        "# for doing text processing and LDA\n",
        "import spacy\n",
        "from gensim.models.ldamulticore import LdaMulticore # this is the multi-core version\n",
        "from gensim import corpora # import the corpora module\n",
        "from gensim.models import Phrases\n",
        "from gensim.models import tfidfmodel\n",
        "from gensim.models.word2vec import LineSentence\n",
        "from sklearn.model_selection import train_test_split"
      ],
      "execution_count": 3,
      "outputs": [
        {
          "output_type": "stream",
          "name": "stdout",
          "text": [
            "[nltk_data] Downloading package stopwords to /root/nltk_data...\n",
            "[nltk_data]   Unzipping corpora/stopwords.zip.\n"
          ]
        }
      ]
    },
    {
      "cell_type": "code",
      "metadata": {
        "id": "gV4n5r35nEdQ"
      },
      "source": [
        "# Helper Functions\n",
        "def line_doc(filename, encode = 'utf-8'):\n",
        "    \"\"\"\n",
        "    generator function to read in reviews from the file\n",
        "    and un-escape the original line breaks in the text\n",
        "    \"\"\"\n",
        "    with open(filename, 'r', encoding = encode) as f:\n",
        "        for txt in f:\n",
        "            # yield returns next line\n",
        "            yield txt.replace('\\\\n', '\\n')\n",
        "            # and get rid of any line breaks\n",
        "\n",
        "# parsing to be done per sentence\n",
        "def lemmatize(s, exclude):\n",
        "    return [w.lemma_.lower() for w in s if (w.lemma_ not in exclude)&(~w.is_punct)]\n",
        "\n",
        "\n",
        "# next will be a function that will pass a filename to the line_doc function\n",
        "# and generate the parsed versions of ***EVERY SENTENCE***\n",
        "# this function streams a file at filename and yields one parsed sentence at a time\n",
        "def lemmatize_sentence_corpus(filename,nlp, batch_size, n_threads, sw=[], exclusions=[], encode = 'utf-8'):\n",
        "    nlp.disable_pipes([\"ner\"]) # disable ner and tagger makes it a little faster\n",
        "    # batch_size is the number of documents to parse in memory at a time\n",
        "    # n_threads it the number of parallel (simultaneous processes to run)\n",
        "    # n_threads is limited by the number of virtual cpu's on the system\n",
        "    # the default free Colab system has only 2 virtual cores\n",
        "    # most modern computers have at least 4\n",
        "    exclude = set(sw + exclusions)\n",
        "    for parsed_txt in nlp.pipe(line_doc(filename, encode = encode),batch_size=batch_size, n_threads=n_threads):\n",
        "            for sent in parsed_txt.sents:\n",
        "                yield ' '.join(lemmatize(sent, exclude))\n",
        "\n",
        "\n",
        "def write_parsed_sentence_corpus(readfile, writefile, nlp, batch_size, n_threads, sw=[], exclusions =[], encode = 'utf-8'):\n",
        "    streamingfile = lemmatize_sentence_corpus(readfile,nlp, batch_size, n_threads, sw=sw, exclusions=exclusions, encode = encode)\n",
        "    with open(writefile, 'w', encoding = encode) as f:\n",
        "        for sentence in streamingfile:\n",
        "            if len(sentence)>0: # write sentence if includes non stopwords\n",
        "                f.write(sentence+'\\n')\n",
        "    print('Success')\n",
        "\n",
        "\n",
        "def phrase_detection(parsedfile, folderpath, passes = 2, returnmodels = True,threshold=10., encode = 'utf-8'):\n",
        "    \"\"\"\n",
        "    parsedfile is the file location and name of the parsed sentence file\n",
        "    folderpath is where the models and phrase detected texts need to be stored\n",
        "\n",
        "    This function does phrase modeling. User specifies the number of passes.\n",
        "    Each additional pass detects longer phrases. The maximum detectable phrase length for\n",
        "    each pass, n, is 2^n.\n",
        "    Returns the list of models by default. Also saves models and intermediary\n",
        "    phrased sentences for each pass.\n",
        "    \"\"\"\n",
        "    ngram = list()\n",
        "    for it in range(passes):\n",
        "        gen = LineSentence(parsedfile)\n",
        "        gram=Phrases(gen, threshold = threshold)\n",
        "        ngram.append(gram)\n",
        "        modelpath = folderpath+'phrase_model_{}.phrasemodel'.format(it+1)\n",
        "        textpath = folderpath+'sent_gram_{}.txt'.format(it+1)\n",
        "        parsedfile = textpath\n",
        "        gram.save(modelpath)\n",
        "        # Write sentence n-gram\n",
        "        with open(textpath, 'w', encoding=encode) as f:\n",
        "            for sent in gen:\n",
        "                new_sent = ' '.join(gram[sent])\n",
        "                f.write(new_sent + '\\n')\n",
        "\n",
        "    if returnmodels == True:\n",
        "        return ngram\n",
        "\n",
        "\n",
        "def phrase_prediction(rawfilepath, outpath,nlp, grams, sw =[], exclusions = [], batch_size = 500, n_threads = 2, encode = 'utf-8'):\n",
        "    \"\"\"\n",
        "    rawfilepath is where the raw reviews (where 1 line = 1 review) are saved \n",
        "    outpath is where to save the resulting parsed and phrase modeled reviews\n",
        "    nlp is the spacy parser object\n",
        "    grams is a list of phrasemodels\n",
        "    sw is a list of stopwords\n",
        "    exclusions are additional words to exclude\n",
        "\n",
        "    \"\"\"\n",
        "    with open(outpath, 'w', encoding = encode) as f:\n",
        "        \n",
        "        nlp.disable_pipes([\"ner\"]) # disable ner and tagger makes it a little faster\n",
        "        exclude = set(sw + exclusions)\n",
        "        \n",
        "        for parsed_txt in nlp.pipe(line_doc(rawfilepath, encode = encode),batch_size=batch_size, n_threads=n_threads):\n",
        "            doc = list()\n",
        "            for sent in parsed_txt.sents:\n",
        "                parsed = lemmatize(sent, exclude)\n",
        "                for gram in grams: # loop through phrase models\n",
        "                    parsed = gram[parsed] # apply phrase model transformation to sentence\n",
        "                doc.append(' '.join(parsed).strip()) # append resulting phrase modeled sentence to list \"doc\"\n",
        "            # write the transformed review as a single line in the new file\n",
        "            txt_gram = ' '.join(doc).strip() # join all sentences in doc together as txt_gram\n",
        "            f.write(txt_gram + '\\n') # write the entire phrase modeled and parsed doc as one line in file"
      ],
      "execution_count": 4,
      "outputs": []
    },
    {
      "cell_type": "markdown",
      "metadata": {
        "id": "nXCg7OX2nMPr"
      },
      "source": [
        "# Put together the dataset (1 point)"
      ]
    },
    {
      "cell_type": "code",
      "metadata": {
        "colab": {
          "base_uri": "https://localhost:8080/"
        },
        "id": "Lo4zawFItov6",
        "outputId": "6faf8a72-e7f7-40b7-fb84-d6625b5969c0"
      },
      "source": [
        "fpath = 'drive/MyDrive/A10/' # change this filepath\n",
        "os.listdir(fpath)"
      ],
      "execution_count": 5,
      "outputs": [
        {
          "output_type": "execute_result",
          "data": {
            "text/plain": [
              "['vegas_vinfo.csv',\n",
              " 'vegas2015reviews.csv',\n",
              " 'sent_gram_1.txt',\n",
              " 'review_sentences.txt',\n",
              " 'rawtexts.txt',\n",
              " 'parsed_reviews.txt',\n",
              " 'phrase_model_1.phrasemodel',\n",
              " 'sent_gram_2.txt',\n",
              " 'phrase_model_2.phrasemodel',\n",
              " 'nlppath']"
            ]
          },
          "metadata": {},
          "execution_count": 5
        }
      ]
    },
    {
      "cell_type": "code",
      "metadata": {
        "colab": {
          "base_uri": "https://localhost:8080/",
          "height": 345
        },
        "id": "adDi-gF9yrh-",
        "outputId": "f1d1751b-627e-4ad9-86bd-647b0a05f6d2"
      },
      "source": [
        "# read in the vegas_vinfo file (vegas venue info)\n",
        "df_biz = pd.read_csv(fpath + 'vegas_vinfo.csv', index_col = 0)\n",
        "df_biz.head()"
      ],
      "execution_count": 6,
      "outputs": [
        {
          "output_type": "execute_result",
          "data": {
            "text/html": [
              "<div>\n",
              "<style scoped>\n",
              "    .dataframe tbody tr th:only-of-type {\n",
              "        vertical-align: middle;\n",
              "    }\n",
              "\n",
              "    .dataframe tbody tr th {\n",
              "        vertical-align: top;\n",
              "    }\n",
              "\n",
              "    .dataframe thead th {\n",
              "        text-align: right;\n",
              "    }\n",
              "</style>\n",
              "<table border=\"1\" class=\"dataframe\">\n",
              "  <thead>\n",
              "    <tr style=\"text-align: right;\">\n",
              "      <th></th>\n",
              "      <th>ranking</th>\n",
              "      <th>rating_vol</th>\n",
              "      <th>rdetails</th>\n",
              "      <th>lnglat</th>\n",
              "      <th>rsubrating</th>\n",
              "      <th>vtype</th>\n",
              "      <th>amenities</th>\n",
              "      <th>details</th>\n",
              "      <th>v_name</th>\n",
              "      <th>rating_cat</th>\n",
              "      <th>gd</th>\n",
              "    </tr>\n",
              "  </thead>\n",
              "  <tbody>\n",
              "    <tr>\n",
              "      <th>0</th>\n",
              "      <td>[10, 33]</td>\n",
              "      <td>60.0</td>\n",
              "      <td>NaN</td>\n",
              "      <td>[-115.06332, 36.1191]</td>\n",
              "      <td>{}</td>\n",
              "      <td>Hotel_Review</td>\n",
              "      <td>{'Services': 'Free Parking Banquet Room Self-S...</td>\n",
              "      <td>{'Number of rooms:': '398 ', 'Address:': '3890...</td>\n",
              "      <td>Las Vegas RV Resort</td>\n",
              "      <td>4.0</td>\n",
              "      <td>g45963-d3600552</td>\n",
              "    </tr>\n",
              "    <tr>\n",
              "      <th>1</th>\n",
              "      <td>[209, 267]</td>\n",
              "      <td>63.0</td>\n",
              "      <td>NaN</td>\n",
              "      <td>[-115.08308, 36.127922]</td>\n",
              "      <td>{}</td>\n",
              "      <td>Hotel_Review</td>\n",
              "      <td>{'Things to do': 'Pool Fitness Center with Gym...</td>\n",
              "      <td>{'Address:': '4240 Boulder Hwy, Las Vegas, NV ...</td>\n",
              "      <td>Crossland Economy Studios - Las Vegas - Boulde...</td>\n",
              "      <td>2.5</td>\n",
              "      <td>g45963-d97850</td>\n",
              "    </tr>\n",
              "    <tr>\n",
              "      <th>2</th>\n",
              "      <td>[197, 267]</td>\n",
              "      <td>100.0</td>\n",
              "      <td>NaN</td>\n",
              "      <td>[-115.19604, 36.20166]</td>\n",
              "      <td>{}</td>\n",
              "      <td>Hotel_Review</td>\n",
              "      <td>{'Room types': 'Non-Smoking Rooms ', 'Services...</td>\n",
              "      <td>{'Address:': '2400 N Rancho Dr, Las Vegas, NV ...</td>\n",
              "      <td>Fiesta Rancho Hotel and Casino</td>\n",
              "      <td>2.5</td>\n",
              "      <td>g45963-d121329</td>\n",
              "    </tr>\n",
              "    <tr>\n",
              "      <th>3</th>\n",
              "      <td>[228, 267]</td>\n",
              "      <td>27.0</td>\n",
              "      <td>NaN</td>\n",
              "      <td>[-115.19868, 36.201473]</td>\n",
              "      <td>{}</td>\n",
              "      <td>Hotel_Review</td>\n",
              "      <td>{'Things to do': 'Pool ', 'About the property'...</td>\n",
              "      <td>{'Also Known As:': 'Budget Suites Of America N...</td>\n",
              "      <td>Budget Suites of America North Rancho Drive</td>\n",
              "      <td>1.5</td>\n",
              "      <td>g45963-d91750</td>\n",
              "    </tr>\n",
              "    <tr>\n",
              "      <th>4</th>\n",
              "      <td>[1, 33]</td>\n",
              "      <td>271.0</td>\n",
              "      <td>NaN</td>\n",
              "      <td>[-115.1785, 36.040703]</td>\n",
              "      <td>{}</td>\n",
              "      <td>Hotel_Review</td>\n",
              "      <td>{'Services': 'Self-Serve Laundry Free Parking ...</td>\n",
              "      <td>{'Also Known As:': 'Oasis Las Vegas Rv Hotel L...</td>\n",
              "      <td>Oasis Las Vegas RV Resort</td>\n",
              "      <td>4.5</td>\n",
              "      <td>g45963-d226809</td>\n",
              "    </tr>\n",
              "  </tbody>\n",
              "</table>\n",
              "</div>"
            ],
            "text/plain": [
              "      ranking  rating_vol  ...  rating_cat               gd\n",
              "0    [10, 33]        60.0  ...         4.0  g45963-d3600552\n",
              "1  [209, 267]        63.0  ...         2.5    g45963-d97850\n",
              "2  [197, 267]       100.0  ...         2.5   g45963-d121329\n",
              "3  [228, 267]        27.0  ...         1.5    g45963-d91750\n",
              "4     [1, 33]       271.0  ...         4.5   g45963-d226809\n",
              "\n",
              "[5 rows x 11 columns]"
            ]
          },
          "metadata": {},
          "execution_count": 6
        }
      ]
    },
    {
      "cell_type": "markdown",
      "metadata": {
        "id": "kbjtLQLXpNGr"
      },
      "source": [
        "Variable definitions\n",
        "1. ranking: list [hotel rank, total hotels in neighborhood]\n",
        "1. rating_vol: total ratings\n",
        "1. rdetails: ignore, none of hotels have this field (only restaurants do)\n",
        "1. lnglat: [longitude,latitude] of hotel\n",
        "1. rsubrating: ignore, only restaurants have this\n",
        "1. amenities: a dictionary of amenities categories mapped to amenities list\n",
        "1. details: a dictionary of hotel information fields mapped to hotel data (like addrese, phone, website, etc.)\n",
        "1. v_name: the official name of the hotel \n",
        "1. rating_cat: The summary star rating (in half star increments) displayed to the user. \n",
        "1. gd: The unique hotel identifier."
      ]
    },
    {
      "cell_type": "code",
      "metadata": {
        "colab": {
          "base_uri": "https://localhost:8080/"
        },
        "id": "Or-scSN3d5iJ",
        "outputId": "c09f5dfc-5b91-4715-a8fe-ca445159b116"
      },
      "source": [
        "# return the shape of df_biz:\n",
        "df_biz.shape"
      ],
      "execution_count": 7,
      "outputs": [
        {
          "output_type": "execute_result",
          "data": {
            "text/plain": [
              "(237, 11)"
            ]
          },
          "metadata": {},
          "execution_count": 7
        }
      ]
    },
    {
      "cell_type": "code",
      "metadata": {
        "colab": {
          "base_uri": "https://localhost:8080/",
          "height": 736
        },
        "id": "ygm_bvoeneF3",
        "outputId": "351d7a3c-2884-49b2-a073-60bf9ebb915e"
      },
      "source": [
        "# preview df_biz\n",
        "df_biz"
      ],
      "execution_count": 8,
      "outputs": [
        {
          "output_type": "execute_result",
          "data": {
            "text/html": [
              "<div>\n",
              "<style scoped>\n",
              "    .dataframe tbody tr th:only-of-type {\n",
              "        vertical-align: middle;\n",
              "    }\n",
              "\n",
              "    .dataframe tbody tr th {\n",
              "        vertical-align: top;\n",
              "    }\n",
              "\n",
              "    .dataframe thead th {\n",
              "        text-align: right;\n",
              "    }\n",
              "</style>\n",
              "<table border=\"1\" class=\"dataframe\">\n",
              "  <thead>\n",
              "    <tr style=\"text-align: right;\">\n",
              "      <th></th>\n",
              "      <th>ranking</th>\n",
              "      <th>rating_vol</th>\n",
              "      <th>rdetails</th>\n",
              "      <th>lnglat</th>\n",
              "      <th>rsubrating</th>\n",
              "      <th>vtype</th>\n",
              "      <th>amenities</th>\n",
              "      <th>details</th>\n",
              "      <th>v_name</th>\n",
              "      <th>rating_cat</th>\n",
              "      <th>gd</th>\n",
              "    </tr>\n",
              "  </thead>\n",
              "  <tbody>\n",
              "    <tr>\n",
              "      <th>0</th>\n",
              "      <td>[10, 33]</td>\n",
              "      <td>60.0</td>\n",
              "      <td>NaN</td>\n",
              "      <td>[-115.06332, 36.1191]</td>\n",
              "      <td>{}</td>\n",
              "      <td>Hotel_Review</td>\n",
              "      <td>{'Services': 'Free Parking Banquet Room Self-S...</td>\n",
              "      <td>{'Number of rooms:': '398 ', 'Address:': '3890...</td>\n",
              "      <td>Las Vegas RV Resort</td>\n",
              "      <td>4.0</td>\n",
              "      <td>g45963-d3600552</td>\n",
              "    </tr>\n",
              "    <tr>\n",
              "      <th>1</th>\n",
              "      <td>[209, 267]</td>\n",
              "      <td>63.0</td>\n",
              "      <td>NaN</td>\n",
              "      <td>[-115.08308, 36.127922]</td>\n",
              "      <td>{}</td>\n",
              "      <td>Hotel_Review</td>\n",
              "      <td>{'Things to do': 'Pool Fitness Center with Gym...</td>\n",
              "      <td>{'Address:': '4240 Boulder Hwy, Las Vegas, NV ...</td>\n",
              "      <td>Crossland Economy Studios - Las Vegas - Boulde...</td>\n",
              "      <td>2.5</td>\n",
              "      <td>g45963-d97850</td>\n",
              "    </tr>\n",
              "    <tr>\n",
              "      <th>2</th>\n",
              "      <td>[197, 267]</td>\n",
              "      <td>100.0</td>\n",
              "      <td>NaN</td>\n",
              "      <td>[-115.19604, 36.20166]</td>\n",
              "      <td>{}</td>\n",
              "      <td>Hotel_Review</td>\n",
              "      <td>{'Room types': 'Non-Smoking Rooms ', 'Services...</td>\n",
              "      <td>{'Address:': '2400 N Rancho Dr, Las Vegas, NV ...</td>\n",
              "      <td>Fiesta Rancho Hotel and Casino</td>\n",
              "      <td>2.5</td>\n",
              "      <td>g45963-d121329</td>\n",
              "    </tr>\n",
              "    <tr>\n",
              "      <th>3</th>\n",
              "      <td>[228, 267]</td>\n",
              "      <td>27.0</td>\n",
              "      <td>NaN</td>\n",
              "      <td>[-115.19868, 36.201473]</td>\n",
              "      <td>{}</td>\n",
              "      <td>Hotel_Review</td>\n",
              "      <td>{'Things to do': 'Pool ', 'About the property'...</td>\n",
              "      <td>{'Also Known As:': 'Budget Suites Of America N...</td>\n",
              "      <td>Budget Suites of America North Rancho Drive</td>\n",
              "      <td>1.5</td>\n",
              "      <td>g45963-d91750</td>\n",
              "    </tr>\n",
              "    <tr>\n",
              "      <th>4</th>\n",
              "      <td>[1, 33]</td>\n",
              "      <td>271.0</td>\n",
              "      <td>NaN</td>\n",
              "      <td>[-115.1785, 36.040703]</td>\n",
              "      <td>{}</td>\n",
              "      <td>Hotel_Review</td>\n",
              "      <td>{'Services': 'Self-Serve Laundry Free Parking ...</td>\n",
              "      <td>{'Also Known As:': 'Oasis Las Vegas Rv Hotel L...</td>\n",
              "      <td>Oasis Las Vegas RV Resort</td>\n",
              "      <td>4.5</td>\n",
              "      <td>g45963-d226809</td>\n",
              "    </tr>\n",
              "    <tr>\n",
              "      <th>...</th>\n",
              "      <td>...</td>\n",
              "      <td>...</td>\n",
              "      <td>...</td>\n",
              "      <td>...</td>\n",
              "      <td>...</td>\n",
              "      <td>...</td>\n",
              "      <td>...</td>\n",
              "      <td>...</td>\n",
              "      <td>...</td>\n",
              "      <td>...</td>\n",
              "      <td>...</td>\n",
              "    </tr>\n",
              "    <tr>\n",
              "      <th>232</th>\n",
              "      <td>[26, 267]</td>\n",
              "      <td>1965.0</td>\n",
              "      <td>NaN</td>\n",
              "      <td>[-115.17187, 36.11503]</td>\n",
              "      <td>{}</td>\n",
              "      <td>Hotel_Review</td>\n",
              "      <td>{'Things to do': 'Pool Restaurant Bar/Lounge C...</td>\n",
              "      <td>{'Address:': '3595 Las Vegas Boulevard South, ...</td>\n",
              "      <td>The Cromwell</td>\n",
              "      <td>4.5</td>\n",
              "      <td>g45963-d6537691</td>\n",
              "    </tr>\n",
              "    <tr>\n",
              "      <th>233</th>\n",
              "      <td>[47, 267]</td>\n",
              "      <td>3007.0</td>\n",
              "      <td>NaN</td>\n",
              "      <td>[-115.195, 36.11422]</td>\n",
              "      <td>{}</td>\n",
              "      <td>Hotel_Review</td>\n",
              "      <td>{'Things to do': 'Fitness Center with Gym / Wo...</td>\n",
              "      <td>{'Address:': '4321 West Flamingo Road, Las Veg...</td>\n",
              "      <td>Palms Casino Resort</td>\n",
              "      <td>4.0</td>\n",
              "      <td>g45963-d208820</td>\n",
              "    </tr>\n",
              "    <tr>\n",
              "      <th>234</th>\n",
              "      <td>[100, 267]</td>\n",
              "      <td>546.0</td>\n",
              "      <td>NaN</td>\n",
              "      <td>[-115.14454, 36.1732]</td>\n",
              "      <td>{}</td>\n",
              "      <td>Hotel_Review</td>\n",
              "      <td>{'Things to do': 'Pool Restaurant Casino and G...</td>\n",
              "      <td>{'Address:': '12 E Ogden Ave, Las Vegas, NV 89...</td>\n",
              "      <td>California Hotel</td>\n",
              "      <td>3.5</td>\n",
              "      <td>g45963-d91763</td>\n",
              "    </tr>\n",
              "    <tr>\n",
              "      <th>235</th>\n",
              "      <td>[2, 33]</td>\n",
              "      <td>727.0</td>\n",
              "      <td>NaN</td>\n",
              "      <td>[-115.21856, 36.113987]</td>\n",
              "      <td>{}</td>\n",
              "      <td>Hotel_Review</td>\n",
              "      <td>{'Room types': 'Kitchenette Suites Non-Smoking...</td>\n",
              "      <td>{'Address:': '5625 W Flamingo Rd, Las Vegas, N...</td>\n",
              "      <td>Westgate Flamingo Bay Resort</td>\n",
              "      <td>4.0</td>\n",
              "      <td>g45963-d234835</td>\n",
              "    </tr>\n",
              "    <tr>\n",
              "      <th>236</th>\n",
              "      <td>[24, 267]</td>\n",
              "      <td>758.0</td>\n",
              "      <td>NaN</td>\n",
              "      <td>[-115.15479, 36.13437]</td>\n",
              "      <td>{}</td>\n",
              "      <td>Hotel_Review</td>\n",
              "      <td>{'Things to do': 'Pool Fitness Center with Gym...</td>\n",
              "      <td>{'Address:': '2989 Paradise Rd, Las Vegas, NV ...</td>\n",
              "      <td>SpringHill Suites Las Vegas Convention Center</td>\n",
              "      <td>4.5</td>\n",
              "      <td>g45963-d1200920</td>\n",
              "    </tr>\n",
              "  </tbody>\n",
              "</table>\n",
              "<p>237 rows × 11 columns</p>\n",
              "</div>"
            ],
            "text/plain": [
              "        ranking  rating_vol  ...  rating_cat               gd\n",
              "0      [10, 33]        60.0  ...         4.0  g45963-d3600552\n",
              "1    [209, 267]        63.0  ...         2.5    g45963-d97850\n",
              "2    [197, 267]       100.0  ...         2.5   g45963-d121329\n",
              "3    [228, 267]        27.0  ...         1.5    g45963-d91750\n",
              "4       [1, 33]       271.0  ...         4.5   g45963-d226809\n",
              "..          ...         ...  ...         ...              ...\n",
              "232   [26, 267]      1965.0  ...         4.5  g45963-d6537691\n",
              "233   [47, 267]      3007.0  ...         4.0   g45963-d208820\n",
              "234  [100, 267]       546.0  ...         3.5    g45963-d91763\n",
              "235     [2, 33]       727.0  ...         4.0   g45963-d234835\n",
              "236   [24, 267]       758.0  ...         4.5  g45963-d1200920\n",
              "\n",
              "[237 rows x 11 columns]"
            ]
          },
          "metadata": {},
          "execution_count": 8
        }
      ]
    },
    {
      "cell_type": "markdown",
      "metadata": {
        "id": "hcYaXxKvnjFW"
      },
      "source": [
        "**Answer these**\n",
        "1. What does 1 row of `df_biz` represent (e.g., reviewers, hotels, cities, etc.)? **Answer** \\ Each row represents one listing\n",
        "1. How many hotels are in this dataset? **Answer** 237 hotels\n"
      ]
    },
    {
      "cell_type": "code",
      "metadata": {
        "id": "A-RoSIxhtulp"
      },
      "source": [
        "# read in the vegas2015reviews.csv file\n",
        "df = pd.read_csv(fpath + 'vegas2015reviews.csv', index_col = 0)"
      ],
      "execution_count": 9,
      "outputs": []
    },
    {
      "cell_type": "markdown",
      "metadata": {
        "id": "RpBfqV4rEyno"
      },
      "source": [
        "Variable definitions\n",
        "\n",
        "1. gd: hotel identifier\n",
        "1. helpful_num: number of helpful votes\n",
        "1. location: location of the reviewer\n",
        "1. mgrRspnDummy: whether a manager responded to the review\n",
        "1. mgr_res_date: when the manager responded\n",
        "1. mrtext: reply of the manager\n",
        "1. ratingDate: when the review was written\n",
        "1. review_id: unique identifer for each review\n",
        "1. reviewrating: rationg (1-5) given by the reviewer\n",
        "1. reviewtext: the text of the review\n",
        "1. reviewtitle: title of the review\n",
        "1. stay_month: 1-12 month of the stay\n",
        "1. stay_year: year of the stay\n",
        "1. travel_category: stated purpose of the stay\n",
        "1. username: user's tripadvisor screen name"
      ]
    },
    {
      "cell_type": "code",
      "metadata": {
        "colab": {
          "base_uri": "https://localhost:8080/",
          "height": 504
        },
        "id": "8VqAiuL992Hx",
        "outputId": "fa1dde39-68a6-475c-cf6a-a486b3b5348d"
      },
      "source": [
        "df.head()"
      ],
      "execution_count": 10,
      "outputs": [
        {
          "output_type": "execute_result",
          "data": {
            "text/html": [
              "<div>\n",
              "<style scoped>\n",
              "    .dataframe tbody tr th:only-of-type {\n",
              "        vertical-align: middle;\n",
              "    }\n",
              "\n",
              "    .dataframe tbody tr th {\n",
              "        vertical-align: top;\n",
              "    }\n",
              "\n",
              "    .dataframe thead th {\n",
              "        text-align: right;\n",
              "    }\n",
              "</style>\n",
              "<table border=\"1\" class=\"dataframe\">\n",
              "  <thead>\n",
              "    <tr style=\"text-align: right;\">\n",
              "      <th></th>\n",
              "      <th>gd</th>\n",
              "      <th>helpful_num</th>\n",
              "      <th>location</th>\n",
              "      <th>mgrRspnDummy</th>\n",
              "      <th>mgr_res_date</th>\n",
              "      <th>mrtext</th>\n",
              "      <th>ratingDate</th>\n",
              "      <th>review_id</th>\n",
              "      <th>reviewrating</th>\n",
              "      <th>reviewtext</th>\n",
              "      <th>reviewtitle</th>\n",
              "      <th>stay_month</th>\n",
              "      <th>stay_year</th>\n",
              "      <th>travel_category</th>\n",
              "      <th>username</th>\n",
              "    </tr>\n",
              "  </thead>\n",
              "  <tbody>\n",
              "    <tr>\n",
              "      <th>15044</th>\n",
              "      <td>g45963-d1123368</td>\n",
              "      <td>NaN</td>\n",
              "      <td>Walnut Creek, California</td>\n",
              "      <td>0</td>\n",
              "      <td>NaN</td>\n",
              "      <td>NaN</td>\n",
              "      <td>2015-07-01</td>\n",
              "      <td>284818340</td>\n",
              "      <td>5</td>\n",
              "      <td>An excellent property! The rooms are very nice...</td>\n",
              "      <td>“At the top of its game”</td>\n",
              "      <td>6.0</td>\n",
              "      <td>2015.0</td>\n",
              "      <td>business</td>\n",
              "      <td>cadby</td>\n",
              "    </tr>\n",
              "    <tr>\n",
              "      <th>15045</th>\n",
              "      <td>g45963-d1123368</td>\n",
              "      <td>NaN</td>\n",
              "      <td>Maidstone, United Kingdom</td>\n",
              "      <td>0</td>\n",
              "      <td>NaN</td>\n",
              "      <td>NaN</td>\n",
              "      <td>2015-07-01</td>\n",
              "      <td>284776986</td>\n",
              "      <td>5</td>\n",
              "      <td>My first visit to Las Vegas and WOW!! Whilst a...</td>\n",
              "      <td>“ wow!! ”</td>\n",
              "      <td>9.0</td>\n",
              "      <td>2014.0</td>\n",
              "      <td>couple</td>\n",
              "      <td>Sonia H</td>\n",
              "    </tr>\n",
              "    <tr>\n",
              "      <th>15046</th>\n",
              "      <td>g45963-d1123368</td>\n",
              "      <td>NaN</td>\n",
              "      <td>Brussels</td>\n",
              "      <td>0</td>\n",
              "      <td>NaN</td>\n",
              "      <td>NaN</td>\n",
              "      <td>2015-06-30</td>\n",
              "      <td>284187374</td>\n",
              "      <td>5</td>\n",
              "      <td>Some of the most beautiful hotel rooms in the ...</td>\n",
              "      <td>“ Mass market but luxery hotel at north end of...</td>\n",
              "      <td>6.0</td>\n",
              "      <td>2015.0</td>\n",
              "      <td>couple</td>\n",
              "      <td>Globaliser</td>\n",
              "    </tr>\n",
              "    <tr>\n",
              "      <th>15047</th>\n",
              "      <td>g45963-d1123368</td>\n",
              "      <td>NaN</td>\n",
              "      <td>Colchester, United Kingdom</td>\n",
              "      <td>0</td>\n",
              "      <td>NaN</td>\n",
              "      <td>NaN</td>\n",
              "      <td>2015-06-13</td>\n",
              "      <td>279887884</td>\n",
              "      <td>5</td>\n",
              "      <td>This Hotel is exceptional, its beautifully set...</td>\n",
              "      <td>“ Highlight of Vegas ”</td>\n",
              "      <td>5.0</td>\n",
              "      <td>2015.0</td>\n",
              "      <td>couple</td>\n",
              "      <td>Sharcoates</td>\n",
              "    </tr>\n",
              "    <tr>\n",
              "      <th>15058</th>\n",
              "      <td>g45963-d1123368</td>\n",
              "      <td>NaN</td>\n",
              "      <td>Denver, Colorado, United States</td>\n",
              "      <td>0</td>\n",
              "      <td>NaN</td>\n",
              "      <td>NaN</td>\n",
              "      <td>2015-06-13</td>\n",
              "      <td>279841140</td>\n",
              "      <td>5</td>\n",
              "      <td>My husband and I stayed here during a trip,to ...</td>\n",
              "      <td>“ Beautiful hotel, great location ”</td>\n",
              "      <td>6.0</td>\n",
              "      <td>2015.0</td>\n",
              "      <td>couple</td>\n",
              "      <td>Kimberly A</td>\n",
              "    </tr>\n",
              "  </tbody>\n",
              "</table>\n",
              "</div>"
            ],
            "text/plain": [
              "                    gd  helpful_num  ... travel_category    username\n",
              "15044  g45963-d1123368          NaN  ...        business       cadby\n",
              "15045  g45963-d1123368          NaN  ...          couple     Sonia H\n",
              "15046  g45963-d1123368          NaN  ...          couple  Globaliser\n",
              "15047  g45963-d1123368          NaN  ...          couple  Sharcoates\n",
              "15058  g45963-d1123368          NaN  ...          couple  Kimberly A\n",
              "\n",
              "[5 rows x 15 columns]"
            ]
          },
          "metadata": {},
          "execution_count": 10
        }
      ]
    },
    {
      "cell_type": "code",
      "metadata": {
        "id": "nnpy50gJoFbq"
      },
      "source": [
        "# convert ratingDate column to pandas datetime format using the pd.to_datetime function\n",
        "df.ratingDate = pd.to_datetime(df.ratingDate)"
      ],
      "execution_count": 11,
      "outputs": []
    },
    {
      "cell_type": "code",
      "metadata": {
        "colab": {
          "base_uri": "https://localhost:8080/"
        },
        "id": "CCTgIq2koMiQ",
        "outputId": "207fc448-9bf6-47ff-dcf6-a2827e917cac"
      },
      "source": [
        "# check the ratingDate column to ensure the data are now pandas timestamps\n",
        "df['ratingDate']"
      ],
      "execution_count": 12,
      "outputs": [
        {
          "output_type": "execute_result",
          "data": {
            "text/plain": [
              "15044    2015-07-01\n",
              "15045    2015-07-01\n",
              "15046    2015-06-30\n",
              "15047    2015-06-13\n",
              "15058    2015-06-13\n",
              "            ...    \n",
              "904218   2015-03-15\n",
              "904229   2015-03-15\n",
              "904240   2015-03-15\n",
              "904251   2015-03-15\n",
              "904262   2015-03-14\n",
              "Name: ratingDate, Length: 46644, dtype: datetime64[ns]"
            ]
          },
          "metadata": {},
          "execution_count": 12
        }
      ]
    },
    {
      "cell_type": "code",
      "metadata": {
        "colab": {
          "base_uri": "https://localhost:8080/"
        },
        "id": "To0eDV4W2XUk",
        "outputId": "184a73d8-853d-42ea-cec2-10a3d9b96602"
      },
      "source": [
        "# get the shape of the dataframe df\n",
        "df.shape"
      ],
      "execution_count": 13,
      "outputs": [
        {
          "output_type": "execute_result",
          "data": {
            "text/plain": [
              "(46644, 15)"
            ]
          },
          "metadata": {},
          "execution_count": 13
        }
      ]
    },
    {
      "cell_type": "code",
      "metadata": {
        "colab": {
          "base_uri": "https://localhost:8080/",
          "height": 1000
        },
        "id": "Fj2p-EKSowid",
        "outputId": "5c7eb245-506a-40df-b527-233f3ec06fb7"
      },
      "source": [
        "# preview df\n",
        "df"
      ],
      "execution_count": 14,
      "outputs": [
        {
          "output_type": "execute_result",
          "data": {
            "text/html": [
              "<div>\n",
              "<style scoped>\n",
              "    .dataframe tbody tr th:only-of-type {\n",
              "        vertical-align: middle;\n",
              "    }\n",
              "\n",
              "    .dataframe tbody tr th {\n",
              "        vertical-align: top;\n",
              "    }\n",
              "\n",
              "    .dataframe thead th {\n",
              "        text-align: right;\n",
              "    }\n",
              "</style>\n",
              "<table border=\"1\" class=\"dataframe\">\n",
              "  <thead>\n",
              "    <tr style=\"text-align: right;\">\n",
              "      <th></th>\n",
              "      <th>gd</th>\n",
              "      <th>helpful_num</th>\n",
              "      <th>location</th>\n",
              "      <th>mgrRspnDummy</th>\n",
              "      <th>mgr_res_date</th>\n",
              "      <th>mrtext</th>\n",
              "      <th>ratingDate</th>\n",
              "      <th>review_id</th>\n",
              "      <th>reviewrating</th>\n",
              "      <th>reviewtext</th>\n",
              "      <th>reviewtitle</th>\n",
              "      <th>stay_month</th>\n",
              "      <th>stay_year</th>\n",
              "      <th>travel_category</th>\n",
              "      <th>username</th>\n",
              "    </tr>\n",
              "  </thead>\n",
              "  <tbody>\n",
              "    <tr>\n",
              "      <th>15044</th>\n",
              "      <td>g45963-d1123368</td>\n",
              "      <td>NaN</td>\n",
              "      <td>Walnut Creek, California</td>\n",
              "      <td>0</td>\n",
              "      <td>NaN</td>\n",
              "      <td>NaN</td>\n",
              "      <td>2015-07-01</td>\n",
              "      <td>284818340</td>\n",
              "      <td>5</td>\n",
              "      <td>An excellent property! The rooms are very nice...</td>\n",
              "      <td>“At the top of its game”</td>\n",
              "      <td>6.0</td>\n",
              "      <td>2015.0</td>\n",
              "      <td>business</td>\n",
              "      <td>cadby</td>\n",
              "    </tr>\n",
              "    <tr>\n",
              "      <th>15045</th>\n",
              "      <td>g45963-d1123368</td>\n",
              "      <td>NaN</td>\n",
              "      <td>Maidstone, United Kingdom</td>\n",
              "      <td>0</td>\n",
              "      <td>NaN</td>\n",
              "      <td>NaN</td>\n",
              "      <td>2015-07-01</td>\n",
              "      <td>284776986</td>\n",
              "      <td>5</td>\n",
              "      <td>My first visit to Las Vegas and WOW!! Whilst a...</td>\n",
              "      <td>“ wow!! ”</td>\n",
              "      <td>9.0</td>\n",
              "      <td>2014.0</td>\n",
              "      <td>couple</td>\n",
              "      <td>Sonia H</td>\n",
              "    </tr>\n",
              "    <tr>\n",
              "      <th>15046</th>\n",
              "      <td>g45963-d1123368</td>\n",
              "      <td>NaN</td>\n",
              "      <td>Brussels</td>\n",
              "      <td>0</td>\n",
              "      <td>NaN</td>\n",
              "      <td>NaN</td>\n",
              "      <td>2015-06-30</td>\n",
              "      <td>284187374</td>\n",
              "      <td>5</td>\n",
              "      <td>Some of the most beautiful hotel rooms in the ...</td>\n",
              "      <td>“ Mass market but luxery hotel at north end of...</td>\n",
              "      <td>6.0</td>\n",
              "      <td>2015.0</td>\n",
              "      <td>couple</td>\n",
              "      <td>Globaliser</td>\n",
              "    </tr>\n",
              "    <tr>\n",
              "      <th>15047</th>\n",
              "      <td>g45963-d1123368</td>\n",
              "      <td>NaN</td>\n",
              "      <td>Colchester, United Kingdom</td>\n",
              "      <td>0</td>\n",
              "      <td>NaN</td>\n",
              "      <td>NaN</td>\n",
              "      <td>2015-06-13</td>\n",
              "      <td>279887884</td>\n",
              "      <td>5</td>\n",
              "      <td>This Hotel is exceptional, its beautifully set...</td>\n",
              "      <td>“ Highlight of Vegas ”</td>\n",
              "      <td>5.0</td>\n",
              "      <td>2015.0</td>\n",
              "      <td>couple</td>\n",
              "      <td>Sharcoates</td>\n",
              "    </tr>\n",
              "    <tr>\n",
              "      <th>15058</th>\n",
              "      <td>g45963-d1123368</td>\n",
              "      <td>NaN</td>\n",
              "      <td>Denver, Colorado, United States</td>\n",
              "      <td>0</td>\n",
              "      <td>NaN</td>\n",
              "      <td>NaN</td>\n",
              "      <td>2015-06-13</td>\n",
              "      <td>279841140</td>\n",
              "      <td>5</td>\n",
              "      <td>My husband and I stayed here during a trip,to ...</td>\n",
              "      <td>“ Beautiful hotel, great location ”</td>\n",
              "      <td>6.0</td>\n",
              "      <td>2015.0</td>\n",
              "      <td>couple</td>\n",
              "      <td>Kimberly A</td>\n",
              "    </tr>\n",
              "    <tr>\n",
              "      <th>...</th>\n",
              "      <td>...</td>\n",
              "      <td>...</td>\n",
              "      <td>...</td>\n",
              "      <td>...</td>\n",
              "      <td>...</td>\n",
              "      <td>...</td>\n",
              "      <td>...</td>\n",
              "      <td>...</td>\n",
              "      <td>...</td>\n",
              "      <td>...</td>\n",
              "      <td>...</td>\n",
              "      <td>...</td>\n",
              "      <td>...</td>\n",
              "      <td>...</td>\n",
              "      <td>...</td>\n",
              "    </tr>\n",
              "    <tr>\n",
              "      <th>904218</th>\n",
              "      <td>g45963-d91925</td>\n",
              "      <td>3.0</td>\n",
              "      <td>Washington DC, District of Columbia</td>\n",
              "      <td>1</td>\n",
              "      <td>2015-03-16</td>\n",
              "      <td>Thank you for your wonderful review. It is gre...</td>\n",
              "      <td>2015-03-15</td>\n",
              "      <td>259656436</td>\n",
              "      <td>5</td>\n",
              "      <td>Aria is one of the top hotels in the strip and...</td>\n",
              "      <td>“ Its worth it. ”</td>\n",
              "      <td>3.0</td>\n",
              "      <td>2015.0</td>\n",
              "      <td>solo</td>\n",
              "      <td>RexTanjuatco</td>\n",
              "    </tr>\n",
              "    <tr>\n",
              "      <th>904229</th>\n",
              "      <td>g45963-d91925</td>\n",
              "      <td>NaN</td>\n",
              "      <td>Portland, Oregon</td>\n",
              "      <td>1</td>\n",
              "      <td>2015-03-16</td>\n",
              "      <td>Dear Bobbi, Thank you so much for choosing ARI...</td>\n",
              "      <td>2015-03-15</td>\n",
              "      <td>259650112</td>\n",
              "      <td>5</td>\n",
              "      <td>My husband and I just returned from Aria yeste...</td>\n",
              "      <td>“ Yet Another Visit ”</td>\n",
              "      <td>3.0</td>\n",
              "      <td>2015.0</td>\n",
              "      <td>couple</td>\n",
              "      <td>Bobbi S</td>\n",
              "    </tr>\n",
              "    <tr>\n",
              "      <th>904240</th>\n",
              "      <td>g45963-d91925</td>\n",
              "      <td>NaN</td>\n",
              "      <td>MANCHESTER</td>\n",
              "      <td>1</td>\n",
              "      <td>2015-03-19</td>\n",
              "      <td>Thank you for your recommendation and sharing ...</td>\n",
              "      <td>2015-03-15</td>\n",
              "      <td>259639795</td>\n",
              "      <td>5</td>\n",
              "      <td>9 years since my last visit to Vegas &amp; this ho...</td>\n",
              "      <td>“ 40th Birthday Trip ”</td>\n",
              "      <td>3.0</td>\n",
              "      <td>2015.0</td>\n",
              "      <td>friends</td>\n",
              "      <td>ZETAMANCHESTER</td>\n",
              "    </tr>\n",
              "    <tr>\n",
              "      <th>904251</th>\n",
              "      <td>g45963-d91925</td>\n",
              "      <td>NaN</td>\n",
              "      <td>NaN</td>\n",
              "      <td>1</td>\n",
              "      <td>2015-03-16</td>\n",
              "      <td>Dear Ramiro, Thank you for staying at ARIA to ...</td>\n",
              "      <td>2015-03-15</td>\n",
              "      <td>259601035</td>\n",
              "      <td>5</td>\n",
              "      <td>Stayed for one night for friends birthday. Gre...</td>\n",
              "      <td>“ BEST HOTEL IN LAS VEGAS!! ”</td>\n",
              "      <td>3.0</td>\n",
              "      <td>2015.0</td>\n",
              "      <td>friends</td>\n",
              "      <td>Ramiro G</td>\n",
              "    </tr>\n",
              "    <tr>\n",
              "      <th>904262</th>\n",
              "      <td>g45963-d91925</td>\n",
              "      <td>2.0</td>\n",
              "      <td>wa st</td>\n",
              "      <td>1</td>\n",
              "      <td>2015-03-16</td>\n",
              "      <td>Dear RJ, Thank you for your recent stay at ARI...</td>\n",
              "      <td>2015-03-14</td>\n",
              "      <td>259479582</td>\n",
              "      <td>4</td>\n",
              "      <td>I stay here just because the bed and pillows a...</td>\n",
              "      <td>“ Best Bed In Town ”</td>\n",
              "      <td>3.0</td>\n",
              "      <td>2015.0</td>\n",
              "      <td>friends</td>\n",
              "      <td>rjclem</td>\n",
              "    </tr>\n",
              "  </tbody>\n",
              "</table>\n",
              "<p>46644 rows × 15 columns</p>\n",
              "</div>"
            ],
            "text/plain": [
              "                     gd  helpful_num  ... travel_category        username\n",
              "15044   g45963-d1123368          NaN  ...        business           cadby\n",
              "15045   g45963-d1123368          NaN  ...          couple         Sonia H\n",
              "15046   g45963-d1123368          NaN  ...          couple      Globaliser\n",
              "15047   g45963-d1123368          NaN  ...          couple      Sharcoates\n",
              "15058   g45963-d1123368          NaN  ...          couple      Kimberly A\n",
              "...                 ...          ...  ...             ...             ...\n",
              "904218    g45963-d91925          3.0  ...            solo    RexTanjuatco\n",
              "904229    g45963-d91925          NaN  ...          couple         Bobbi S\n",
              "904240    g45963-d91925          NaN  ...         friends  ZETAMANCHESTER\n",
              "904251    g45963-d91925          NaN  ...         friends        Ramiro G\n",
              "904262    g45963-d91925          2.0  ...         friends          rjclem\n",
              "\n",
              "[46644 rows x 15 columns]"
            ]
          },
          "metadata": {},
          "execution_count": 14
        }
      ]
    },
    {
      "cell_type": "code",
      "metadata": {
        "colab": {
          "base_uri": "https://localhost:8080/"
        },
        "id": "uAKT30tkop86",
        "outputId": "3c9220e5-e47a-4f4e-cb9c-0bd7d378baa0"
      },
      "source": [
        "# look at the columns of df (e.g. df.columns)\n",
        "df.columns"
      ],
      "execution_count": 15,
      "outputs": [
        {
          "output_type": "execute_result",
          "data": {
            "text/plain": [
              "Index(['gd', 'helpful_num', 'location', 'mgrRspnDummy', 'mgr_res_date',\n",
              "       'mrtext', 'ratingDate', 'review_id', 'reviewrating', 'reviewtext',\n",
              "       'reviewtitle', 'stay_month', 'stay_year', 'travel_category',\n",
              "       'username'],\n",
              "      dtype='object')"
            ]
          },
          "metadata": {},
          "execution_count": 15
        }
      ]
    },
    {
      "cell_type": "code",
      "metadata": {
        "colab": {
          "base_uri": "https://localhost:8080/"
        },
        "id": "E5RJLe-DoyWq",
        "outputId": "b348df24-bbc7-4af6-b180-cc24d4978e67"
      },
      "source": [
        "# what are the columns that belong to both df and df_biz?\n",
        "set(df.columns).intersection(set(df_biz.columns))"
      ],
      "execution_count": 16,
      "outputs": [
        {
          "output_type": "execute_result",
          "data": {
            "text/plain": [
              "{'gd'}"
            ]
          },
          "metadata": {},
          "execution_count": 16
        }
      ]
    },
    {
      "cell_type": "markdown",
      "metadata": {
        "id": "XhMYdN6jocJ8"
      },
      "source": [
        "**Answer this**\n",
        "\n",
        "Which variable or variables will allow you to merge df with df_biz? **Answer**\n",
        "gd"
      ]
    },
    {
      "cell_type": "code",
      "metadata": {
        "id": "QrZclScpyvho"
      },
      "source": [
        "# merge df (left) with df_biz (right) using an *inner* merge (keep only matched rows)\n",
        "# call the reuslting dataframe, df (replace df with the merge result)\n",
        "\n",
        "df = df.merge(df_biz, how = 'inner', on = 'gd') # fill in this"
      ],
      "execution_count": 17,
      "outputs": []
    },
    {
      "cell_type": "code",
      "metadata": {
        "colab": {
          "base_uri": "https://localhost:8080/"
        },
        "id": "tqoXuQyY21aa",
        "outputId": "2e4131dd-0209-40cd-867b-23f730085866"
      },
      "source": [
        "# check the # of rows and columns of df\n",
        "# this should bee (46644,25)\n",
        "df.shape"
      ],
      "execution_count": 18,
      "outputs": [
        {
          "output_type": "execute_result",
          "data": {
            "text/plain": [
              "(46644, 25)"
            ]
          },
          "metadata": {},
          "execution_count": 18
        }
      ]
    },
    {
      "cell_type": "code",
      "metadata": {
        "colab": {
          "base_uri": "https://localhost:8080/",
          "height": 1000
        },
        "id": "sdkMqhgA2HrZ",
        "outputId": "b61778cb-f210-4e17-fbfc-8fdd4d3eb420"
      },
      "source": [
        "# preview your dataframe\n",
        "df"
      ],
      "execution_count": 19,
      "outputs": [
        {
          "output_type": "execute_result",
          "data": {
            "text/html": [
              "<div>\n",
              "<style scoped>\n",
              "    .dataframe tbody tr th:only-of-type {\n",
              "        vertical-align: middle;\n",
              "    }\n",
              "\n",
              "    .dataframe tbody tr th {\n",
              "        vertical-align: top;\n",
              "    }\n",
              "\n",
              "    .dataframe thead th {\n",
              "        text-align: right;\n",
              "    }\n",
              "</style>\n",
              "<table border=\"1\" class=\"dataframe\">\n",
              "  <thead>\n",
              "    <tr style=\"text-align: right;\">\n",
              "      <th></th>\n",
              "      <th>gd</th>\n",
              "      <th>helpful_num</th>\n",
              "      <th>location</th>\n",
              "      <th>mgrRspnDummy</th>\n",
              "      <th>mgr_res_date</th>\n",
              "      <th>mrtext</th>\n",
              "      <th>ratingDate</th>\n",
              "      <th>review_id</th>\n",
              "      <th>reviewrating</th>\n",
              "      <th>reviewtext</th>\n",
              "      <th>reviewtitle</th>\n",
              "      <th>stay_month</th>\n",
              "      <th>stay_year</th>\n",
              "      <th>travel_category</th>\n",
              "      <th>username</th>\n",
              "      <th>ranking</th>\n",
              "      <th>rating_vol</th>\n",
              "      <th>rdetails</th>\n",
              "      <th>lnglat</th>\n",
              "      <th>rsubrating</th>\n",
              "      <th>vtype</th>\n",
              "      <th>amenities</th>\n",
              "      <th>details</th>\n",
              "      <th>v_name</th>\n",
              "      <th>rating_cat</th>\n",
              "    </tr>\n",
              "  </thead>\n",
              "  <tbody>\n",
              "    <tr>\n",
              "      <th>0</th>\n",
              "      <td>g45963-d1123368</td>\n",
              "      <td>NaN</td>\n",
              "      <td>Walnut Creek, California</td>\n",
              "      <td>0</td>\n",
              "      <td>NaN</td>\n",
              "      <td>NaN</td>\n",
              "      <td>2015-07-01</td>\n",
              "      <td>284818340</td>\n",
              "      <td>5</td>\n",
              "      <td>An excellent property! The rooms are very nice...</td>\n",
              "      <td>“At the top of its game”</td>\n",
              "      <td>6.0</td>\n",
              "      <td>2015.0</td>\n",
              "      <td>business</td>\n",
              "      <td>cadby</td>\n",
              "      <td>[4, 267]</td>\n",
              "      <td>9453.0</td>\n",
              "      <td>NaN</td>\n",
              "      <td>[-115.164505, 36.12825]</td>\n",
              "      <td>{}</td>\n",
              "      <td>Hotel_Review</td>\n",
              "      <td>{'Room types': 'Suites Non-Smoking Rooms ', 'S...</td>\n",
              "      <td>{'Address:': '3121 Las Vegas Blvd. South, Las ...</td>\n",
              "      <td>Encore At Wynn Las Vegas</td>\n",
              "      <td>4.5</td>\n",
              "    </tr>\n",
              "    <tr>\n",
              "      <th>1</th>\n",
              "      <td>g45963-d1123368</td>\n",
              "      <td>NaN</td>\n",
              "      <td>Maidstone, United Kingdom</td>\n",
              "      <td>0</td>\n",
              "      <td>NaN</td>\n",
              "      <td>NaN</td>\n",
              "      <td>2015-07-01</td>\n",
              "      <td>284776986</td>\n",
              "      <td>5</td>\n",
              "      <td>My first visit to Las Vegas and WOW!! Whilst a...</td>\n",
              "      <td>“ wow!! ”</td>\n",
              "      <td>9.0</td>\n",
              "      <td>2014.0</td>\n",
              "      <td>couple</td>\n",
              "      <td>Sonia H</td>\n",
              "      <td>[4, 267]</td>\n",
              "      <td>9453.0</td>\n",
              "      <td>NaN</td>\n",
              "      <td>[-115.164505, 36.12825]</td>\n",
              "      <td>{}</td>\n",
              "      <td>Hotel_Review</td>\n",
              "      <td>{'Room types': 'Suites Non-Smoking Rooms ', 'S...</td>\n",
              "      <td>{'Address:': '3121 Las Vegas Blvd. South, Las ...</td>\n",
              "      <td>Encore At Wynn Las Vegas</td>\n",
              "      <td>4.5</td>\n",
              "    </tr>\n",
              "    <tr>\n",
              "      <th>2</th>\n",
              "      <td>g45963-d1123368</td>\n",
              "      <td>NaN</td>\n",
              "      <td>Brussels</td>\n",
              "      <td>0</td>\n",
              "      <td>NaN</td>\n",
              "      <td>NaN</td>\n",
              "      <td>2015-06-30</td>\n",
              "      <td>284187374</td>\n",
              "      <td>5</td>\n",
              "      <td>Some of the most beautiful hotel rooms in the ...</td>\n",
              "      <td>“ Mass market but luxery hotel at north end of...</td>\n",
              "      <td>6.0</td>\n",
              "      <td>2015.0</td>\n",
              "      <td>couple</td>\n",
              "      <td>Globaliser</td>\n",
              "      <td>[4, 267]</td>\n",
              "      <td>9453.0</td>\n",
              "      <td>NaN</td>\n",
              "      <td>[-115.164505, 36.12825]</td>\n",
              "      <td>{}</td>\n",
              "      <td>Hotel_Review</td>\n",
              "      <td>{'Room types': 'Suites Non-Smoking Rooms ', 'S...</td>\n",
              "      <td>{'Address:': '3121 Las Vegas Blvd. South, Las ...</td>\n",
              "      <td>Encore At Wynn Las Vegas</td>\n",
              "      <td>4.5</td>\n",
              "    </tr>\n",
              "    <tr>\n",
              "      <th>3</th>\n",
              "      <td>g45963-d1123368</td>\n",
              "      <td>NaN</td>\n",
              "      <td>Colchester, United Kingdom</td>\n",
              "      <td>0</td>\n",
              "      <td>NaN</td>\n",
              "      <td>NaN</td>\n",
              "      <td>2015-06-13</td>\n",
              "      <td>279887884</td>\n",
              "      <td>5</td>\n",
              "      <td>This Hotel is exceptional, its beautifully set...</td>\n",
              "      <td>“ Highlight of Vegas ”</td>\n",
              "      <td>5.0</td>\n",
              "      <td>2015.0</td>\n",
              "      <td>couple</td>\n",
              "      <td>Sharcoates</td>\n",
              "      <td>[4, 267]</td>\n",
              "      <td>9453.0</td>\n",
              "      <td>NaN</td>\n",
              "      <td>[-115.164505, 36.12825]</td>\n",
              "      <td>{}</td>\n",
              "      <td>Hotel_Review</td>\n",
              "      <td>{'Room types': 'Suites Non-Smoking Rooms ', 'S...</td>\n",
              "      <td>{'Address:': '3121 Las Vegas Blvd. South, Las ...</td>\n",
              "      <td>Encore At Wynn Las Vegas</td>\n",
              "      <td>4.5</td>\n",
              "    </tr>\n",
              "    <tr>\n",
              "      <th>4</th>\n",
              "      <td>g45963-d1123368</td>\n",
              "      <td>NaN</td>\n",
              "      <td>Denver, Colorado, United States</td>\n",
              "      <td>0</td>\n",
              "      <td>NaN</td>\n",
              "      <td>NaN</td>\n",
              "      <td>2015-06-13</td>\n",
              "      <td>279841140</td>\n",
              "      <td>5</td>\n",
              "      <td>My husband and I stayed here during a trip,to ...</td>\n",
              "      <td>“ Beautiful hotel, great location ”</td>\n",
              "      <td>6.0</td>\n",
              "      <td>2015.0</td>\n",
              "      <td>couple</td>\n",
              "      <td>Kimberly A</td>\n",
              "      <td>[4, 267]</td>\n",
              "      <td>9453.0</td>\n",
              "      <td>NaN</td>\n",
              "      <td>[-115.164505, 36.12825]</td>\n",
              "      <td>{}</td>\n",
              "      <td>Hotel_Review</td>\n",
              "      <td>{'Room types': 'Suites Non-Smoking Rooms ', 'S...</td>\n",
              "      <td>{'Address:': '3121 Las Vegas Blvd. South, Las ...</td>\n",
              "      <td>Encore At Wynn Las Vegas</td>\n",
              "      <td>4.5</td>\n",
              "    </tr>\n",
              "    <tr>\n",
              "      <th>...</th>\n",
              "      <td>...</td>\n",
              "      <td>...</td>\n",
              "      <td>...</td>\n",
              "      <td>...</td>\n",
              "      <td>...</td>\n",
              "      <td>...</td>\n",
              "      <td>...</td>\n",
              "      <td>...</td>\n",
              "      <td>...</td>\n",
              "      <td>...</td>\n",
              "      <td>...</td>\n",
              "      <td>...</td>\n",
              "      <td>...</td>\n",
              "      <td>...</td>\n",
              "      <td>...</td>\n",
              "      <td>...</td>\n",
              "      <td>...</td>\n",
              "      <td>...</td>\n",
              "      <td>...</td>\n",
              "      <td>...</td>\n",
              "      <td>...</td>\n",
              "      <td>...</td>\n",
              "      <td>...</td>\n",
              "      <td>...</td>\n",
              "      <td>...</td>\n",
              "    </tr>\n",
              "    <tr>\n",
              "      <th>46639</th>\n",
              "      <td>g45963-d91925</td>\n",
              "      <td>3.0</td>\n",
              "      <td>Washington DC, District of Columbia</td>\n",
              "      <td>1</td>\n",
              "      <td>2015-03-16</td>\n",
              "      <td>Thank you for your wonderful review. It is gre...</td>\n",
              "      <td>2015-03-15</td>\n",
              "      <td>259656436</td>\n",
              "      <td>5</td>\n",
              "      <td>Aria is one of the top hotels in the strip and...</td>\n",
              "      <td>“ Its worth it. ”</td>\n",
              "      <td>3.0</td>\n",
              "      <td>2015.0</td>\n",
              "      <td>solo</td>\n",
              "      <td>RexTanjuatco</td>\n",
              "      <td>[14, 267]</td>\n",
              "      <td>21627.0</td>\n",
              "      <td>NaN</td>\n",
              "      <td>[-115.17628, 36.107323]</td>\n",
              "      <td>{}</td>\n",
              "      <td>Hotel_Review</td>\n",
              "      <td>{'Things to do': 'Pool Fitness Center with Gym...</td>\n",
              "      <td>{'Address:': '3730 Las Vegas Boulevard South, ...</td>\n",
              "      <td>ARIA Resort &amp; Casino</td>\n",
              "      <td>4.5</td>\n",
              "    </tr>\n",
              "    <tr>\n",
              "      <th>46640</th>\n",
              "      <td>g45963-d91925</td>\n",
              "      <td>NaN</td>\n",
              "      <td>Portland, Oregon</td>\n",
              "      <td>1</td>\n",
              "      <td>2015-03-16</td>\n",
              "      <td>Dear Bobbi, Thank you so much for choosing ARI...</td>\n",
              "      <td>2015-03-15</td>\n",
              "      <td>259650112</td>\n",
              "      <td>5</td>\n",
              "      <td>My husband and I just returned from Aria yeste...</td>\n",
              "      <td>“ Yet Another Visit ”</td>\n",
              "      <td>3.0</td>\n",
              "      <td>2015.0</td>\n",
              "      <td>couple</td>\n",
              "      <td>Bobbi S</td>\n",
              "      <td>[14, 267]</td>\n",
              "      <td>21627.0</td>\n",
              "      <td>NaN</td>\n",
              "      <td>[-115.17628, 36.107323]</td>\n",
              "      <td>{}</td>\n",
              "      <td>Hotel_Review</td>\n",
              "      <td>{'Things to do': 'Pool Fitness Center with Gym...</td>\n",
              "      <td>{'Address:': '3730 Las Vegas Boulevard South, ...</td>\n",
              "      <td>ARIA Resort &amp; Casino</td>\n",
              "      <td>4.5</td>\n",
              "    </tr>\n",
              "    <tr>\n",
              "      <th>46641</th>\n",
              "      <td>g45963-d91925</td>\n",
              "      <td>NaN</td>\n",
              "      <td>MANCHESTER</td>\n",
              "      <td>1</td>\n",
              "      <td>2015-03-19</td>\n",
              "      <td>Thank you for your recommendation and sharing ...</td>\n",
              "      <td>2015-03-15</td>\n",
              "      <td>259639795</td>\n",
              "      <td>5</td>\n",
              "      <td>9 years since my last visit to Vegas &amp; this ho...</td>\n",
              "      <td>“ 40th Birthday Trip ”</td>\n",
              "      <td>3.0</td>\n",
              "      <td>2015.0</td>\n",
              "      <td>friends</td>\n",
              "      <td>ZETAMANCHESTER</td>\n",
              "      <td>[14, 267]</td>\n",
              "      <td>21627.0</td>\n",
              "      <td>NaN</td>\n",
              "      <td>[-115.17628, 36.107323]</td>\n",
              "      <td>{}</td>\n",
              "      <td>Hotel_Review</td>\n",
              "      <td>{'Things to do': 'Pool Fitness Center with Gym...</td>\n",
              "      <td>{'Address:': '3730 Las Vegas Boulevard South, ...</td>\n",
              "      <td>ARIA Resort &amp; Casino</td>\n",
              "      <td>4.5</td>\n",
              "    </tr>\n",
              "    <tr>\n",
              "      <th>46642</th>\n",
              "      <td>g45963-d91925</td>\n",
              "      <td>NaN</td>\n",
              "      <td>NaN</td>\n",
              "      <td>1</td>\n",
              "      <td>2015-03-16</td>\n",
              "      <td>Dear Ramiro, Thank you for staying at ARIA to ...</td>\n",
              "      <td>2015-03-15</td>\n",
              "      <td>259601035</td>\n",
              "      <td>5</td>\n",
              "      <td>Stayed for one night for friends birthday. Gre...</td>\n",
              "      <td>“ BEST HOTEL IN LAS VEGAS!! ”</td>\n",
              "      <td>3.0</td>\n",
              "      <td>2015.0</td>\n",
              "      <td>friends</td>\n",
              "      <td>Ramiro G</td>\n",
              "      <td>[14, 267]</td>\n",
              "      <td>21627.0</td>\n",
              "      <td>NaN</td>\n",
              "      <td>[-115.17628, 36.107323]</td>\n",
              "      <td>{}</td>\n",
              "      <td>Hotel_Review</td>\n",
              "      <td>{'Things to do': 'Pool Fitness Center with Gym...</td>\n",
              "      <td>{'Address:': '3730 Las Vegas Boulevard South, ...</td>\n",
              "      <td>ARIA Resort &amp; Casino</td>\n",
              "      <td>4.5</td>\n",
              "    </tr>\n",
              "    <tr>\n",
              "      <th>46643</th>\n",
              "      <td>g45963-d91925</td>\n",
              "      <td>2.0</td>\n",
              "      <td>wa st</td>\n",
              "      <td>1</td>\n",
              "      <td>2015-03-16</td>\n",
              "      <td>Dear RJ, Thank you for your recent stay at ARI...</td>\n",
              "      <td>2015-03-14</td>\n",
              "      <td>259479582</td>\n",
              "      <td>4</td>\n",
              "      <td>I stay here just because the bed and pillows a...</td>\n",
              "      <td>“ Best Bed In Town ”</td>\n",
              "      <td>3.0</td>\n",
              "      <td>2015.0</td>\n",
              "      <td>friends</td>\n",
              "      <td>rjclem</td>\n",
              "      <td>[14, 267]</td>\n",
              "      <td>21627.0</td>\n",
              "      <td>NaN</td>\n",
              "      <td>[-115.17628, 36.107323]</td>\n",
              "      <td>{}</td>\n",
              "      <td>Hotel_Review</td>\n",
              "      <td>{'Things to do': 'Pool Fitness Center with Gym...</td>\n",
              "      <td>{'Address:': '3730 Las Vegas Boulevard South, ...</td>\n",
              "      <td>ARIA Resort &amp; Casino</td>\n",
              "      <td>4.5</td>\n",
              "    </tr>\n",
              "  </tbody>\n",
              "</table>\n",
              "<p>46644 rows × 25 columns</p>\n",
              "</div>"
            ],
            "text/plain": [
              "                    gd  helpful_num  ...                    v_name  rating_cat\n",
              "0      g45963-d1123368          NaN  ...  Encore At Wynn Las Vegas         4.5\n",
              "1      g45963-d1123368          NaN  ...  Encore At Wynn Las Vegas         4.5\n",
              "2      g45963-d1123368          NaN  ...  Encore At Wynn Las Vegas         4.5\n",
              "3      g45963-d1123368          NaN  ...  Encore At Wynn Las Vegas         4.5\n",
              "4      g45963-d1123368          NaN  ...  Encore At Wynn Las Vegas         4.5\n",
              "...                ...          ...  ...                       ...         ...\n",
              "46639    g45963-d91925          3.0  ...      ARIA Resort & Casino         4.5\n",
              "46640    g45963-d91925          NaN  ...      ARIA Resort & Casino         4.5\n",
              "46641    g45963-d91925          NaN  ...      ARIA Resort & Casino         4.5\n",
              "46642    g45963-d91925          NaN  ...      ARIA Resort & Casino         4.5\n",
              "46643    g45963-d91925          2.0  ...      ARIA Resort & Casino         4.5\n",
              "\n",
              "[46644 rows x 25 columns]"
            ]
          },
          "metadata": {},
          "execution_count": 19
        }
      ]
    },
    {
      "cell_type": "code",
      "metadata": {
        "colab": {
          "base_uri": "https://localhost:8080/"
        },
        "id": "B7ZJC3lxvSHl",
        "outputId": "a8ea575e-af0e-4bc4-c5ff-11e5f9263f51"
      },
      "source": [
        "# check unique number of gd's (recall the .nunique() method for pandas data series)\n",
        "\n",
        "df.gd.nunique()"
      ],
      "execution_count": 20,
      "outputs": [
        {
          "output_type": "execute_result",
          "data": {
            "text/plain": [
              "34"
            ]
          },
          "metadata": {},
          "execution_count": 20
        }
      ]
    },
    {
      "cell_type": "markdown",
      "metadata": {
        "id": "IiNDsi_yEqMw"
      },
      "source": [
        "**answer this**\n",
        "\n",
        "How many hotels are there? **Answer**\n",
        "34"
      ]
    },
    {
      "cell_type": "code",
      "metadata": {
        "colab": {
          "base_uri": "https://localhost:8080/"
        },
        "id": "REcdj0Vd7ycV",
        "outputId": "842c4c0f-0967-442d-b310-b94a2747db95"
      },
      "source": [
        "# print out the unique hotel names\n",
        "print(df.v_name.unique())"
      ],
      "execution_count": 21,
      "outputs": [
        {
          "output_type": "stream",
          "name": "stdout",
          "text": [
            "['Encore At Wynn Las Vegas' 'New York - New York Hotel and Casino'\n",
            " \"Bally's Las Vegas\" 'Venetian Resort Hotel Casino'\n",
            " 'Rio All-Suite Hotel & Casino' 'Wynn Las Vegas'\n",
            " 'MGM Grand Hotel and Casino'\n",
            " 'Tropicana Las Vegas - A DoubleTree by Hilton Hotel'\n",
            " 'Excalibur Hotel & Casino' 'Monte Carlo Resort & Casino'\n",
            " 'The LINQ Hotel & Casino' 'Hard Rock Hotel and Casino' 'Paris Las Vegas'\n",
            " 'The Mirage Hotel & Casino' 'Trump International Hotel Las Vegas'\n",
            " 'Plaza Hotel & Casino' 'Caesars Palace' 'Luxor Las Vegas'\n",
            " 'Signature at MGM' 'Planet Hollywood Resort & Casino' 'Vdara Hotel & Spa'\n",
            " 'Golden Nugget Hotel' 'Treasure Island - TI Hotel & Casino'\n",
            " 'Stratosphere Hotel, Casino and Tower' 'Mandalay Bay Resort & Casino'\n",
            " 'The Cosmopolitan of Las Vegas, Autograph Collection'\n",
            " 'SLS Las Vegas Hotel & Casino' 'Bellagio Las Vegas'\n",
            " 'Circus Circus Hotel & Casino Las Vegas'\n",
            " 'Flamingo Las Vegas Hotel & Casino' 'Delano Las Vegas'\n",
            " \"Harrah's Las Vegas\" 'The Palazzo Resort Hotel Casino'\n",
            " 'ARIA Resort & Casino']\n"
          ]
        }
      ]
    },
    {
      "cell_type": "code",
      "metadata": {
        "id": "xl_o0qtrAVwh"
      },
      "source": [
        ""
      ],
      "execution_count": 21,
      "outputs": []
    },
    {
      "cell_type": "markdown",
      "metadata": {
        "id": "JcigV3skE3Ej"
      },
      "source": [
        "# Sentiment Analysis (3 points)"
      ]
    },
    {
      "cell_type": "markdown",
      "metadata": {
        "id": "PeQhtf_3FNsX"
      },
      "source": [
        "## Remove non-English reviews"
      ]
    },
    {
      "cell_type": "markdown",
      "metadata": {
        "id": "G3CYr25fFS_1"
      },
      "source": [
        "**Answer this question**\n",
        "\n",
        "How can we use \"stopwords\" to detect non-English reviews? Describe in some detail the idea of this method **in your own words**. Do not explain the technical details of the code, conceptually describe the overall steps.\n",
        "\n",
        "**Answer below**\n",
        "Stopwords are used to remove low-level information in order to focus on the more important information. The removal of stop words is dependent on the task at hand. So, by using stopwords, we can detect non-english reviews by removing words in English so that when the code is run, the non-English reviews are the ones being generated.  \n",
        "Give big picture overview (replace w/ your answer).\n",
        "\n",
        "1. import nltk, import nltk.corpus, import stopwords, from nltk.tokenize ,import word_tokenize\n",
        "1. Use code: \n",
        "if 1==1: # set 1==1 to run or 1==0 to not run\n",
        "    df = df[df.not_english==0]\n",
        "1. text = \"blah blah blah (whatever the text is)\n",
        "1. Split text into words as stop words as a list of words--> text variable is tokenized and dividied into words\n",
        "1. Change words to lowercase if needed\n",
        "1. A list of words is created and the resulting list is joined to form the sentence again\n",
        "1. You can filter the sentence as needed\n"
      ]
    },
    {
      "cell_type": "code",
      "metadata": {
        "colab": {
          "base_uri": "https://localhost:8080/"
        },
        "id": "4B-hvtAeu0XF",
        "outputId": "993bf0ca-aaa6-44c4-d1d8-b53861c63f7a"
      },
      "source": [
        "# import stopwords\n",
        "import nltk\n",
        "nltk.download('stopwords') # download stopwords from NLTK servers\n",
        "from nltk.corpus import stopwords # import them\n",
        "sw = stopwords.words('english')"
      ],
      "execution_count": 22,
      "outputs": [
        {
          "output_type": "stream",
          "name": "stdout",
          "text": [
            "[nltk_data] Downloading package stopwords to /root/nltk_data...\n",
            "[nltk_data]   Package stopwords is already up-to-date!\n"
          ]
        }
      ]
    },
    {
      "cell_type": "code",
      "metadata": {
        "colab": {
          "base_uri": "https://localhost:8080/"
        },
        "id": "EYlcVDlPFENX",
        "outputId": "3c29d7af-acf5-4a31-dbee-8968b436abe3"
      },
      "source": [
        "# print the stopwords\n",
        "print(sw)"
      ],
      "execution_count": 23,
      "outputs": [
        {
          "output_type": "stream",
          "name": "stdout",
          "text": [
            "['i', 'me', 'my', 'myself', 'we', 'our', 'ours', 'ourselves', 'you', \"you're\", \"you've\", \"you'll\", \"you'd\", 'your', 'yours', 'yourself', 'yourselves', 'he', 'him', 'his', 'himself', 'she', \"she's\", 'her', 'hers', 'herself', 'it', \"it's\", 'its', 'itself', 'they', 'them', 'their', 'theirs', 'themselves', 'what', 'which', 'who', 'whom', 'this', 'that', \"that'll\", 'these', 'those', 'am', 'is', 'are', 'was', 'were', 'be', 'been', 'being', 'have', 'has', 'had', 'having', 'do', 'does', 'did', 'doing', 'a', 'an', 'the', 'and', 'but', 'if', 'or', 'because', 'as', 'until', 'while', 'of', 'at', 'by', 'for', 'with', 'about', 'against', 'between', 'into', 'through', 'during', 'before', 'after', 'above', 'below', 'to', 'from', 'up', 'down', 'in', 'out', 'on', 'off', 'over', 'under', 'again', 'further', 'then', 'once', 'here', 'there', 'when', 'where', 'why', 'how', 'all', 'any', 'both', 'each', 'few', 'more', 'most', 'other', 'some', 'such', 'no', 'nor', 'not', 'only', 'own', 'same', 'so', 'than', 'too', 'very', 's', 't', 'can', 'will', 'just', 'don', \"don't\", 'should', \"should've\", 'now', 'd', 'll', 'm', 'o', 're', 've', 'y', 'ain', 'aren', \"aren't\", 'couldn', \"couldn't\", 'didn', \"didn't\", 'doesn', \"doesn't\", 'hadn', \"hadn't\", 'hasn', \"hasn't\", 'haven', \"haven't\", 'isn', \"isn't\", 'ma', 'mightn', \"mightn't\", 'mustn', \"mustn't\", 'needn', \"needn't\", 'shan', \"shan't\", 'shouldn', \"shouldn't\", 'wasn', \"wasn't\", 'weren', \"weren't\", 'won', \"won't\", 'wouldn', \"wouldn't\"]\n"
          ]
        }
      ]
    },
    {
      "cell_type": "code",
      "metadata": {
        "id": "dXq82hMgvITg"
      },
      "source": [
        "# compute the number of stopwords in each review\n",
        "df['nstopwords'] = df.reviewtext.str.lower().str.split().apply(lambda x: len([w for w in x if w in sw]))"
      ],
      "execution_count": 24,
      "outputs": []
    },
    {
      "cell_type": "markdown",
      "metadata": {
        "id": "qFPWV4jSJE3A"
      },
      "source": [
        "**Answer below questions in your own words**\n",
        "\n",
        "1. What does `.str.lower()` do? \n",
        "    1. **Answer** changes it to lower case\n",
        "1. What does `str.split()` do?\n",
        "    1. **Answer** Splits the characters by commas\n",
        "1. What is the purpose of `apply(lambda x: ...)`?\n",
        "    1. **Answer** to check if the lower case strings \n",
        "are in stop words.\n",
        "1. What does `[w for w in x if w in sw]` do?\n",
        "    1. **Answer** assigns numerical Id's to terms\n",
        "1. What does `len(...)` do?\n",
        "    1. **Answer** Tells the length of the variable or dataset"
      ]
    },
    {
      "cell_type": "code",
      "metadata": {
        "id": "zbkmm6Gyvii_"
      },
      "source": [
        "# compute total number of words in review\n",
        "df['textlen'] = df.reviewtext.str.split().map(len)\n",
        "# compute percentage of stopwords\n",
        "df['pct_stopwords'] = df.nstopwords/df.textlen"
      ],
      "execution_count": 25,
      "outputs": []
    },
    {
      "cell_type": "code",
      "metadata": {
        "colab": {
          "base_uri": "https://localhost:8080/",
          "height": 282
        },
        "id": "n82oyQkAvqwx",
        "outputId": "25d3fe79-32f0-4c12-99e5-cfc465ecb014"
      },
      "source": [
        "# Plot the histgraom of stopwords\n",
        "df.pct_stopwords.hist() # distribution of stopwords"
      ],
      "execution_count": 26,
      "outputs": [
        {
          "output_type": "execute_result",
          "data": {
            "text/plain": [
              "<matplotlib.axes._subplots.AxesSubplot at 0x7fcb66ac2210>"
            ]
          },
          "metadata": {},
          "execution_count": 26
        },
        {
          "output_type": "display_data",
          "data": {
            "image/png": "[encoded data removed]",
            "text/plain": [
              "<Figure size 432x288 with 1 Axes>"
            ]
          },
          "metadata": {
            "needs_background": "light"
          }
        }
      ]
    },
    {
      "cell_type": "code",
      "metadata": {
        "colab": {
          "base_uri": "https://localhost:8080/"
        },
        "id": "oniK4hsgvulL",
        "outputId": "583808bf-106b-4e8a-8fc2-d5bcd2a00966"
      },
      "source": [
        "# select reviews with 0 percent stopwords\n",
        "# use df.loc[condition, 'reviewtext'] with the appropriate condition\n",
        "df.loc[df.pct_stopwords==.0, 'reviewtext']"
      ],
      "execution_count": 27,
      "outputs": [
        {
          "output_type": "execute_result",
          "data": {
            "text/plain": [
              "2018     Good service csdgh jhggrr hfdsew bczss hgdsssa...\n",
              "8014     良かったところ： 高級感あふれるホテル内装の装飾が素敵でした。 とにかく何でも高価なので、高...\n",
              "38546    good value, nice pool & seafood buffet...........\n",
              "42284    Great stay. !!!!!!!!!!!!Great stay. !!!!!!!!!!...\n",
              "Name: reviewtext, dtype: object"
            ]
          },
          "metadata": {},
          "execution_count": 27
        }
      ]
    },
    {
      "cell_type": "markdown",
      "metadata": {
        "id": "DxqY5mhsKXMg"
      },
      "source": [
        "**Answer this**\n",
        "There should only be 1 non-English review above. What is its index number?\n",
        "\n",
        "1. 8014"
      ]
    },
    {
      "cell_type": "code",
      "metadata": {
        "id": "I__OMSwvKjBV"
      },
      "source": [
        "# remove the non-english review\n",
        "# use df = df.loc[df.index != the non-english review index].reset_index()\n",
        "\n",
        "df = df.loc[df.index!= '8014'].reset_index() # fill this in"
      ],
      "execution_count": 28,
      "outputs": []
    },
    {
      "cell_type": "code",
      "metadata": {
        "id": "2TII4zujwhZr"
      },
      "source": [
        "# compute the polarity and subjectiity using the TextBlob library for every review\n",
        "# create 2 new columns for these values: 'polarity' and 'subjectivity'\n",
        "\n",
        "df['polarity'] = df['reviewtext'].apply(lambda x: TextBlob(x).sentiment.polarity) # calculate polarity and subjectivity in one shot\n",
        "df['subjectivity'] = df['reviewtext'].apply(lambda x: TextBlob(x).sentiment.subjectivity) # calculate polarity and subjectivity in one shot\n",
        "\n",
        "# this may take a few minutes to run"
      ],
      "execution_count": 29,
      "outputs": []
    },
    {
      "cell_type": "code",
      "metadata": {
        "colab": {
          "base_uri": "https://localhost:8080/",
          "height": 143
        },
        "id": "pCp9yQnnxMji",
        "outputId": "81ac07c6-fbf0-4d2e-a6f6-368196996ee8"
      },
      "source": [
        "# compute the correlation matrix betwee reviewrating, polarity, and subjectivity\n",
        "df[['reviewrating', 'polarity', 'subjectivity']].corr()"
      ],
      "execution_count": 30,
      "outputs": [
        {
          "output_type": "execute_result",
          "data": {
            "text/html": [
              "<div>\n",
              "<style scoped>\n",
              "    .dataframe tbody tr th:only-of-type {\n",
              "        vertical-align: middle;\n",
              "    }\n",
              "\n",
              "    .dataframe tbody tr th {\n",
              "        vertical-align: top;\n",
              "    }\n",
              "\n",
              "    .dataframe thead th {\n",
              "        text-align: right;\n",
              "    }\n",
              "</style>\n",
              "<table border=\"1\" class=\"dataframe\">\n",
              "  <thead>\n",
              "    <tr style=\"text-align: right;\">\n",
              "      <th></th>\n",
              "      <th>reviewrating</th>\n",
              "      <th>polarity</th>\n",
              "      <th>subjectivity</th>\n",
              "    </tr>\n",
              "  </thead>\n",
              "  <tbody>\n",
              "    <tr>\n",
              "      <th>reviewrating</th>\n",
              "      <td>1.000000</td>\n",
              "      <td>0.591409</td>\n",
              "      <td>0.237555</td>\n",
              "    </tr>\n",
              "    <tr>\n",
              "      <th>polarity</th>\n",
              "      <td>0.591409</td>\n",
              "      <td>1.000000</td>\n",
              "      <td>0.440563</td>\n",
              "    </tr>\n",
              "    <tr>\n",
              "      <th>subjectivity</th>\n",
              "      <td>0.237555</td>\n",
              "      <td>0.440563</td>\n",
              "      <td>1.000000</td>\n",
              "    </tr>\n",
              "  </tbody>\n",
              "</table>\n",
              "</div>"
            ],
            "text/plain": [
              "              reviewrating  polarity  subjectivity\n",
              "reviewrating      1.000000  0.591409      0.237555\n",
              "polarity          0.591409  1.000000      0.440563\n",
              "subjectivity      0.237555  0.440563      1.000000"
            ]
          },
          "metadata": {},
          "execution_count": 30
        }
      ]
    },
    {
      "cell_type": "markdown",
      "metadata": {
        "id": "P_UF2gMIMIbT"
      },
      "source": [
        "**Answer this**\n",
        "What does the correlation between review rating and subjectivity tell you about the information contained in the review text vs. the rating? Is review rating an adequate summary statistic about the review text's polarity?\n",
        "\n",
        "1. **Answer here** You can see there is a sizeable correlation between review rating and subjectivity, which tells us how individuals feel about their time spent with the use of review ratings. The respondants perception of a review rating may be different from one another, so rather than analyzing how people feel, we could see it and get a better sense of what people are talking about. Review rating could be an adequate summary statistic relating to polarity as it emphasises the positive or negative correlation in terms of negative and positive reviews, but there is definitely a better summary statistic you could use such as reviewtitle which gives us detail and insight into why they gave the rating they did.\n",
        "\n",
        "What about the correlation between polarity and subjectivity, what can you conclude about reviewers' emotionality (subjectivity) as a function of polarity? (Review what correlation measures and then apply that logic to these 2 sentiment variables) \n",
        "\n",
        "1. **Answer here** There is a positive emotionality toward the reviewratings regarding the polarity of subjectivity. Since polarity related to correlation and the numbers provided are positive, it shows a positive correlation between subjectivity and polarity. By proposing awarenesss of perspectives and seeing dispersed data, we can see that positive correlation in polarity leads to the positive correlation of subjectivity. "
      ]
    },
    {
      "cell_type": "code",
      "metadata": {
        "colab": {
          "base_uri": "https://localhost:8080/",
          "height": 282
        },
        "id": "3GfR6gb-x0qW",
        "outputId": "38b26ce0-0ef4-4320-a14d-20639620643b"
      },
      "source": [
        "# plot the histogram of review rating\n",
        "df.reviewrating.hist()"
      ],
      "execution_count": 31,
      "outputs": [
        {
          "output_type": "execute_result",
          "data": {
            "text/plain": [
              "<matplotlib.axes._subplots.AxesSubplot at 0x7fcb6c529750>"
            ]
          },
          "metadata": {},
          "execution_count": 31
        },
        {
          "output_type": "display_data",
          "data": {
            "image/png": "[encoded data removed]",
            "text/plain": [
              "<Figure size 432x288 with 1 Axes>"
            ]
          },
          "metadata": {
            "needs_background": "light"
          }
        }
      ]
    },
    {
      "cell_type": "code",
      "metadata": {
        "colab": {
          "base_uri": "https://localhost:8080/",
          "height": 285
        },
        "id": "mYgsvYyyySat",
        "outputId": "dc4feb5a-a945-4ff8-e067-8b426e2c901a"
      },
      "source": [
        "# plot the histogram of polarity\n",
        "df.polarity.hist()"
      ],
      "execution_count": 32,
      "outputs": [
        {
          "output_type": "execute_result",
          "data": {
            "text/plain": [
              "<matplotlib.axes._subplots.AxesSubplot at 0x7fcb736f1290>"
            ]
          },
          "metadata": {},
          "execution_count": 32
        },
        {
          "output_type": "display_data",
          "data": {
            "image/png": "[encoded data removed]",
            "text/plain": [
              "<Figure size 432x288 with 1 Axes>"
            ]
          },
          "metadata": {
            "needs_background": "light"
          }
        }
      ]
    },
    {
      "cell_type": "code",
      "metadata": {
        "colab": {
          "base_uri": "https://localhost:8080/",
          "height": 282
        },
        "id": "sbh_m_lTMA4E",
        "outputId": "4e49f58d-4dd4-4145-f291-d3751826180a"
      },
      "source": [
        "# plot the histogram of subjectivity\n",
        "df.subjectivity.hist()"
      ],
      "execution_count": 33,
      "outputs": [
        {
          "output_type": "execute_result",
          "data": {
            "text/plain": [
              "<matplotlib.axes._subplots.AxesSubplot at 0x7fcb6c576e10>"
            ]
          },
          "metadata": {},
          "execution_count": 33
        },
        {
          "output_type": "display_data",
          "data": {
            "image/png": "[encoded data removed]",
            "text/plain": [
              "<Figure size 432x288 with 1 Axes>"
            ]
          },
          "metadata": {
            "needs_background": "light"
          }
        }
      ]
    },
    {
      "cell_type": "markdown",
      "metadata": {
        "id": "C8GYA4coM5lF"
      },
      "source": [
        "**Answer this**\n",
        "1. Are most reviews positive or negative?\n",
        "    1. **Answer** Positive\n",
        "1. Are most reviews subjective or objective? (subjective >.5)\n",
        "    1. **Answer** Subjective"
      ]
    },
    {
      "cell_type": "code",
      "metadata": {
        "colab": {
          "base_uri": "https://localhost:8080/",
          "height": 292
        },
        "id": "fCpET2bsyT3p",
        "outputId": "ed737bdd-8fb4-4ffd-fc0c-78edc1472457"
      },
      "source": [
        "# compute the average polarity and review rating by travel_category\n",
        "# use a groupby statement \n",
        "df.groupby('travel_category')['polarity', 'reviewrating'].mean().sort_values(by = 'polarity')"
      ],
      "execution_count": 34,
      "outputs": [
        {
          "output_type": "stream",
          "name": "stderr",
          "text": [
            "/usr/local/lib/python3.7/dist-packages/ipykernel_launcher.py:3: FutureWarning: Indexing with multiple keys (implicitly converted to a tuple of keys) will be deprecated, use a list instead.\n",
            "  This is separate from the ipykernel package so we can avoid doing imports until\n"
          ]
        },
        {
          "output_type": "execute_result",
          "data": {
            "text/html": [
              "<div>\n",
              "<style scoped>\n",
              "    .dataframe tbody tr th:only-of-type {\n",
              "        vertical-align: middle;\n",
              "    }\n",
              "\n",
              "    .dataframe tbody tr th {\n",
              "        vertical-align: top;\n",
              "    }\n",
              "\n",
              "    .dataframe thead th {\n",
              "        text-align: right;\n",
              "    }\n",
              "</style>\n",
              "<table border=\"1\" class=\"dataframe\">\n",
              "  <thead>\n",
              "    <tr style=\"text-align: right;\">\n",
              "      <th></th>\n",
              "      <th>polarity</th>\n",
              "      <th>reviewrating</th>\n",
              "    </tr>\n",
              "    <tr>\n",
              "      <th>travel_category</th>\n",
              "      <th></th>\n",
              "      <th></th>\n",
              "    </tr>\n",
              "  </thead>\n",
              "  <tbody>\n",
              "    <tr>\n",
              "      <th>business</th>\n",
              "      <td>0.262430</td>\n",
              "      <td>3.900085</td>\n",
              "    </tr>\n",
              "    <tr>\n",
              "      <th>solo</th>\n",
              "      <td>0.279972</td>\n",
              "      <td>4.080357</td>\n",
              "    </tr>\n",
              "    <tr>\n",
              "      <th>friends</th>\n",
              "      <td>0.282550</td>\n",
              "      <td>3.988150</td>\n",
              "    </tr>\n",
              "    <tr>\n",
              "      <th>family</th>\n",
              "      <td>0.285446</td>\n",
              "      <td>4.054167</td>\n",
              "    </tr>\n",
              "    <tr>\n",
              "      <th>couple</th>\n",
              "      <td>0.286445</td>\n",
              "      <td>4.119497</td>\n",
              "    </tr>\n",
              "  </tbody>\n",
              "</table>\n",
              "</div>"
            ],
            "text/plain": [
              "                 polarity  reviewrating\n",
              "travel_category                        \n",
              "business         0.262430      3.900085\n",
              "solo             0.279972      4.080357\n",
              "friends          0.282550      3.988150\n",
              "family           0.285446      4.054167\n",
              "couple           0.286445      4.119497"
            ]
          },
          "metadata": {},
          "execution_count": 34
        }
      ]
    },
    {
      "cell_type": "markdown",
      "metadata": {
        "id": "lIOxge4lNYAP"
      },
      "source": [
        "**Answer this**\n",
        "\n",
        "Are the ranks of categories by review rating the same as the ranks by polarity? If not, posit some potential explanations.\n",
        "\n",
        "**Answer here** No, they are not, because polarity is the difference of two unlike variables. "
      ]
    },
    {
      "cell_type": "markdown",
      "metadata": {
        "id": "7vlDqmfWN6Ow"
      },
      "source": [
        "# Preprocessing for topic analysis (1)\n",
        "\n",
        "Before we can do topic analysis, we need to pre-process the texts.\n",
        "\n",
        "1. Lemmatization\n",
        "1. Phrase detection\n",
        "\n",
        "These steps may take some time.\n"
      ]
    },
    {
      "cell_type": "markdown",
      "metadata": {
        "id": "eZ7KVireN87X"
      },
      "source": [
        "## Lemmatization"
      ]
    },
    {
      "cell_type": "markdown",
      "metadata": {
        "id": "sDntp8gbN896"
      },
      "source": [
        "**Answer this** \n",
        "\n",
        "1. What is the purpose of lemmatization? \n",
        "    1. **Answer here** To convert plurals into singulars and conjugated verbs into infinitives.\n",
        "1. How does lemmatization help simplify the topic modeling problem? \n",
        "    1. **Answer here** It makes things more clear to read and separates the information efficiently.\n",
        "1. Give at least 3 examples of how some words may be lemmatized.\n",
        "    1. working to work\n",
        "    1. am to be\n",
        "    1. playing to play"
      ]
    },
    {
      "cell_type": "code",
      "metadata": {
        "id": "pFz-jasROUS7"
      },
      "source": [
        "# Create an nlp subfolder if it doesn't yet exist\n",
        "# call this subfolder nlppath\n",
        "nlppath = fpath + 'nlppath/'\n",
        "try:\n",
        "    os.listdir(nlppath)\n",
        "except:\n",
        "    os.mkdir(nlppath)"
      ],
      "execution_count": 35,
      "outputs": []
    },
    {
      "cell_type": "code",
      "metadata": {
        "id": "GJq5Kx_wQBHT"
      },
      "source": [
        "# remove any return or new line characters from the review texts\n",
        "# replace reviewtext column with the cleaned up review texts\n",
        "df['reviewtext'] = df.reviewtext.str.replace('\\r', '').str.replace('\\n', '')"
      ],
      "execution_count": 36,
      "outputs": []
    },
    {
      "cell_type": "code",
      "metadata": {
        "id": "oXeWyiWxOUVL"
      },
      "source": [
        "# create a list of review texts from column of review texts\n",
        "texts = list(df.reviewtext)\n",
        "\n",
        "# write the raw texts to disk where 1 row = 1 review\n",
        "with open(nlppath + 'rawtexts.txt', 'w', encoding = 'utf-8') as f:\n",
        "    f.write('\\n'.join(texts))"
      ],
      "execution_count": 37,
      "outputs": []
    },
    {
      "cell_type": "code",
      "metadata": {
        "id": "7S2oYsOPRi0o"
      },
      "source": [
        "# import stopwords again\n",
        "sw = stopwords.words('english')\n"
      ],
      "execution_count": 38,
      "outputs": []
    },
    {
      "cell_type": "code",
      "metadata": {
        "id": "3HJAVD20RXhx"
      },
      "source": [
        "# use the spacy library, create the variable nlp which is the english language model\n",
        "# i.e. nlp = spacy.load(...)\n",
        "nlp = spacy.load('en_core_web_sm')"
      ],
      "execution_count": 39,
      "outputs": []
    },
    {
      "cell_type": "code",
      "metadata": {
        "id": "gx3TThO5OUXv",
        "colab": {
          "base_uri": "https://localhost:8080/"
        },
        "outputId": "8a04c1e7-9926-4c2c-adfe-60821a96f8fd"
      },
      "source": [
        "# use the write_parsed_sentence_corpus function to lemmatize the reviews\n",
        "# do not stop this cell, if you do, you must reload the nlp function in previous cell before executing again\n",
        "\n",
        "readfile = nlppath + 'rawtexts.txt' # use the location of the raw review texts\n",
        "writefile = nlppath + 'review_sentences.txt' # specify a location for the lemmatized review sentences\n",
        "\n",
        "t0 = time.time() # time your code\n",
        "write_parsed_sentence_corpus(readfile, writefile, nlp, batch_size = 1000, n_threads = 1, sw=sw, exclusions = ['-PRON-'], encode = 'utf-8')\n",
        "td = (time.time()-t0)/60"
      ],
      "execution_count": 40,
      "outputs": [
        {
          "output_type": "stream",
          "name": "stdout",
          "text": [
            "Success\n"
          ]
        }
      ]
    },
    {
      "cell_type": "code",
      "metadata": {
        "id": "BnxzkIzgP5Ei",
        "colab": {
          "base_uri": "https://localhost:8080/"
        },
        "outputId": "7bbc09b8-ae8d-4511-f306-24611237babc"
      },
      "source": [
        "# print out how long it took to run\n",
        "print('Took {:.2f} minutes'.format(td)) "
      ],
      "execution_count": 41,
      "outputs": [
        {
          "output_type": "stream",
          "name": "stdout",
          "text": [
            "Took 7.32 minutes\n"
          ]
        }
      ]
    },
    {
      "cell_type": "markdown",
      "metadata": {
        "id": "tgM-pwyk8GS-"
      },
      "source": [
        "**Answer these**\n",
        "1. Explain the logic behind how phrase detection (aka phrase modeling) works.\n",
        "    1. **Answer**  to identify words that appear next to eachother more frequently than they would if drawn at random where the weights of the random draw reflect each word's frequency in a corpus of documents.\n",
        "1. If phrase modeling is run twice, what is the maximum length of a detected phrase?\n",
        "    1. **Answer** 7.19 minutes"
      ]
    },
    {
      "cell_type": "code",
      "metadata": {
        "id": "mvc1E-DgP5HF",
        "colab": {
          "base_uri": "https://localhost:8080/"
        },
        "outputId": "6ed1438e-58cc-40e5-9e08-9dc544ba3772"
      },
      "source": [
        "# run phrase detection\n",
        "t0 = time.time() # time your code\n",
        "# ngrams = phrase_detection(....)\n",
        "ngrams = phrase_detection(nlppath + 'review_sentences.txt', nlppath)  # runs 2 iterations by default\n",
        "td = (time.time()-t0)/60 #calculate time difference"
      ],
      "execution_count": 42,
      "outputs": [
        {
          "output_type": "stream",
          "name": "stderr",
          "text": [
            "/usr/local/lib/python3.7/dist-packages/gensim/models/phrases.py:598: UserWarning: For a faster implementation, use the gensim.models.phrases.Phraser class\n",
            "  warnings.warn(\"For a faster implementation, use the gensim.models.phrases.Phraser class\")\n"
          ]
        }
      ]
    },
    {
      "cell_type": "code",
      "metadata": {
        "id": "C7THUz0CP5MG",
        "colab": {
          "base_uri": "https://localhost:8080/"
        },
        "outputId": "99b12b3a-3639-442b-cae9-02dd7a8b390e"
      },
      "source": [
        "print('Took {:.2f} minutes'.format(td))"
      ],
      "execution_count": 43,
      "outputs": [
        {
          "output_type": "stream",
          "name": "stdout",
          "text": [
            "Took 0.81 minutes\n"
          ]
        }
      ]
    },
    {
      "cell_type": "code",
      "metadata": {
        "id": "ha7cBhF0l7ve",
        "colab": {
          "base_uri": "https://localhost:8080/"
        },
        "outputId": "acd6c660-f664-4c99-d5d7-cfe315f7cd38"
      },
      "source": [
        "# list the nlppath directory\n",
        "os.listdir(nlppath)"
      ],
      "execution_count": 44,
      "outputs": [
        {
          "output_type": "execute_result",
          "data": {
            "text/plain": [
              "['phrase_model_2.phrasemodel',\n",
              " 'sent_gram_2.txt',\n",
              " 'phrase_model_1.phrasemodel',\n",
              " 'parsed_reviews.txt',\n",
              " 'rawtexts.txt',\n",
              " 'review_sentences.txt',\n",
              " 'sent_gram_1.txt',\n",
              " 'TripAdvisor_parsed.csv',\n",
              " 'lda20.lda.state',\n",
              " 'lda20.lda.id2word',\n",
              " 'lda20.lda',\n",
              " 'lda20.lda.expElogbeta.npy',\n",
              " 'lda40.lda.state',\n",
              " 'lda40.lda',\n",
              " 'lda40.lda.expElogbeta.npy',\n",
              " 'lda40.lda.id2word',\n",
              " 'lda60.lda.state',\n",
              " 'lda60.lda.id2word',\n",
              " 'lda60.lda',\n",
              " 'lda60.lda.expElogbeta.npy',\n",
              " 'lda80.lda.state',\n",
              " 'lda80.lda.id2word',\n",
              " 'lda80.lda',\n",
              " 'lda80.lda.expElogbeta.npy',\n",
              " 'lda100.lda.state',\n",
              " 'lda100.lda.id2word',\n",
              " 'lda100.lda',\n",
              " 'lda100.lda.expElogbeta.npy',\n",
              " 'lda120.lda.state',\n",
              " 'lda120.lda',\n",
              " 'lda120.lda.id2word',\n",
              " 'lda120.lda.expElogbeta.npy',\n",
              " 'lda140.lda.state',\n",
              " 'lda140.lda',\n",
              " 'lda140.lda.id2word',\n",
              " 'lda140.lda.expElogbeta.npy',\n",
              " 'lda160.lda.state',\n",
              " 'lda160.lda.id2word',\n",
              " 'lda160.lda',\n",
              " 'lda160.lda.expElogbeta.npy',\n",
              " 'lda180.lda.state',\n",
              " 'lda180.lda.id2word',\n",
              " 'lda180.lda',\n",
              " 'lda180.lda.expElogbeta.npy',\n",
              " 'lda200.lda.state',\n",
              " 'lda200.lda.id2word',\n",
              " 'lda200.lda',\n",
              " 'lda200.lda.expElogbeta.npy']"
            ]
          },
          "metadata": {},
          "execution_count": 44
        }
      ]
    },
    {
      "cell_type": "code",
      "metadata": {
        "id": "al1G0LBTv82F"
      },
      "source": [
        "# use line_doc to preview a few sentences from sent_gram_2\n",
        "# construct line generator here, call it \"lines\":\n",
        "lines = line_doc(nlppath + 'sent_gram_2.txt')"
      ],
      "execution_count": 45,
      "outputs": []
    },
    {
      "cell_type": "code",
      "metadata": {
        "id": "MkzfD8XgwGmJ",
        "colab": {
          "base_uri": "https://localhost:8080/",
          "height": 35
        },
        "outputId": "ef36d6a7-65fc-4115-be1e-f8b09dc4950b"
      },
      "source": [
        "# preview sentences here, run this cell a few times, make sure you see some phrases\n",
        "# phrases are denoted by \"_\" combining 2 words\n",
        "next(lines) "
      ],
      "execution_count": 46,
      "outputs": [
        {
          "output_type": "execute_result",
          "data": {
            "application/vnd.google.colaboratory.intrinsic+json": {
              "type": "string"
            },
            "text/plain": [
              "'excellent property\\n'"
            ]
          },
          "metadata": {},
          "execution_count": 46
        }
      ]
    },
    {
      "cell_type": "code",
      "metadata": {
        "id": "iXwseVWKwbrJ",
        "colab": {
          "base_uri": "https://localhost:8080/"
        },
        "outputId": "23a82075-7e1f-46c8-ecbd-f6eadf692a27"
      },
      "source": [
        "# use phrase_prediction function to produce a file that is lemmatized and phrased and 1 line = 1 **review**\n",
        "# each review will be lemmatized and phrase-detected\n",
        "nlp = spacy.load('en_core_web_sm')\n",
        "\n",
        "t0 = time.time()\n",
        "phrase_prediction(nlppath + 'rawtexts.txt', nlppath + 'parsed_reviews.txt',nlp, ngrams, sw = sw, exclusions = ['-PRON-'], batch_size = 500, n_threads = 2, encode = 'utf-8')\n",
        "td = (time.time()-t0)/60 #calculate time difference"
      ],
      "execution_count": 47,
      "outputs": [
        {
          "output_type": "stream",
          "name": "stderr",
          "text": [
            "/usr/local/lib/python3.7/dist-packages/gensim/models/phrases.py:598: UserWarning: For a faster implementation, use the gensim.models.phrases.Phraser class\n",
            "  warnings.warn(\"For a faster implementation, use the gensim.models.phrases.Phraser class\")\n"
          ]
        }
      ]
    },
    {
      "cell_type": "code",
      "metadata": {
        "id": "JKM4UVHKy7YC",
        "colab": {
          "base_uri": "https://localhost:8080/"
        },
        "outputId": "b6af5f8a-2467-4832-e4a6-d8ea379bde3e"
      },
      "source": [
        "print('Took {:.2f} minutes'.format(td))"
      ],
      "execution_count": 48,
      "outputs": [
        {
          "output_type": "stream",
          "name": "stdout",
          "text": [
            "Took 8.10 minutes\n"
          ]
        }
      ]
    },
    {
      "cell_type": "code",
      "metadata": {
        "id": "DNBQvgvMzTwG"
      },
      "source": [
        "# let's take a look at what we did\n",
        "# construct line generator here, call it \"lines\", to preview the output of the \n",
        "# phrase prediction step\n",
        "\n",
        "lines = line_doc(nlppath + 'parsed_reviews.txt') # fill this in here"
      ],
      "execution_count": 49,
      "outputs": []
    },
    {
      "cell_type": "code",
      "metadata": {
        "id": "B9US4fGqzTyi",
        "colab": {
          "base_uri": "https://localhost:8080/"
        },
        "outputId": "e63ffe57-2dce-4fef-c2b5-7df27ad1a7c9"
      },
      "source": [
        "# look at a few reviews\n",
        "lines"
      ],
      "execution_count": 50,
      "outputs": [
        {
          "output_type": "execute_result",
          "data": {
            "text/plain": [
              "<generator object line_doc at 0x7fcb7bc922d0>"
            ]
          },
          "metadata": {},
          "execution_count": 50
        }
      ]
    },
    {
      "cell_type": "code",
      "metadata": {
        "id": "bGMod-hd194f"
      },
      "source": [
        "# read in reviews file as list of reviews\n",
        "with open(nlppath + 'parsed_reviews.txt', 'r', encoding = 'utf-8') as f:\n",
        "    reviews = f.readlines()"
      ],
      "execution_count": 51,
      "outputs": []
    },
    {
      "cell_type": "code",
      "metadata": {
        "id": "ioGk6u-72DOl",
        "colab": {
          "base_uri": "https://localhost:8080/"
        },
        "outputId": "4bc69029-bcf9-4603-ce30-225c7dd93497"
      },
      "source": [
        "# make sure list of parsed reviews is the same length as the dataframe\n",
        "len(reviews), len(df)"
      ],
      "execution_count": 52,
      "outputs": [
        {
          "output_type": "execute_result",
          "data": {
            "text/plain": [
              "(46644, 46644)"
            ]
          },
          "metadata": {},
          "execution_count": 52
        }
      ]
    },
    {
      "cell_type": "code",
      "metadata": {
        "id": "ONNKvay-2Jsl"
      },
      "source": [
        "# set column, parsed, to equal list of parsed reviews\n",
        "df['parsed'] = reviews"
      ],
      "execution_count": 53,
      "outputs": []
    },
    {
      "cell_type": "code",
      "metadata": {
        "id": "wIGRY8u32PT3"
      },
      "source": [
        "# Save the dataframe\n",
        "if 1==1:\n",
        "    df.to_csv(nlppath + 'TripAdvisor_parsed.csv', encoding = 'utf-8')\n",
        "else:\n",
        "    df = pd.read_csv(nlppath + 'TripAdvisor_parsed.csv', index_col = 0, encoding = 'utf-8')"
      ],
      "execution_count": 54,
      "outputs": []
    },
    {
      "cell_type": "markdown",
      "metadata": {
        "id": "7-yHBurtzT1R"
      },
      "source": [
        "# TFIDF Model (3 points)"
      ]
    },
    {
      "cell_type": "markdown",
      "metadata": {
        "id": "iqJTccg83E3x"
      },
      "source": [
        "**Answer these**\n",
        "1. What does TF-IDF stand for? \n",
        "    1. **Answer here** Term frequency and Inverse Document Frequency\n",
        "1. What are the 2 fundamental ways of counting word frequencies that is embedded into the logic of TF-IDF? In your own words, what is the logical relationship between each type of word frequency and the word's importance in representing a document.\n",
        "    1. **First one** Filtering out extreme words\n",
        "        1. **Explain logic** removing words that appear too frequently or too infrequently which adds meaning to the computer's understanding of a document. \n",
        "    1. **Second one** Apply Topic Modeling\n",
        "        1. **Explain logic** finding words that are most salient"
      ]
    },
    {
      "cell_type": "markdown",
      "metadata": {
        "id": "4TDs8ME81338"
      },
      "source": [
        "## Construct dictionary and corpus"
      ]
    },
    {
      "cell_type": "code",
      "metadata": {
        "id": "xGSAvnK-136y",
        "colab": {
          "base_uri": "https://localhost:8080/"
        },
        "outputId": "e09df6ad-716a-435c-e510-bb915d4418cd"
      },
      "source": [
        "# list of documents as list of words where 1 document = all reviews for a business\n",
        "reviews = list(df.parsed.str.split()) # construct list of list of words (outer list is per review)\n",
        "\n",
        "# compute dictionary\n",
        "dictionary = corpora.Dictionary(reviews)\n",
        "\n",
        "# look at number of words in vocabulary\n",
        "print(len(dictionary))"
      ],
      "execution_count": 55,
      "outputs": [
        {
          "output_type": "stream",
          "name": "stdout",
          "text": [
            "45544\n"
          ]
        }
      ]
    },
    {
      "cell_type": "markdown",
      "metadata": {
        "id": "yfoPujBq6YLd"
      },
      "source": [
        "**Answer these**\n",
        "\n",
        "1. Why might you want to filter out words that appear in too few documents?\n",
        "    1. **Answer this** Filtering the information  in few documents could be repetitive and filtering them out would make the document more clear.\n",
        "1. Why might you want to filter out words that appear in too many documents?\n",
        "    1. **Answer this** Filtering the information helps us find what is relevant to what we are looking for across a range of information and could put variables into groups if needed.\n"
      ]
    },
    {
      "cell_type": "code",
      "metadata": {
        "id": "IZG3bDY214BS",
        "colab": {
          "base_uri": "https://localhost:8080/"
        },
        "outputId": "223bb2d8-e5f8-45c4-ad5d-3cec144610fe"
      },
      "source": [
        "# filter out too frequent or too infrequent words\n",
        "dictionary.filter_extremes(no_below=10, no_above=.10)\n",
        "# no_below is the lower qualifying limit of documents in which a word appears\n",
        "# no_above is the upper qualifying proportional limit in which a word appears\n",
        "print(len(dictionary))\n"
      ],
      "execution_count": 56,
      "outputs": [
        {
          "output_type": "stream",
          "name": "stdout",
          "text": [
            "11403\n"
          ]
        }
      ]
    },
    {
      "cell_type": "code",
      "metadata": {
        "id": "mkmP3fri7FvH"
      },
      "source": [
        "# construct a corpus which is like list of bag of words\n",
        "# where each bag of words is a dictionary of word ID's mapped to word count in document\n",
        "corpus = [dictionary.doc2bow(r) for r in reviews]"
      ],
      "execution_count": 57,
      "outputs": []
    },
    {
      "cell_type": "markdown",
      "metadata": {
        "id": "hFeARNh67Wkc"
      },
      "source": [
        "## Create the TF-IDF model, look at keywords for a few reviews"
      ]
    },
    {
      "cell_type": "code",
      "metadata": {
        "id": "58rvnaRs7Y9Z"
      },
      "source": [
        "tfidf = tfidfmodel.TfidfModel(corpus, dictionary = dictionary) # compute the tfidf model"
      ],
      "execution_count": 58,
      "outputs": []
    },
    {
      "cell_type": "code",
      "metadata": {
        "id": "GThx0G177_s7"
      },
      "source": [
        "def tfidf_keywords(txt, tfidf, dictionary, topn = 5):\n",
        "    \"\"\"\n",
        "    Takes in a parsed string, txt\n",
        "    a tfidf mode, tfidf\n",
        "    a gensim dictionary, dictionary,\n",
        "    and parameter topn that defines the number of top keywords to return\n",
        "    outputs topk, a list of tuples (keyword, keyword tfidf score)\n",
        "    \"\"\"\n",
        "    topk = sorted([(dictionary[t],f) for t,f in tfidf[dictionary.doc2bow(txt)]], key=lambda x: -x[-1])[:topn]\n",
        "    return topk"
      ],
      "execution_count": 59,
      "outputs": []
    },
    {
      "cell_type": "code",
      "metadata": {
        "id": "2SEdbnWu9ILA"
      },
      "source": [
        "# create column of top5 words\n",
        "df['top5_tfidf'] = df.parsed.str.split().apply(lambda x: tfidf_keywords(x, tfidf, dictionary, topn = 5))"
      ],
      "execution_count": 60,
      "outputs": []
    },
    {
      "cell_type": "code",
      "metadata": {
        "id": "S68vfGBz-uB5",
        "colab": {
          "base_uri": "https://localhost:8080/"
        },
        "outputId": "bd38d74a-210a-4952-d899-773625643d96"
      },
      "source": [
        "# randomly sample a review (run a few times)\n",
        "r = df.sample(1) # sample a single row, r\n",
        "txt = r.reviewtext.iloc[0] # extract review text\n",
        "rating = r.reviewrating.iloc[0]\n",
        "hotel = r.v_name.iloc[0]\n",
        "keywords = r.top5_tfidf.iloc[0] # extract TFIDF keywords \n",
        "print('{} star review'.format(rating), hotel)\n",
        "print(txt)\n",
        "print(keywords)"
      ],
      "execution_count": 61,
      "outputs": [
        {
          "output_type": "stream",
          "name": "stdout",
          "text": [
            "4 star review Caesars Palace\n",
            "Consistently a good experience, rooms clean and good activities on site! The restaurants were good with my favorite being the Mesa Grill. The Mesa was a bit more casual with high class flair. The main floor seems to \"ramble\", you have to walk it a couple of times to figure out the best way to get from one place to another.\n",
            "[('mesa', 0.39926375589834145), ('flair', 0.3853671358933837), ('mesa_grill', 0.33650127036879196), ('high_class', 0.32151908832119225), ('consistently', 0.28884815836359606)]\n"
          ]
        }
      ]
    },
    {
      "cell_type": "code",
      "metadata": {
        "id": "K-0q3vW4YKLk",
        "colab": {
          "base_uri": "https://localhost:8080/",
          "height": 205
        },
        "outputId": "c814cd7d-bdb6-477a-87fa-4532a81dc984"
      },
      "source": [
        "r"
      ],
      "execution_count": 62,
      "outputs": [
        {
          "output_type": "execute_result",
          "data": {
            "text/html": [
              "<div>\n",
              "<style scoped>\n",
              "    .dataframe tbody tr th:only-of-type {\n",
              "        vertical-align: middle;\n",
              "    }\n",
              "\n",
              "    .dataframe tbody tr th {\n",
              "        vertical-align: top;\n",
              "    }\n",
              "\n",
              "    .dataframe thead th {\n",
              "        text-align: right;\n",
              "    }\n",
              "</style>\n",
              "<table border=\"1\" class=\"dataframe\">\n",
              "  <thead>\n",
              "    <tr style=\"text-align: right;\">\n",
              "      <th></th>\n",
              "      <th>index</th>\n",
              "      <th>gd</th>\n",
              "      <th>helpful_num</th>\n",
              "      <th>location</th>\n",
              "      <th>mgrRspnDummy</th>\n",
              "      <th>mgr_res_date</th>\n",
              "      <th>mrtext</th>\n",
              "      <th>ratingDate</th>\n",
              "      <th>review_id</th>\n",
              "      <th>reviewrating</th>\n",
              "      <th>reviewtext</th>\n",
              "      <th>reviewtitle</th>\n",
              "      <th>stay_month</th>\n",
              "      <th>stay_year</th>\n",
              "      <th>travel_category</th>\n",
              "      <th>username</th>\n",
              "      <th>ranking</th>\n",
              "      <th>rating_vol</th>\n",
              "      <th>rdetails</th>\n",
              "      <th>lnglat</th>\n",
              "      <th>rsubrating</th>\n",
              "      <th>vtype</th>\n",
              "      <th>amenities</th>\n",
              "      <th>details</th>\n",
              "      <th>v_name</th>\n",
              "      <th>rating_cat</th>\n",
              "      <th>nstopwords</th>\n",
              "      <th>textlen</th>\n",
              "      <th>pct_stopwords</th>\n",
              "      <th>polarity</th>\n",
              "      <th>subjectivity</th>\n",
              "      <th>parsed</th>\n",
              "      <th>top5_tfidf</th>\n",
              "    </tr>\n",
              "  </thead>\n",
              "  <tbody>\n",
              "    <tr>\n",
              "      <th>21950</th>\n",
              "      <td>21950</td>\n",
              "      <td>g45963-d91762</td>\n",
              "      <td>NaN</td>\n",
              "      <td>Carmel</td>\n",
              "      <td>0</td>\n",
              "      <td>NaN</td>\n",
              "      <td>Thank you for taking the time to review your l...</td>\n",
              "      <td>2015-05-01</td>\n",
              "      <td>269332283</td>\n",
              "      <td>4</td>\n",
              "      <td>Consistently a good experience, rooms clean an...</td>\n",
              "      <td>“ Nice, but very busy! ”</td>\n",
              "      <td>4.0</td>\n",
              "      <td>2015.0</td>\n",
              "      <td>friends</td>\n",
              "      <td>Richard R</td>\n",
              "      <td>[43, 267]</td>\n",
              "      <td>20123.0</td>\n",
              "      <td>NaN</td>\n",
              "      <td>[-115.1745, 36.11617]</td>\n",
              "      <td>{}</td>\n",
              "      <td>Hotel_Review</td>\n",
              "      <td>{'Things to do': 'Pool Restaurant Fitness Cent...</td>\n",
              "      <td>{'Address:': '3570 Las Vegas Blvd S, Las Vegas...</td>\n",
              "      <td>Caesars Palace</td>\n",
              "      <td>4.0</td>\n",
              "      <td>28</td>\n",
              "      <td>61</td>\n",
              "      <td>0.459016</td>\n",
              "      <td>0.446833</td>\n",
              "      <td>0.604</td>\n",
              "      <td>consistently good experience room clean good a...</td>\n",
              "      <td>[(mesa, 0.39926375589834145), (flair, 0.385367...</td>\n",
              "    </tr>\n",
              "  </tbody>\n",
              "</table>\n",
              "</div>"
            ],
            "text/plain": [
              "       index  ...                                         top5_tfidf\n",
              "21950  21950  ...  [(mesa, 0.39926375589834145), (flair, 0.385367...\n",
              "\n",
              "[1 rows x 33 columns]"
            ]
          },
          "metadata": {},
          "execution_count": 62
        }
      ]
    },
    {
      "cell_type": "markdown",
      "metadata": {
        "id": "ngDFbxIIAuLE"
      },
      "source": [
        "**Answer this**\n",
        "\n",
        "Try to sample a few reviews and their respective keywords, did they make sense? Explain.\n",
        "\n",
        "1. **Answer here**\n",
        "Yes, they made sense. Each review was generated and the keywords were used to to find the review needed/wanted to analyze or find."
      ]
    },
    {
      "cell_type": "markdown",
      "metadata": {
        "id": "5Dzl3ZmeCOQ5"
      },
      "source": [
        "# Run LDA Model, explore topics (4 points)"
      ]
    },
    {
      "cell_type": "markdown",
      "metadata": {
        "id": "AqwinYyhCfOe"
      },
      "source": [
        "**Answer this**\n",
        "\n",
        "In your own words, 1) describe LDA model 2) what advantages does it have over TF-IDF?\n",
        "\n",
        "1. **Describe** a statistical model that allows sets of observations to be explained, specifically the similarities of the data and is explained by unobserved groups.\n",
        "2. **Advantages** \n",
        "- organize textual information\n",
        "-understand and summarize textual information\n",
        "-Finding topical patterns\n",
        "-annotating documents"
      ]
    },
    {
      "cell_type": "code",
      "metadata": {
        "colab": {
          "base_uri": "https://localhost:8080/"
        },
        "id": "FRB9ZBgQCe23",
        "outputId": "c683f9f9-239b-4ee2-ba96-bc407711c842"
      },
      "source": [
        "from gensim.models.ldamulticore import LdaMulticore # import lda function\n",
        "run = True\n",
        "if run:\n",
        "    t0 = time.time()\n",
        "    perplexity = list()\n",
        "    # define a training and testing set\n",
        "    corpus_train, corpus_test = train_test_split(corpus, test_size = .05)\n",
        "    for numtopics in range(20, 201, 20): # loop through 20,40,...200 topics\n",
        "        lda = LdaMulticore(corpus_train, id2word=dictionary, num_topics=numtopics)\n",
        "        lda.save(nlppath+'lda{}.lda'.format(numtopics)) # save the model so we can load it up again later w/o running the model\n",
        "        p = lda.log_perplexity(corpus_test) # compute the perplexity on testing set\n",
        "        # save numtopics,p to the perplexity list \n",
        "        perplexity.append([numtopics, p])\n",
        "        # print out number of topics\n",
        "        print(numtopics)\n",
        "    perplexity = pd.DataFrame(perplexity, columns = ['ntopics', 'perplexity'])\n",
        "    td = time.time()-t0\n",
        "    print('Took {:.2f} minutes'.format(td/60))"
      ],
      "execution_count": 63,
      "outputs": [
        {
          "output_type": "stream",
          "name": "stdout",
          "text": [
            "20\n",
            "40\n",
            "60\n",
            "80\n"
          ]
        },
        {
          "output_type": "stream",
          "name": "stderr",
          "text": [
            "/usr/local/lib/python3.7/dist-packages/gensim/models/ldamodel.py:1023: RuntimeWarning: divide by zero encountered in log\n",
            "  diff = np.log(self.expElogbeta)\n"
          ]
        },
        {
          "output_type": "stream",
          "name": "stdout",
          "text": [
            "100\n",
            "120\n",
            "140\n",
            "160\n",
            "180\n",
            "200\n",
            "Took 17.21 minutes\n"
          ]
        }
      ]
    },
    {
      "cell_type": "code",
      "metadata": {
        "colab": {
          "base_uri": "https://localhost:8080/",
          "height": 265
        },
        "id": "AU4U0_oNUUUC",
        "outputId": "9933113a-ebc4-4229-af08-4b5bd2ccf5d6"
      },
      "source": [
        "if run:\n",
        "    plt.plot(perplexity.ntopics, perplexity.perplexity)"
      ],
      "execution_count": 64,
      "outputs": [
        {
          "output_type": "display_data",
          "data": {
            "image/png": "[encoded data removed]",
            "text/plain": [
              "<Figure size 432x288 with 1 Axes>"
            ]
          },
          "metadata": {
            "needs_background": "light"
          }
        }
      ]
    },
    {
      "cell_type": "markdown",
      "metadata": {
        "id": "tD7RJzfaUmWl"
      },
      "source": [
        "**Answer Question**\n",
        "\n",
        "How many topics appear to minimize perplexity? **Answer** 8"
      ]
    },
    {
      "cell_type": "code",
      "metadata": {
        "id": "HJARvor3YlX9"
      },
      "source": [
        "# Load lda best model\n",
        "ntopics = 200\n",
        "lda = LdaMulticore.load(nlppath + 'lda{}.lda'.format(ntopics))\n",
        "lda.minimum_probability = 0."
      ],
      "execution_count": 65,
      "outputs": []
    },
    {
      "cell_type": "code",
      "metadata": {
        "colab": {
          "base_uri": "https://localhost:8080/"
        },
        "id": "t0loLA6GDqwd",
        "outputId": "5ee6bf4a-0bab-48d2-8462-49d24fb3d2ba"
      },
      "source": [
        "# view all topics\n",
        "lda.show_topics(ntopics)"
      ],
      "execution_count": 66,
      "outputs": [
        {
          "output_type": "execute_result",
          "data": {
            "text/plain": [
              "[(0,\n",
              "  '0.182*\"luxor\" + 0.036*\"tour\" + 0.031*\"girlfriend\" + 0.012*\"rice\" + 0.011*\"2014\" + 0.011*\"a_c\" + 0.009*\"two\" + 0.009*\"effect\" + 0.009*\"perfect\" + 0.009*\"next\"'),\n",
              " (1,\n",
              "  '0.038*\"stratosphere\" + 0.027*\"invite\" + 0.026*\"extensive\" + 0.024*\"wave\" + 0.017*\"$_$\" + 0.016*\"leg\" + 0.015*\"book_expedia\" + 0.013*\"shelf\" + 0.013*\"west_wing\" + 0.012*\"arena\"'),\n",
              " (2,\n",
              "  '0.044*\"attentive\" + 0.029*\"comfy\" + 0.019*\"immaculate\" + 0.015*\"although\" + 0.015*\"fashion_show_mall\" + 0.013*\"suite\" + 0.013*\"touch\" + 0.013*\"wynn\" + 0.011*\"trump\" + 0.011*\"view_mountain\"'),\n",
              " (3,\n",
              "  '0.031*\"shower\" + 0.024*\"deep\" + 0.024*\"filthy\" + 0.023*\"noise\" + 0.019*\"jacuzzi\" + 0.017*\"huge\" + 0.014*\"bed\" + 0.013*\"large\" + 0.012*\"music\" + 0.012*\"near_elevator\"'),\n",
              " (4,\n",
              "  '0.034*\"totally\" + 0.020*\"trip\" + 0.018*\"rio\" + 0.016*\"attraction\" + 0.016*\"play_slot\" + 0.015*\"luggage\" + 0.015*\"everyone\" + 0.015*\"flamingo\" + 0.013*\"bunch\" + 0.012*\"go_back\"'),\n",
              " (5,\n",
              "  '0.033*\"looking\" + 0.025*\"remodel\" + 0.022*\"steak_house\" + 0.021*\"tournament\" + 0.015*\"bus\" + 0.015*\"cater\" + 0.014*\"end\" + 0.014*\"virtually\" + 0.014*\"volume\" + 0.013*\"dull\"'),\n",
              " (6,\n",
              "  '0.033*\"30\" + 0.030*\"nasty\" + 0.023*\"seating\" + 0.020*\"toward\" + 0.020*\"minimum\" + 0.016*\"continue\" + 0.016*\"outdoor_pool\" + 0.016*\"ambience\" + 0.015*\"salad\" + 0.013*\"\\'s\"'),\n",
              " (7,\n",
              "  '0.038*\"hash_house\" + 0.031*\"renovate\" + 0.025*\"change\" + 0.024*\"opt\" + 0.020*\"accessible\" + 0.013*\"month_advance\" + 0.013*\"first_foremost\" + 0.012*\"king_size\" + 0.012*\"vs\" + 0.012*\"perfectly_locate\"'),\n",
              " (8,\n",
              "  '0.032*\"upon\" + 0.025*\"donut\" + 0.018*\"least\" + 0.016*\"exhaust\" + 0.014*\"discover\" + 0.013*\"bug\" + 0.013*\"cost\" + 0.013*\"£\" + 0.012*\"ipad\" + 0.012*\"offer\"'),\n",
              " (9,\n",
              "  '0.040*\"style\" + 0.035*\"garage\" + 0.025*\"staff_member\" + 0.022*\"movie\" + 0.019*\"hire\" + 0.016*\"ceasar\" + 0.015*\"sound\" + 0.014*\"worth_every_penny\" + 0.013*\"feel\" + 0.013*\"row\"'),\n",
              " (10,\n",
              "  '0.053*\"website\" + 0.032*\"lazy_river\" + 0.030*\"poolside\" + 0.024*\"march\" + 0.022*\"right_across\" + 0.021*\"amazing\" + 0.013*\"treat_like_royalty\" + 0.012*\"express\" + 0.012*\"accent\" + 0.012*\"furnishing\"'),\n",
              " (11,\n",
              "  '0.019*\"tray\" + 0.018*\"deal_breaker\" + 0.016*\"bottled_water\" + 0.016*\"part_honeymoon\" + 0.014*\"2_bedroom_suite\" + 0.013*\"bait_switch\" + 0.013*\"fork\" + 0.013*\"gold_tower\" + 0.012*\"affordability\" + 0.010*\"tick\"'),\n",
              " (12,\n",
              "  '0.046*\"load\" + 0.035*\"attend\" + 0.029*\"surprised\" + 0.028*\"hilton\" + 0.027*\"decoration\" + 0.019*\"personnel\" + 0.018*\"excitement\" + 0.017*\"cigarette_smoke\" + 0.016*\"friendly\" + 0.015*\"treat\"'),\n",
              " (13,\n",
              "  '0.042*\"security\" + 0.030*\"reserve\" + 0.019*\"card\" + 0.019*\"tell\" + 0.015*\"steal\" + 0.013*\"motel\" + 0.012*\"suitcase\" + 0.012*\"talk_manager\" + 0.011*\"give\" + 0.011*\"try\"'),\n",
              " (14,\n",
              "  '0.031*\"spot\" + 0.025*\"payout\" + 0.024*\"timeshare\" + 0.020*\"hit\" + 0.019*\"slot\" + 0.016*\"fun\" + 0.016*\"mb\" + 0.015*\"roxy_\\'s_diner\" + 0.014*\"21st_floor\" + 0.013*\"buffet\"'),\n",
              " (15,\n",
              "  '0.044*\"9\" + 0.036*\"summer\" + 0.021*\"slice\" + 0.021*\"overwhelming\" + 0.018*\"edge\" + 0.018*\"cool\" + 0.016*\"bell_service\" + 0.015*\"dancer\" + 0.015*\"afterwards\" + 0.014*\"perhaps\"'),\n",
              " (16,\n",
              "  '0.071*\"high_roller\" + 0.048*\"accommodate\" + 0.028*\"celebrate\" + 0.027*\"venture\" + 0.026*\"sun\" + 0.023*\"play\" + 0.019*\"mediocre\" + 0.017*\"cocktail_service\" + 0.014*\"diet\" + 0.013*\"beautiful\"'),\n",
              " (17,\n",
              "  '0.050*\"5_night\" + 0.023*\"ridiculous\" + 0.022*\"pay\" + 0.021*\"easy_navigate\" + 0.018*\"5_star\" + 0.017*\"soak\" + 0.014*\"wallpaper\" + 0.013*\"refuse\" + 0.012*\"resort\" + 0.011*\"plenty_space\"'),\n",
              " (18,\n",
              "  '0.041*\"+\" + 0.035*\"grade\" + 0.026*\"process\" + 0.021*\"west_tower\" + 0.019*\"carpet_hallway\" + 0.019*\"flat\" + 0.018*\"kinda\" + 0.014*\"slow\" + 0.013*\"elevator\" + 0.013*\"two\"'),\n",
              " (19,\n",
              "  '0.042*\"15\" + 0.036*\"shopping_mall\" + 0.020*\"strange\" + 0.017*\"asian\" + 0.017*\"interact\" + 0.017*\"un\" + 0.015*\"nevada\" + 0.014*\"swim_pool\" + 0.013*\"fountain_bellagio\" + 0.013*\"truck\"'),\n",
              " (20,\n",
              "  '0.057*\"pyramid\" + 0.045*\"tower\" + 0.033*\"long_wait\" + 0.028*\"bed_comfy\" + 0.024*\"comp\" + 0.017*\"luxor\" + 0.016*\"disgusting\" + 0.014*\"heaven\" + 0.012*\"ac\" + 0.012*\"concerned\"'),\n",
              " (21,\n",
              "  '0.028*\"luckily\" + 0.018*\"wait\" + 0.014*\"cut\" + 0.012*\"try\" + 0.012*\"spend\" + 0.012*\"elevator\" + 0.011*\"hour\" + 0.011*\"long\" + 0.011*\"error\" + 0.010*\"birthday\"'),\n",
              " (22,\n",
              "  '0.081*\"planet_hollywood\" + 0.065*\"tv\" + 0.020*\"sit_area\" + 0.019*\"large\" + 0.018*\"fan\" + 0.015*\"channel\" + 0.014*\"total_reward\" + 0.013*\"young_crowd\" + 0.013*\"tv_\\'s\" + 0.012*\"perform\"'),\n",
              " (23,\n",
              "  '0.041*\"house\" + 0.031*\"double\" + 0.030*\"remain\" + 0.021*\"mirage\" + 0.017*\"m_life\" + 0.014*\"venetian\" + 0.013*\"something_everyone\" + 0.013*\"see_sight\" + 0.013*\"suite\" + 0.011*\"splash\"'),\n",
              " (24,\n",
              "  '0.041*\"regret\" + 0.028*\"king\" + 0.023*\"two_queen_bed\" + 0.021*\"lie\" + 0.021*\"14\" + 0.020*\"treatment\" + 0.019*\"bed\" + 0.014*\"miracle_mile_shop\" + 0.013*\"similar\" + 0.012*\"state_art\"'),\n",
              " (25,\n",
              "  '0.111*\"kid\" + 0.038*\"fab\" + 0.034*\"blast\" + 0.018*\"trendy\" + 0.015*\"rug\" + 0.015*\"parent\" + 0.015*\"secure\" + 0.015*\"weight\" + 0.014*\"fun\" + 0.012*\"eat\"'),\n",
              " (26,\n",
              "  '0.036*\"attendant\" + 0.031*\"aside\" + 0.025*\"lively\" + 0.022*\"involve\" + 0.016*\"bottom\" + 0.014*\"egg\" + 0.014*\"outdated\" + 0.012*\"incident\" + 0.011*\"checkout\" + 0.011*\"four_star\"'),\n",
              " (27,\n",
              "  '0.021*\"worry\" + 0.018*\"hakkasan\" + 0.018*\"deuce_bus\" + 0.016*\"bang_buck\" + 0.016*\"thoroughly_enjoy\" + 0.015*\"alarm\" + 0.013*\"croissant\" + 0.012*\"sand\" + 0.011*\"pretty_much\" + 0.011*\"cheap\"'),\n",
              " (28,\n",
              "  '0.039*\"surround\" + 0.032*\"elevator\" + 0.024*\"bright\" + 0.023*\"close\" + 0.016*\"floor\" + 0.015*\"idea\" + 0.015*\"door\" + 0.014*\"shut\" + 0.014*\"third\" + 0.013*\"work\"'),\n",
              " (29,\n",
              "  '0.026*\"upstairs\" + 0.021*\"recent\" + 0.020*\"downfall\" + 0.020*\"quite_dated\" + 0.018*\"cup_coffee\" + 0.015*\"diamond\" + 0.014*\"drink\" + 0.013*\"bar\" + 0.013*\"diamond_lounge\" + 0.010*\"$_20\"'),\n",
              " (30,\n",
              "  '0.051*\"starbuck\" + 0.025*\"free_parking\" + 0.025*\"tower_2\" + 0.024*\"month_ago\" + 0.020*\"left\" + 0.017*\"daily_resort_fee\" + 0.017*\"pocket\" + 0.014*\"magic\" + 0.013*\"21st\" + 0.012*\"hello\"'),\n",
              " (31,\n",
              "  '0.029*\"walking\" + 0.024*\"double_queen\" + 0.021*\"courtyard\" + 0.021*\"café\" + 0.020*\"4_p.m.\" + 0.019*\"die\" + 0.014*\"amazing\" + 0.014*\"recent_trip\" + 0.013*\"effectively\" + 0.013*\"random\"'),\n",
              " (32,\n",
              "  '0.025*\"15_minute\" + 0.024*\"gross\" + 0.021*\"confusing\" + 0.016*\"frankly\" + 0.015*\"without_hesitation\" + 0.015*\"shower\" + 0.015*\"self_park\" + 0.014*\"toiletry\" + 0.012*\"waterfall\" + 0.012*\"water\"'),\n",
              " (33,\n",
              "  '0.023*\"u\" + 0.019*\"response\" + 0.017*\"ask\" + 0.016*\"pay\" + 0.014*\"offer\" + 0.013*\"request\" + 0.013*\"internet\" + 0.012*\"give\" + 0.012*\"book\" + 0.011*\"call\"'),\n",
              " (34,\n",
              "  '0.054*\"horrible\" + 0.032*\"coffee\" + 0.028*\"terrible\" + 0.027*\"suck\" + 0.023*\"7\" + 0.022*\"look_forward\" + 0.022*\"destination\" + 0.020*\"never\" + 0.018*\"ground\" + 0.018*\"coffee_maker\"'),\n",
              " (35,\n",
              "  '0.044*\"central\" + 0.038*\"need_update\" + 0.022*\"smoke\" + 0.022*\"resort_fee\" + 0.020*\"décor\" + 0.019*\"efficient\" + 0.014*\"smell\" + 0.013*\"amount\" + 0.013*\"self_parking\" + 0.013*\"pretty\"'),\n",
              " (36,\n",
              "  '0.053*\"ride\" + 0.042*\"elevator\" + 0.016*\"pretty\" + 0.015*\"meat\" + 0.013*\"luxor\" + 0.012*\"nothing_special\" + 0.011*\"boxing\" + 0.011*\"treadmill\" + 0.011*\"fitness_center\" + 0.010*\"unpack\"'),\n",
              " (37,\n",
              "  '0.067*\"switch\" + 0.029*\"situate\" + 0.029*\"piano_bar\" + 0.028*\"button\" + 0.027*\"obvious\" + 0.022*\"attention_detail\" + 0.018*\"marble\" + 0.017*\"clock\" + 0.016*\"score\" + 0.013*\"drawback\"'),\n",
              " (38,\n",
              "  '0.109*\"harrah_\\'s\" + 0.058*\"dining\" + 0.051*\"gaming\" + 0.027*\"venue\" + 0.023*\"fabulous\" + 0.022*\"property\" + 0.020*\"concert\" + 0.018*\"choice\" + 0.018*\"resort\" + 0.017*\"certainly\"'),\n",
              " (39,\n",
              "  '0.063*\"excited\" + 0.030*\"exist\" + 0.020*\"finish\" + 0.019*\"respond\" + 0.017*\"obnoxious\" + 0.017*\"friendly_efficient\" + 0.015*\"nerve\" + 0.012*\"severely\" + 0.011*\"dining_choice\" + 0.011*\"behind_desk\"'),\n",
              " (40,\n",
              "  '0.061*\"smoky\" + 0.043*\"cleanliness\" + 0.030*\"sport_book\" + 0.025*\"food_option\" + 0.025*\"casino_host\" + 0.023*\"restroom\" + 0.023*\"cleaning\" + 0.022*\"deli\" + 0.014*\"heart\" + 0.013*\"block\"'),\n",
              " (41,\n",
              "  '0.044*\"luxury\" + 0.030*\"public\" + 0.020*\"suite\" + 0.020*\"22\" + 0.018*\"sport_bar\" + 0.018*\"painful\" + 0.018*\"dead\" + 0.017*\"usual\" + 0.016*\"inquire\" + 0.012*\"senior\"'),\n",
              " (42,\n",
              "  '0.046*\"central_location\" + 0.046*\"best\" + 0.035*\"together\" + 0.028*\"training\" + 0.025*\"new\" + 0.023*\"previously\" + 0.022*\"favourite\" + 0.018*\"23rd_floor\" + 0.015*\"counter\" + 0.014*\"grow\"'),\n",
              " (43,\n",
              "  '0.022*\"suite\" + 0.019*\"due\" + 0.018*\"wet\" + 0.017*\"40\" + 0.015*\"cleaning_staff\" + 0.011*\"side\" + 0.011*\"feel\" + 0.010*\"dinner_buffet\" + 0.010*\"break\" + 0.010*\"sell\"'),\n",
              " (44,\n",
              "  '0.042*\"fall\" + 0.033*\"well_worth\" + 0.028*\"assist\" + 0.021*\"disturb\" + 0.019*\"focus\" + 0.019*\"cafe\" + 0.017*\"paint\" + 0.015*\"hide\" + 0.015*\"sushi\" + 0.013*\"dump\"'),\n",
              " (45,\n",
              "  '0.060*\"reasonably_price\" + 0.025*\"queue\" + 0.023*\"whilst\" + 0.023*\"shame\" + 0.021*\"holiday\" + 0.018*\"large\" + 0.017*\"beat_location\" + 0.017*\"treat_like\" + 0.016*\"artwork\" + 0.016*\"anniversary\"'),\n",
              " (46,\n",
              "  '0.024*\"cocktail\" + 0.022*\"2_queen_bed\" + 0.022*\"pot\" + 0.022*\"happy_hour\" + 0.020*\"family_vacation\" + 0.018*\"ny_ny\" + 0.016*\"photo\" + 0.016*\"thick\" + 0.015*\"worker\" + 0.014*\"right_center\"'),\n",
              " (47,\n",
              "  '0.087*\"fridge\" + 0.023*\"charge\" + 0.023*\"fee\" + 0.022*\"chill\" + 0.020*\"item\" + 0.018*\"fitness\" + 0.013*\"citizen\" + 0.011*\"put\" + 0.009*\"free\" + 0.009*\"anything\"'),\n",
              " (48,\n",
              "  '0.041*\"golden_nugget\" + 0.036*\"fremont_street\" + 0.027*\"downtown\" + 0.021*\"fremont\" + 0.017*\"lunch\" + 0.015*\"eat\" + 0.014*\"nugget\" + 0.013*\"smoking\" + 0.011*\"buffet\" + 0.011*\"right\"'),\n",
              " (49,\n",
              "  '0.033*\"classic\" + 0.033*\"laugh\" + 0.027*\"answer_question\" + 0.026*\"spectacular\" + 0.025*\"nothing_much_trouble\" + 0.024*\"honestly_say\" + 0.020*\"scream\" + 0.018*\"eating\" + 0.018*\"afraid\" + 0.015*\"cord\"'),\n",
              " (50,\n",
              "  '0.028*\"11_a.m.\" + 0.024*\"new_years\" + 0.021*\"little_dated\" + 0.019*\"shape\" + 0.019*\"tend\" + 0.017*\"law\" + 0.016*\"w/\" + 0.016*\"directly_across\" + 0.015*\"fare\" + 0.014*\"tough\"'),\n",
              " (51,\n",
              "  '0.047*\"bell_desk\" + 0.023*\"assign\" + 0.016*\"baby\" + 0.014*\"bag\" + 0.014*\"taxi_stand\" + 0.012*\"20_min\" + 0.011*\"house_keep\" + 0.011*\"large\" + 0.011*\"bed\" + 0.010*\"pool_complex\"'),\n",
              " (52,\n",
              "  '0.059*\"mandalay_bay\" + 0.043*\"hang\" + 0.037*\"closet\" + 0.023*\"exciting\" + 0.020*\"line_long\" + 0.017*\"non_smoker\" + 0.017*\"giant\" + 0.016*\"entertaining\" + 0.015*\"extend\" + 0.014*\"walkway\"'),\n",
              " (53,\n",
              "  '0.049*\"private\" + 0.032*\"mandalay\" + 0.021*\"east\" + 0.021*\"dish\" + 0.017*\"suite\" + 0.015*\"mj\" + 0.014*\"instruction\" + 0.013*\"plastic\" + 0.012*\"proud\" + 0.009*\"area\"'),\n",
              " (54,\n",
              "  '0.030*\"self\" + 0.029*\"damage\" + 0.025*\"deposit\" + 0.019*\"newspaper\" + 0.019*\"exclusive\" + 0.019*\"spring_break\" + 0.015*\"mc\" + 0.012*\"construction_site\" + 0.012*\"leave\" + 0.012*\"nobu\"'),\n",
              " (55,\n",
              "  '0.041*\"cocktail_waitress\" + 0.029*\"casual\" + 0.024*\"aria_cafe\" + 0.017*\"check_process\" + 0.016*\"penthouse\" + 0.015*\"siren\" + 0.014*\"come_home\" + 0.011*\"expand\" + 0.011*\"several_time\" + 0.009*\"major_problem\"'),\n",
              " (56,\n",
              "  '0.157*\"paris\" + 0.036*\"ticket\" + 0.024*\"basically\" + 0.018*\"simple\" + 0.017*\"executive\" + 0.015*\"new_years_eve\" + 0.012*\"forum\" + 0.011*\"cheap\" + 0.010*\"eiffel_tower\" + 0.009*\"tea\"'),\n",
              " (57,\n",
              "  '0.115*\"mgm_grand\" + 0.049*\"signature\" + 0.027*\"fee\" + 0.025*\"tower_1\" + 0.022*\"mgm\" + 0.017*\"five\" + 0.015*\"tower\" + 0.014*\"impossible\" + 0.014*\"close\" + 0.013*\"$_100\"'),\n",
              " (58,\n",
              "  '0.070*\"taxi\" + 0.032*\"server\" + 0.030*\"within_walk_distance\" + 0.022*\"burger\" + 0.020*\"last_minute\" + 0.019*\"strong\" + 0.018*\"visit\" + 0.018*\"mid_strip\" + 0.016*\"coffee_machine\" + 0.014*\"six\"'),\n",
              " (59,\n",
              "  '0.115*\"wynn\" + 0.077*\"encore\" + 0.032*\"dine\" + 0.026*\"wynn_encore\" + 0.023*\"beautiful\" + 0.013*\"amazing\" + 0.013*\"dessert\" + 0.012*\"every\" + 0.011*\"show\" + 0.011*\"encore_wynn\"'),\n",
              " (60,\n",
              "  '0.049*\"will\" + 0.032*\"getaway\" + 0.030*\"nightlife\" + 0.028*\"friend_family\" + 0.025*\"satisfied\" + 0.021*\"next_year\" + 0.020*\"garden\" + 0.017*\"trip\" + 0.015*\"would_recommend\" + 0.015*\"back\"'),\n",
              " (61,\n",
              "  '0.038*\"apart\" + 0.036*\"valet_parking\" + 0.030*\"central_strip\" + 0.023*\"fast\" + 0.020*\"weak\" + 0.017*\"cake\" + 0.015*\"marketing\" + 0.014*\"soft\" + 0.013*\"presentation\" + 0.013*\"noise_level\"'),\n",
              " (62,\n",
              "  '0.033*\"honest\" + 0.023*\"5_minute\" + 0.022*\"nervous\" + 0.020*\"ample\" + 0.018*\"premise\" + 0.018*\"near_future\" + 0.017*\"route\" + 0.017*\"cirque_du_soleil\" + 0.017*\"liking\" + 0.016*\"bit\"'),\n",
              " (63,\n",
              "  '0.042*\"limited\" + 0.033*\"king_suite\" + 0.025*\"exterior\" + 0.023*\"october\" + 0.019*\"brand\" + 0.010*\"telephone\" + 0.010*\"first_impression\" + 0.009*\"lower\" + 0.009*\"table\" + 0.009*\"motion_sensor\"'),\n",
              " (64,\n",
              "  '0.040*\"nearby\" + 0.020*\"shop\" + 0.018*\"pool_area\" + 0.017*\"ground_floor\" + 0.017*\"plenty\" + 0.015*\"c\" + 0.013*\"centre_strip\" + 0.013*\"link\" + 0.012*\"large\" + 0.012*\"suggestion\"'),\n",
              " (65,\n",
              "  '0.030*\"corner_suite\" + 0.028*\"inexpensive\" + 0.026*\"across_street\" + 0.019*\"additional\" + 0.015*\"cosmopolitan\" + 0.014*\"mcdonalds\" + 0.014*\"soaker_tub\" + 0.014*\"never_hear\" + 0.014*\"oasis\" + 0.012*\"option\"'),\n",
              " (66,\n",
              "  '0.134*\"friendly_staff\" + 0.046*\"fit\" + 0.032*\"walk_distance\" + 0.026*\"check_breeze\" + 0.020*\"exactly\" + 0.011*\"black_jack\" + 0.011*\"old_dingy\" + 0.011*\"12th_floor\" + 0.011*\"inexpensive\" + 0.010*\"drink\"'),\n",
              " (67,\n",
              "  '0.050*\"1\" + 0.034*\"2\" + 0.031*\"issue\" + 0.026*\"3\" + 0.023*\"4\" + 0.012*\"work\" + 0.012*\"report\" + 0.012*\"bad\" + 0.011*\"outlet\" + 0.010*\"come\"'),\n",
              " (68,\n",
              "  '0.066*\"sls\" + 0.029*\"temperature\" + 0.023*\"small\" + 0.021*\"monorail\" + 0.016*\"stephanie\" + 0.015*\"area\" + 0.013*\"world_tower\" + 0.013*\"palace\" + 0.012*\"design\" + 0.010*\"large\"'),\n",
              " (69,\n",
              "  '0.025*\"open_door\" + 0.018*\"workout\" + 0.018*\"equipment\" + 0.013*\"bypass\" + 0.013*\"door\" + 0.013*\"damp\" + 0.013*\"never\" + 0.012*\"open\" + 0.011*\"tree\" + 0.011*\"pic\"'),\n",
              " (70,\n",
              "  '0.041*\"circus_circus\" + 0.034*\"new_york\" + 0.024*\"alone\" + 0.021*\"roller_coaster\" + 0.014*\"area\" + 0.012*\"close_action\" + 0.012*\"pizza_place\" + 0.011*\"end\" + 0.011*\"cheap\" + 0.011*\"work\"'),\n",
              " (71,\n",
              "  '0.039*\"interested\" + 0.036*\"show_ticket\" + 0.027*\"sign\" + 0.026*\"inconvenient\" + 0.025*\"ago\" + 0.025*\"purpose\" + 0.014*\"arrangement\" + 0.011*\"chinese_restaurant\" + 0.011*\"lastly\" + 0.010*\"title\"'),\n",
              " (72,\n",
              "  '0.036*\"particularly\" + 0.033*\"depend\" + 0.032*\"helpful_friendly\" + 0.024*\"property\" + 0.019*\"shopping_area\" + 0.019*\"make_reservation\" + 0.019*\"appealing\" + 0.018*\"annoy\" + 0.016*\"express_check\" + 0.015*\"outdoor\"'),\n",
              " (73,\n",
              "  '0.050*\"breakfast_buffet\" + 0.022*\"product\" + 0.021*\"common_area\" + 0.019*\"simply\" + 0.018*\"unbelievable\" + 0.016*\"octavius_tower\" + 0.015*\"augustus_tower\" + 0.013*\"arizona\" + 0.013*\"think\" + 0.012*\"scam\"'),\n",
              " (74,\n",
              "  '0.059*\"tell\" + 0.026*\"ask\" + 0.024*\"call\" + 0.017*\"manager\" + 0.015*\"another\" + 0.015*\"give\" + 0.014*\"book\" + 0.013*\"front_desk\" + 0.013*\"move\" + 0.012*\"line\"'),\n",
              " (75,\n",
              "  '0.073*\"classy\" + 0.050*\"first_class\" + 0.027*\"smoke_free\" + 0.021*\"breathtake\" + 0.015*\"fantastic\" + 0.013*\"pancake\" + 0.012*\"bathroom_tub_shower\" + 0.012*\"spacious\" + 0.012*\"suite\" + 0.011*\"airport\"'),\n",
              " (76,\n",
              "  '0.069*\"mall\" + 0.023*\"suggest\" + 0.020*\"price_reasonable\" + 0.017*\"country\" + 0.013*\"street\" + 0.013*\"eat\" + 0.012*\"cart\" + 0.012*\"pre\" + 0.011*\"plus\" + 0.011*\"show\"'),\n",
              " (77,\n",
              "  '0.036*\"smokey\" + 0.026*\"match\" + 0.024*\"checkin\" + 0.022*\"increase\" + 0.018*\"ideal\" + 0.016*\"shade\" + 0.015*\"area\" + 0.014*\"decent_size\" + 0.012*\"worth\" + 0.011*\"st\"'),\n",
              " (78,\n",
              "  '0.046*\"child\" + 0.032*\"position\" + 0.017*\"roof\" + 0.015*\"condo\" + 0.015*\"orient\" + 0.014*\"40_minute\" + 0.010*\"hotwire\" + 0.010*\"-the\" + 0.009*\"never_hear_noise\" + 0.009*\"afternoon\"'),\n",
              " (79,\n",
              "  '0.051*\"moment\" + 0.022*\"3rd\" + 0.020*\"front_door\" + 0.019*\"min\" + 0.019*\"premier\" + 0.016*\"fear\" + 0.014*\"show_age\" + 0.014*\"$_15.99\" + 0.014*\"3\" + 0.013*\"2\"'),\n",
              " (80,\n",
              "  '0.057*\"little_bit\" + 0.035*\"noisy\" + 0.016*\"30_minute\" + 0.015*\"functional\" + 0.014*\"face\" + 0.014*\"alternative\" + 0.013*\"monorail_station\" + 0.010*\"sleep\" + 0.010*\"door\" + 0.009*\"wait\"'),\n",
              " (81,\n",
              "  '0.053*\"middle_strip\" + 0.033*\"vacation\" + 0.023*\"lucky\" + 0.021*\"wow\" + 0.016*\"worth_money\" + 0.015*\"arrive_late\" + 0.014*\"describe\" + 0.014*\"4th\" + 0.014*\"warn\" + 0.012*\"help\"'),\n",
              " (82,\n",
              "  '0.052*\"super\" + 0.035*\"safe\" + 0.033*\"nicely\" + 0.027*\"little_pricey\" + 0.027*\"wi_fi\" + 0.021*\"close\" + 0.019*\"every_year\" + 0.018*\"south\" + 0.015*\"star\" + 0.015*\"maid\"'),\n",
              " (83,\n",
              "  '0.030*\"operate\" + 0.029*\"absolutely\" + 0.028*\"registration\" + 0.021*\"las_vegas_blvd\" + 0.018*\"minimal\" + 0.017*\"poor\" + 0.016*\"sight\" + 0.016*\"bed_linen\" + 0.015*\"come_across\" + 0.014*\"kid\"'),\n",
              " (84,\n",
              "  '0.028*\"arrival\" + 0.024*\"noon\" + 0.023*\"daughter\" + 0.019*\"occasion\" + 0.018*\"sense\" + 0.016*\"lovely\" + 0.012*\"cafe\" + 0.012*\"arrange\" + 0.012*\"print\" + 0.011*\"magical\"'),\n",
              " (85,\n",
              "  '0.061*\"massive\" + 0.021*\"good_value_money\" + 0.015*\"huge\" + 0.014*\"rooftop\" + 0.011*\"aspect\" + 0.011*\"multi\" + 0.010*\"modern_decor\" + 0.010*\"mini_bar_fridge\" + 0.010*\"main_attraction\" + 0.010*\"big\"'),\n",
              " (86,\n",
              "  '0.035*\"bartender\" + 0.033*\"waiter\" + 0.030*\"visit_las_vegas\" + 0.026*\"lv\" + 0.025*\"exceptional\" + 0.025*\"grab\" + 0.024*\"pizza\" + 0.019*\"slightly\" + 0.019*\"january\" + 0.018*\"12\"'),\n",
              " (87,\n",
              "  '0.138*\"mirage\" + 0.041*\"half\" + 0.024*\"fill\" + 0.022*\"odor\" + 0.017*\"housekeeper\" + 0.013*\"still\" + 0.011*\"two\" + 0.009*\"pantry\" + 0.009*\"smoke\" + 0.009*\"carry\"'),\n",
              " (88,\n",
              "  '0.068*\"throughout\" + 0.034*\"partner\" + 0.025*\"gaming_floor\" + 0.022*\"reservation\" + 0.020*\"somewhere_else\" + 0.019*\"definitely_return\" + 0.018*\"actual\" + 0.018*\"set\" + 0.013*\"provide\" + 0.011*\"property\"'),\n",
              " (89,\n",
              "  '0.028*\"force\" + 0.027*\"heart_strip\" + 0.025*\"coffee_shop\" + 0.022*\"connected\" + 0.017*\"booze\" + 0.016*\"daybed\" + 0.015*\"invitation\" + 0.014*\"margarita\" + 0.014*\"cvs\" + 0.013*\"property\"'),\n",
              " (90,\n",
              "  '0.053*\"center\" + 0.037*\"meeting\" + 0.036*\"stunning\" + 0.026*\"mind\" + 0.023*\"research\" + 0.022*\"band\" + 0.021*\"plus_side\" + 0.020*\"music\" + 0.019*\"dj\" + 0.019*\"spring\"'),\n",
              " (91,\n",
              "  '0.039*\"linen\" + 0.027*\"definitely_recommend\" + 0.023*\"suite\" + 0.022*\"venetian_palazzo\" + 0.019*\"venetian\" + 0.017*\"tourist\" + 0.017*\"rent\" + 0.013*\"luxurious\" + 0.013*\"concierge\" + 0.013*\"unit\"'),\n",
              " (92,\n",
              "  '0.089*\"delano\" + 0.044*\"mandalay_bay\" + 0.033*\"treasure_island\" + 0.026*\"new_year\" + 0.020*\"expedia\" + 0.018*\"wait_line\" + 0.015*\"clue\" + 0.012*\"mandalay\" + 0.011*\"acceptable\" + 0.010*\"access\"'),\n",
              " (93,\n",
              "  '0.034*\"work\" + 0.032*\"fix\" + 0.031*\"hard_rock\" + 0.024*\"maintenance\" + 0.022*\"light\" + 0.020*\"aunt\" + 0.019*\"since_last\" + 0.012*\"answer\" + 0.012*\"anytime\" + 0.012*\"awake\"'),\n",
              " (94,\n",
              "  '0.032*\"chair\" + 0.027*\"drink\" + 0.020*\"breakfast\" + 0.014*\"early\" + 0.013*\"table\" + 0.013*\"rip\" + 0.012*\"pay\" + 0.012*\"$_15\" + 0.011*\"eat\" + 0.011*\"anywhere_else\"'),\n",
              " (95,\n",
              "  '0.045*\"eye\" + 0.027*\"share\" + 0.024*\"driver\" + 0.022*\"recommend_anyone\" + 0.017*\"soda\" + 0.016*\"typically\" + 0.015*\"bridge\" + 0.013*\"pleasant_surprise\" + 0.012*\"every_staff_member\" + 0.012*\"waiting\"'),\n",
              " (96,\n",
              "  '0.038*\"entry\" + 0.024*\"conveniently\" + 0.023*\"walk_distance_everything\" + 0.022*\"high_tech\" + 0.022*\"guard\" + 0.021*\"spare\" + 0.020*\"automate\" + 0.018*\"33rd_floor\" + 0.014*\"hear_music\" + 0.013*\"usage\"'),\n",
              " (97,\n",
              "  '0.046*\"wedding\" + 0.028*\"pull\" + 0.016*\"temp\" + 0.012*\"cell_phone\" + 0.012*\"work\" + 0.011*\"confuse\" + 0.010*\"chapel\" + 0.010*\"think\" + 0.009*\"way\" + 0.009*\"later\"'),\n",
              " (98,\n",
              "  '0.086*\"bally_\\'s\" + 0.025*\"wear\" + 0.022*\"jubilee_tower\" + 0.021*\"class\" + 0.019*\"old\" + 0.016*\"charge_resort_fee\" + 0.015*\"update\" + 0.015*\"obviously\" + 0.013*\"chip\" + 0.013*\"flamingo\"'),\n",
              " (99,\n",
              "  '0.134*\"spa\" + 0.023*\"chocolate\" + 0.021*\"massage\" + 0.015*\"modern\" + 0.011*\"fantastic\" + 0.010*\"large\" + 0.010*\"amazing\" + 0.010*\"\\'s\" + 0.010*\"lovely\" + 0.010*\"spacious\"'),\n",
              " (100,\n",
              "  '0.028*\"right_middle_strip\" + 0.025*\"property\" + 0.022*\"complex\" + 0.020*\"range\" + 0.019*\"well_maintain\" + 0.018*\"facility\" + 0.017*\"employee\" + 0.017*\"pleasure\" + 0.016*\"towards\" + 0.016*\"luck\"'),\n",
              " (101,\n",
              "  '0.036*\"tired\" + 0.032*\"dated\" + 0.025*\"furniture\" + 0.023*\"old\" + 0.019*\"piece\" + 0.016*\"shabby\" + 0.015*\"sadly\" + 0.015*\"toast\" + 0.015*\"upgrade\" + 0.014*\"carpet\"'),\n",
              " (102,\n",
              "  '0.050*\"paul\" + 0.048*\"crazy\" + 0.031*\"shower_head\" + 0.030*\"n\" + 0.024*\"son\" + 0.023*\"drop\" + 0.023*\"burn\" + 0.021*\"=\" + 0.020*\"shock\" + 0.016*\"tear\"'),\n",
              " (103,\n",
              "  '0.081*\"excalibur\" + 0.076*\"fun\" + 0.039*\"theme\" + 0.016*\"cozy\" + 0.015*\"swimming_pool\" + 0.015*\"easy\" + 0.015*\"atmosphere\" + 0.014*\"buffet\" + 0.013*\"convenient\" + 0.011*\"visit\"'),\n",
              " (104,\n",
              "  '0.037*\"mini_bar\" + 0.036*\"mirror\" + 0.025*\"ceiling\" + 0.020*\"kitchen\" + 0.017*\"seem\" + 0.017*\"small\" + 0.016*\"lighting\" + 0.016*\"sportsbook\" + 0.015*\"suite\" + 0.012*\"bedroom\"'),\n",
              " (105,\n",
              "  '0.089*\"rio\" + 0.060*\"conference\" + 0.028*\"wynn\" + 0.024*\"got\" + 0.016*\"rate\" + 0.015*\"conference_center\" + 0.014*\"large\" + 0.014*\"west\" + 0.013*\"many\" + 0.012*\"property\"'),\n",
              " (106,\n",
              "  '0.041*\"benefit\" + 0.029*\"ensure\" + 0.015*\"duty\" + 0.014*\"speaker\" + 0.013*\"chap\" + 0.013*\"flag\" + 0.012*\"significant\" + 0.012*\"far_favorite\" + 0.011*\"search\" + 0.011*\"150\"'),\n",
              " (107,\n",
              "  '0.055*\"trump\" + 0.027*\"incredible\" + 0.026*\"suite\" + 0.024*\"feeling\" + 0.021*\"huge\" + 0.021*\"living\" + 0.019*\"beautiful\" + 0.018*\"comfortable\" + 0.016*\"area\" + 0.015*\"famous\"'),\n",
              " (108,\n",
              "  '0.028*\"total_rewards\" + 0.021*\"lounger\" + 0.020*\"cup\" + 0.018*\"coffee\" + 0.015*\"popular\" + 0.015*\"dust\" + 0.014*\"ice\" + 0.014*\"later\" + 0.014*\"beverage\" + 0.013*\"floor\"'),\n",
              " (109,\n",
              "  '0.016*\"know\" + 0.014*\"tell\" + 0.014*\"hot_water\" + 0.013*\"think\" + 0.012*\"leave\" + 0.012*\"ask\" + 0.011*\"bag\" + 0.011*\"already\" + 0.011*\"back\" + 0.011*\"come\"'),\n",
              " (110,\n",
              "  '0.016*\"reservation\" + 0.016*\"tell\" + 0.015*\"give\" + 0.014*\"pay\" + 0.013*\"fee\" + 0.013*\"girl\" + 0.013*\"front_desk_clerk\" + 0.010*\"upgrade\" + 0.010*\"request\" + 0.010*\"ask\"'),\n",
              " (111,\n",
              "  '0.058*\"11\" + 0.032*\"rule\" + 0.028*\"dish\" + 0.022*\"cabanas\" + 0.018*\"coin\" + 0.018*\"submit\" + 0.018*\"somehow\" + 0.013*\"$_8.00\" + 0.011*\"swim\" + 0.010*\"remember_correctly\"'),\n",
              " (112,\n",
              "  '0.022*\"mini_fridge\" + 0.022*\"neat\" + 0.021*\"five_star\" + 0.017*\"wall\" + 0.017*\"personally\" + 0.015*\"unfair\" + 0.015*\"draw\" + 0.015*\"stage\" + 0.013*\"elegance\" + 0.013*\"contemporary\"'),\n",
              " (113,\n",
              "  '0.079*\"shuttle\" + 0.030*\"child\" + 0.024*\"100\" + 0.020*\"staff_friendly\" + 0.019*\"overlook_pool\" + 0.017*\"transportation\" + 0.016*\"rio\" + 0.014*\"write\" + 0.014*\"boring\" + 0.014*\"count\"'),\n",
              " (114,\n",
              "  '0.128*\"mgm\" + 0.023*\"smoker\" + 0.020*\"quiet\" + 0.018*\"daughter\" + 0.017*\"staff_helpful\" + 0.012*\"downside\" + 0.012*\"large\" + 0.011*\"tower\" + 0.011*\"mainly\" + 0.010*\"choice\"'),\n",
              " (115,\n",
              "  '0.029*\"grand\" + 0.029*\"venetian\" + 0.024*\"fountain_view\" + 0.021*\"frequently\" + 0.018*\"highly\" + 0.015*\"gondola\" + 0.015*\"rating\" + 0.014*\"initially\" + 0.014*\"venice\" + 0.012*\"rush\"'),\n",
              " (116,\n",
              "  '0.152*\"bellagio\" + 0.028*\"complete\" + 0.020*\"addition\" + 0.017*\"indoor\" + 0.013*\"shampoo\" + 0.012*\"minute_walk\" + 0.012*\"amazing\" + 0.012*\"air_conditioning\" + 0.012*\"early_check\" + 0.012*\"vdara\"'),\n",
              " (117,\n",
              "  '0.035*\"phone\" + 0.028*\"immediately\" + 0.021*\"front_desk\" + 0.020*\"inform\" + 0.019*\"leave\" + 0.016*\"call\" + 0.016*\"turn\" + 0.014*\"give\" + 0.014*\"enter\" + 0.014*\"tell\"'),\n",
              " (118,\n",
              "  '0.074*\"caesars\" + 0.070*\"monte_carlo\" + 0.030*\"event\" + 0.013*\"reward_program\" + 0.013*\"appeal\" + 0.013*\"seafood\" + 0.012*\"chain\" + 0.011*\"trop\" + 0.011*\"old\" + 0.011*\"many\"'),\n",
              " (119,\n",
              "  '0.037*\"april\" + 0.029*\"8\" + 0.027*\"join\" + 0.022*\"quite\" + 0.017*\"can\" + 0.017*\"therefore\" + 0.016*\"lovely\" + 0.016*\"right_middle\" + 0.012*\"around\" + 0.012*\"onto\"'),\n",
              " (120,\n",
              "  '0.064*\"gorgeous\" + 0.034*\"amazing\" + 0.030*\"honeymoon\" + 0.024*\"attitude\" + 0.019*\"till\" + 0.019*\"beginning\" + 0.018*\"would_recommend_anyone\" + 0.017*\"party\" + 0.016*\"perfect\" + 0.014*\"ever_sleep\"'),\n",
              " (121,\n",
              "  '0.043*\"else\" + 0.038*\"ambiance\" + 0.034*\"explore\" + 0.022*\"self_parking\" + 0.017*\"young_lady\" + 0.017*\"board\" + 0.013*\"faster\" + 0.013*\"right\" + 0.011*\"sunny\" + 0.011*\"however\"'),\n",
              " (122,\n",
              "  '0.072*\"car\" + 0.054*\"valet\" + 0.053*\"parking\" + 0.046*\"drive\" + 0.023*\"park\" + 0.017*\"entrance\" + 0.016*\"wait\" + 0.015*\"easy\" + 0.012*\"tidy\" + 0.011*\"vesper\"'),\n",
              " (123,\n",
              "  '0.048*\"meal\" + 0.032*\"convention\" + 0.028*\"fancy\" + 0.025*\"easy_access\" + 0.025*\"plenty\" + 0.022*\"comfort\" + 0.021*\"pub\" + 0.019*\"food_court\" + 0.018*\"store\" + 0.017*\"convenient\"'),\n",
              " (124,\n",
              "  '0.111*\"vdara\" + 0.049*\"aria\" + 0.036*\"bellagio\" + 0.027*\"suite\" + 0.017*\"kitchen\" + 0.015*\"lobby\" + 0.012*\"modern\" + 0.011*\"complimentary\" + 0.010*\"cosmo\" + 0.010*\"full_kitchen\"'),\n",
              " (125,\n",
              "  '0.070*\"mlife\" + 0.028*\"hyatt\" + 0.019*\"pricing\" + 0.015*\"impress\" + 0.014*\"24th_floor\" + 0.013*\"special_occasion\" + 0.013*\"cheerful\" + 0.012*\"reason\" + 0.012*\"continuous\" + 0.012*\"bottom_line\"'),\n",
              " (126,\n",
              "  '0.100*\"ti\" + 0.040*\"promise\" + 0.023*\"coupon\" + 0.015*\"writing\" + 0.013*\"chat\" + 0.012*\"indulge\" + 0.011*\"beep\" + 0.011*\"temporary\" + 0.011*\"sex\" + 0.010*\"half_bath\"'),\n",
              " (127,\n",
              "  '0.027*\"cause\" + 0.016*\"try\" + 0.015*\"office\" + 0.014*\"morning\" + 0.013*\"buffet_breakfast\" + 0.012*\"\\'s\" + 0.012*\"information\" + 0.012*\"record\" + 0.011*\"trek\" + 0.011*\"advice\"'),\n",
              " (128,\n",
              "  '0.035*\"wake\" + 0.034*\"expectation\" + 0.019*\"yell\" + 0.014*\"elevator\" + 0.013*\"cleaning_service\" + 0.013*\"noise\" + 0.012*\"could_hear\" + 0.012*\"maker\" + 0.011*\"next\" + 0.010*\"floor\"'),\n",
              " (129,\n",
              "  '0.024*\"agent\" + 0.017*\"yes\" + 0.016*\"book\" + 0.016*\"deluxe\" + 0.016*\"number\" + 0.015*\"knock\" + 0.015*\"two\" + 0.014*\"unit\" + 0.014*\"specific\" + 0.013*\"basic\"'),\n",
              " (130,\n",
              "  '0.037*\"dog\" + 0.037*\"pet\" + 0.023*\"pet_friendly\" + 0.020*\"elevator\" + 0.017*\"front_desk\" + 0.016*\"14th_floor\" + 0.015*\"right_away\" + 0.014*\"right\" + 0.013*\"need_serious\" + 0.013*\"willing\"'),\n",
              " (131,\n",
              "  '0.054*\"deliver\" + 0.027*\"champagne\" + 0.027*\"skip\" + 0.020*\"specifically_ask\" + 0.019*\"fully\" + 0.018*\"order\" + 0.016*\"wake_call\" + 0.013*\"hash\" + 0.012*\"king_bed\" + 0.011*\"middle_everything\"'),\n",
              " (132,\n",
              "  '0.058*\"online\" + 0.050*\"layout\" + 0.037*\"bedroom\" + 0.036*\"suite\" + 0.021*\"hike\" + 0.018*\"busy_weekend\" + 0.016*\"tv\" + 0.014*\"one_bedroom_suite\" + 0.014*\"large\" + 0.013*\"living\"'),\n",
              " (133,\n",
              "  '0.051*\"dealer\" + 0.050*\"table\" + 0.047*\"win\" + 0.046*\"game\" + 0.039*\"play\" + 0.037*\"table_game\" + 0.028*\"gamble\" + 0.022*\"fight\" + 0.021*\"long_line\" + 0.021*\"fun\"'),\n",
              " (134,\n",
              "  '0.075*\"enjoyable\" + 0.038*\"highly_recommend\" + 0.026*\"gambler\" + 0.021*\"property\" + 0.019*\"visit\" + 0.017*\"trip\" + 0.016*\"combine\" + 0.015*\"smile\" + 0.014*\"selection_restaurant\" + 0.014*\"rate\"'),\n",
              " (135,\n",
              "  '0.076*\"friendly_helpful\" + 0.021*\"ventilation\" + 0.021*\"receptionist\" + 0.021*\"27th_floor\" + 0.020*\"building\" + 0.019*\"everybody\" + 0.018*\"completely\" + 0.018*\"floor\" + 0.018*\"italian\" + 0.017*\"young_people\"'),\n",
              " (136,\n",
              "  '0.064*\"birthday\" + 0.022*\"struggle\" + 0.021*\"romantic_getaway\" + 0.020*\"big_plus\" + 0.020*\"wireless\" + 0.019*\"crappy\" + 0.015*\"friend\" + 0.014*\"concierge_desk\" + 0.014*\"corporate\" + 0.013*\"sleep_comfortably\"'),\n",
              " (137,\n",
              "  '0.058*\"charge\" + 0.024*\"$\" + 0.020*\"pay\" + 0.018*\"resort_fee\" + 0.017*\"water\" + 0.015*\"tell\" + 0.014*\"2\" + 0.013*\"bill\" + 0.012*\"give\" + 0.011*\"ask\"'),\n",
              " (138,\n",
              "  '0.037*\"exception\" + 0.029*\"king_size_bed\" + 0.028*\"tasty\" + 0.020*\"department\" + 0.020*\"sick\" + 0.014*\"dining_table\" + 0.013*\"tao\" + 0.013*\"map\" + 0.013*\"deluxe_suite\" + 0.012*\"central_location_strip\"'),\n",
              " (139,\n",
              "  '0.033*\"tram\" + 0.025*\"besides\" + 0.024*\"departure\" + 0.022*\"curtain\" + 0.021*\"save\" + 0.021*\"control\" + 0.021*\"program\" + 0.020*\"far_away\" + 0.019*\"sweet\" + 0.019*\"navigate\"'),\n",
              " (140,\n",
              "  '0.033*\"buck\" + 0.033*\"wing\" + 0.018*\"steakhouse\" + 0.015*\"think\" + 0.015*\"sub_par\" + 0.014*\"$_25.00\" + 0.013*\"gold\" + 0.013*\"doorman\" + 0.013*\"animal\" + 0.013*\"2_a.m.\"'),\n",
              " (141,\n",
              "  '0.044*\"’\" + 0.021*\"red\" + 0.018*\"’s\" + 0.018*\"upgrade\" + 0.015*\"ease\" + 0.015*\"remodel\" + 0.015*\"offer\" + 0.015*\"two\" + 0.013*\"extra_cost\" + 0.012*\"agree\"'),\n",
              " (142,\n",
              "  '0.030*\"lift\" + 0.030*\"heat\" + 0.027*\"courteous\" + 0.027*\"scene\" + 0.026*\"february\" + 0.022*\"ruin\" + 0.018*\"$_8\" + 0.016*\"forever\" + 0.016*\"albeit\" + 0.015*\"sensor\"'),\n",
              " (143,\n",
              "  '0.053*\"family\" + 0.040*\"adult\" + 0.030*\"vehicle\" + 0.029*\"drunk\" + 0.028*\"bath\" + 0.025*\"kid\" + 0.013*\"second_none\" + 0.012*\"nothing_else\" + 0.010*\"area\" + 0.010*\"dick_\\'s_last\"'),\n",
              " (144,\n",
              "  '0.020*\"call\" + 0.014*\"ask\" + 0.012*\"tell\" + 0.012*\"wait\" + 0.012*\"upset\" + 0.011*\"leave\" + 0.010*\"think\" + 0.009*\"line\" + 0.009*\"hour\" + 0.009*\"key\"'),\n",
              " (145,\n",
              "  '0.117*\"flamingo\" + 0.021*\"stroll\" + 0.019*\"picture_window\" + 0.018*\"plentiful\" + 0.016*\"disabled\" + 0.015*\"favour\" + 0.012*\"keep_mind\" + 0.011*\"large\" + 0.011*\"away\" + 0.011*\"area\"'),\n",
              " (146,\n",
              "  '0.037*\"decide_try\" + 0.028*\"stair\" + 0.028*\"mom\" + 0.026*\"morning_coffee\" + 0.019*\"total_rewards_program\" + 0.016*\"fall_asleep\" + 0.015*\"somebody\" + 0.015*\"big_elvis\" + 0.013*\"breath_take\" + 0.013*\"food_beverage\"'),\n",
              " (147,\n",
              "  '0.052*\"con\" + 0.036*\"life\" + 0.033*\"pro\" + 0.024*\"21\" + 0.019*\"honestly\" + 0.019*\"utilize\" + 0.018*\"attempt\" + 0.016*\"never\" + 0.014*\"caesars\" + 0.013*\"bed_bug\"'),\n",
              " (148,\n",
              "  '0.041*\"fair\" + 0.032*\"hey\" + 0.029*\"character\" + 0.024*\"electronic\" + 0.019*\"unable\" + 0.018*\"maid_service\" + 0.017*\"15_20_minute\" + 0.016*\"art\" + 0.015*\"high_expectation\" + 0.013*\"length\"'),\n",
              " (149,\n",
              "  '0.067*\"caesars_palace\" + 0.031*\"steak\" + 0.023*\"huge\" + 0.020*\"make_feel_like\" + 0.017*\"fast_food\" + 0.016*\"overprice\" + 0.014*\"amazing\" + 0.014*\"plus\" + 0.013*\"eat\" + 0.013*\"buffet\"'),\n",
              " (150,\n",
              "  '0.064*\"club\" + 0.040*\"cosmo\" + 0.014*\"flamingo\" + 0.013*\"balcony\" + 0.013*\"marquee\" + 0.012*\"floor\" + 0.011*\"lion\" + 0.011*\"cosmopolitan\" + 0.010*\"east_tower\" + 0.010*\"scary\"'),\n",
              " (151,\n",
              "  '0.033*\"would_highly_recommend\" + 0.024*\"fault\" + 0.019*\"peaceful\" + 0.018*\"desire\" + 0.017*\"fine_dining\" + 0.017*\"absolutely_love\" + 0.017*\"expect\" + 0.016*\"roman_tower\" + 0.015*\"perfect\" + 0.013*\"bit\"'),\n",
              " (152,\n",
              "  '0.071*\"50\" + 0.029*\"afford\" + 0.019*\"waitress\" + 0.016*\"29\" + 0.015*\"wide_range\" + 0.014*\"keep_eye\" + 0.013*\"red_rock_canyon\" + 0.013*\"understaffed\" + 0.011*\"zone\" + 0.011*\"drink\"'),\n",
              " (153,\n",
              "  '0.033*\"bit_dated\" + 0.021*\"uncomfortable\" + 0.020*\"fruit\" + 0.013*\"nice_touch\" + 0.013*\"forum_tower\" + 0.012*\"hot_water\" + 0.012*\"concierge_helpful\" + 0.011*\"winning\" + 0.011*\"cold_water\" + 0.010*\"back_soon\"'),\n",
              " (154,\n",
              "  '0.034*\"pain\" + 0.025*\"difficult\" + 0.022*\"politely\" + 0.018*\"money\" + 0.018*\"seminar\" + 0.017*\"outgoing\" + 0.017*\"32\" + 0.017*\"per_device\" + 0.015*\"litter\" + 0.014*\"200\"'),\n",
              " (155,\n",
              "  '0.039*\"ton\" + 0.036*\"blind\" + 0.032*\"pallazzo\" + 0.024*\"saturday_night\" + 0.022*\"early_morning\" + 0.018*\"pretty\" + 0.017*\"carpeting\" + 0.013*\"soap_shampoo\" + 0.012*\"x\" + 0.012*\"sheet_towel\"'),\n",
              " (156,\n",
              "  '0.047*\"would_definitely_recommend\" + 0.036*\"month\" + 0.025*\"longer\" + 0.023*\"play\" + 0.015*\"moth\" + 0.015*\"breakfast\" + 0.014*\"5th_floor\" + 0.013*\"high_standard\" + 0.012*\"$_60\" + 0.011*\"window\"'),\n",
              " (157,\n",
              "  '0.133*\"aria\" + 0.059*\"top_notch\" + 0.029*\"resort\" + 0.027*\"cabana\" + 0.018*\"spoil\" + 0.017*\"spend_money\" + 0.014*\"amazing\" + 0.011*\"standard\" + 0.011*\"buffet\" + 0.008*\"customer_service\"'),\n",
              " (158,\n",
              "  '0.032*\"bed\" + 0.030*\"stain\" + 0.024*\"smell\" + 0.024*\"dirty\" + 0.020*\"housekeeping\" + 0.020*\"smell_like\" + 0.019*\"floor\" + 0.018*\"sheet\" + 0.015*\"bedding\" + 0.015*\"notice\"'),\n",
              " (159,\n",
              "  '0.045*\"resort_fee\" + 0.043*\"pay\" + 0.025*\"wifi\" + 0.019*\"rate\" + 0.019*\"include\" + 0.018*\"charge\" + 0.018*\"free\" + 0.017*\"per_night\" + 0.014*\"fee\" + 0.013*\"comparison\"'),\n",
              " (160,\n",
              "  '0.051*\"key\" + 0.024*\"supply\" + 0.023*\"typical\" + 0.020*\"fix\" + 0.017*\"privacy\" + 0.016*\"remote\" + 0.016*\"correct\" + 0.015*\"problem\" + 0.015*\"trust\" + 0.014*\"low_price\"'),\n",
              " (161,\n",
              "  '0.035*\"nearly\" + 0.032*\"previous\" + 0.032*\"closed\" + 0.018*\"uk\" + 0.018*\"architecture\" + 0.014*\"yes\" + 0.012*\"paperwork\" + 0.011*\"square\" + 0.011*\"rare\" + 0.011*\"proceed\"'),\n",
              " (162,\n",
              "  '0.104*\"palazzo\" + 0.083*\"venetian\" + 0.020*\"poker\" + 0.019*\"whenever\" + 0.015*\"spacious\" + 0.015*\"welcoming\" + 0.014*\"shopping\" + 0.012*\"comfortable\" + 0.010*\"choose\" + 0.010*\"wonderful\"'),\n",
              " (163,\n",
              "  '0.040*\"bonus\" + 0.027*\"lead\" + 0.022*\"difference\" + 0.017*\"terribly\" + 0.017*\"escalator\" + 0.016*\"regard\" + 0.015*\"area\" + 0.013*\"bay\" + 0.012*\"gondola_ride\" + 0.010*\"drip\"'),\n",
              " (164,\n",
              "  '0.058*\"everything_need\" + 0.056*\"ballys\" + 0.041*\"remember\" + 0.019*\"take_care\" + 0.018*\"folk\" + 0.017*\"acknowledge\" + 0.016*\"name\" + 0.012*\"paris\" + 0.012*\"wine\" + 0.011*\"make_sure\"'),\n",
              " (165,\n",
              "  '0.036*\"fountain\" + 0.033*\"comfy_bed\" + 0.029*\"season\" + 0.027*\"accommodating\" + 0.026*\"awesome\" + 0.022*\"large\" + 0.017*\"opportunity\" + 0.016*\"amazing\" + 0.015*\"gym\" + 0.015*\"useful\"'),\n",
              " (166,\n",
              "  '0.039*\"common\" + 0.031*\"relaxed\" + 0.021*\"mid\" + 0.016*\"memorial_day_weekend\" + 0.016*\"haha\" + 0.013*\"public_restroom\" + 0.013*\"crazy_expensive\" + 0.012*\"may_2015\" + 0.012*\"adult_pool\" + 0.012*\"recieve\"'),\n",
              " (167,\n",
              "  '0.037*\"attach\" + 0.026*\"save_money\" + 0.024*\"tiny\" + 0.022*\"family_friend\" + 0.021*\"broken\" + 0.018*\"refurbish\" + 0.017*\"neighbor\" + 0.016*\"sound\" + 0.014*\"past_year\" + 0.013*\"celebrate_birthday\"'),\n",
              " (168,\n",
              "  '0.039*\"crowded\" + 0.023*\"spectacular_view\" + 0.018*\"true\" + 0.016*\"air_con\" + 0.016*\"small\" + 0.014*\"million\" + 0.013*\"consist\" + 0.013*\"awkward\" + 0.013*\"business_conference\" + 0.012*\"four_seasons\"'),\n",
              " (169,\n",
              "  '0.052*\"bet\" + 0.040*\"environment\" + 0.029*\"roomy\" + 0.025*\"microwave\" + 0.023*\"comfortable\" + 0.021*\"possible\" + 0.021*\"suite\" + 0.017*\"slip\" + 0.017*\"conveniently_locate\" + 0.017*\"local\"'),\n",
              " (170,\n",
              "  '0.024*\"team\" + 0.024*\"pity\" + 0.021*\"stand_line\" + 0.017*\"jan\" + 0.015*\"$_20_trick\" + 0.015*\"major_renovation\" + 0.013*\"horrendous\" + 0.012*\"epic\" + 0.011*\"march_2015\" + 0.011*\"individual\"'),\n",
              " (171,\n",
              "  '0.033*\"top_floor\" + 0.025*\"sized\" + 0.024*\"parking_garage\" + 0.018*\"la\" + 0.017*\"fresh_air\" + 0.016*\"spread\" + 0.016*\"narrow\" + 0.015*\"window\" + 0.015*\"unlimited\" + 0.014*\"7th_floor\"'),\n",
              " (172,\n",
              "  '0.036*\"overlook\" + 0.024*\"soap\" + 0.022*\"bargain\" + 0.022*\"party\" + 0.018*\"cromwell\" + 0.017*\"promenade\" + 0.016*\"area\" + 0.015*\"wet_republic\" + 0.014*\"still\" + 0.013*\"bar\"'),\n",
              " (173,\n",
              "  '0.052*\"dark\" + 0.027*\"lounge\" + 0.020*\"access\" + 0.020*\"alot\" + 0.018*\"anyone\" + 0.017*\"distance\" + 0.017*\"bar\" + 0.017*\"personal\" + 0.016*\"would_recommend\" + 0.016*\"take_advantage\"'),\n",
              " (174,\n",
              "  '0.033*\"eatery\" + 0.021*\"patio\" + 0.021*\"sport\" + 0.021*\"smooth\" + 0.018*\"thursday\" + 0.015*\"file\" + 0.015*\"ride_airport\" + 0.014*\"volcano\" + 0.014*\"pace\" + 0.013*\"bed_pillow\"'),\n",
              " (175,\n",
              "  '0.052*\"must\" + 0.041*\"pleasant\" + 0.029*\"impressive\" + 0.027*\"view_bellagio_fountain\" + 0.023*\"outstanding\" + 0.022*\"mattress\" + 0.022*\"line\" + 0.021*\"new\" + 0.019*\"step\" + 0.018*\"center_strip\"'),\n",
              " (176,\n",
              "  '0.044*\"thank\" + 0.039*\"accommodation\" + 0.037*\"wonderful\" + 0.034*\"elegant\" + 0.032*\"memorable\" + 0.027*\"christmas\" + 0.026*\"helpful\" + 0.025*\"company\" + 0.021*\"perfectly\" + 0.020*\"prompt\"'),\n",
              " (177,\n",
              "  '0.059*\"host\" + 0.030*\"soon\" + 0.030*\"stay_anywhere_else\" + 0.030*\"amazing\" + 0.026*\"night_club\" + 0.021*\"friendly\" + 0.020*\"mini\" + 0.018*\"visit\" + 0.018*\"hope\" + 0.017*\"fun\"'),\n",
              " (178,\n",
              "  '0.031*\"unlike\" + 0.031*\"visitor\" + 0.024*\"well_lay\" + 0.024*\"constant\" + 0.020*\"equally\" + 0.019*\"retreat\" + 0.016*\"appreciate\" + 0.015*\"incredibly\" + 0.014*\"perk\" + 0.013*\"many\"'),\n",
              " (179,\n",
              "  '0.040*\"2nd\" + 0.029*\"walgreens\" + 0.028*\"stock\" + 0.027*\"1st\" + 0.016*\"limit\" + 0.014*\"2nd_floor\" + 0.014*\"crap_table\" + 0.013*\"machine\" + 0.013*\"landmark\" + 0.013*\"floor\"'),\n",
              " (180,\n",
              "  '0.029*\"flight\" + 0.018*\"airport\" + 0.017*\"could_fault\" + 0.014*\"canada\" + 0.014*\"us\" + 0.013*\"angle\" + 0.013*\"floor_ceiling_window\" + 0.012*\"mandalay_bay_excalibur\" + 0.012*\"area\" + 0.010*\"minor\"'),\n",
              " (181,\n",
              "  '0.036*\"brilliant\" + 0.019*\"lounge_area\" + 0.017*\"generous\" + 0.014*\"huge\" + 0.013*\"absolutely_amazing\" + 0.013*\"without_doubt\" + 0.013*\"entree\" + 0.013*\"drink\" + 0.013*\"double_door\" + 0.011*\"prestige\"'),\n",
              " (182,\n",
              "  '0.031*\"attend_conference\" + 0.030*\"foyer\" + 0.022*\"remind\" + 0.019*\"o\\'shea_\\'s\" + 0.019*\"establishment\" + 0.018*\"sophisticated\" + 0.014*\"evening\" + 0.014*\"plate\" + 0.013*\"boast\" + 0.013*\"pink\"'),\n",
              " (183,\n",
              "  '0.058*\"group\" + 0.033*\"present\" + 0.026*\"sky\" + 0.023*\"ten_minute\" + 0.022*\"majority\" + 0.018*\"grant\" + 0.018*\"allergy\" + 0.018*\"throw\" + 0.016*\"fulton_street\" + 0.014*\"totally_worth\"'),\n",
              " (184,\n",
              "  '0.024*\"dance\" + 0.023*\"dragon\" + 0.019*\"would_suggest\" + 0.018*\"11th_floor\" + 0.017*\"walk_mile\" + 0.013*\"fun_exciting\" + 0.010*\"mayweather_fight\" + 0.010*\"carnival_court\" + 0.010*\"expedite\" + 0.010*\"periodically\"'),\n",
              " (185,\n",
              "  '0.021*\"review\" + 0.020*\"registration_desk\" + 0.019*\"book\" + 0.015*\"decision\" + 0.014*\"listen\" + 0.014*\"phone_call\" + 0.011*\"race\" + 0.011*\"loud\" + 0.010*\"possibly\" + 0.009*\"way\"'),\n",
              " (186,\n",
              "  '0.047*\"sister\" + 0.038*\"boy\" + 0.035*\"coffee_pot\" + 0.028*\"look_forward_next\" + 0.024*\"promotion\" + 0.020*\"masse\" + 0.019*\"regularly\" + 0.016*\"closer\" + 0.013*\"log\" + 0.012*\"show\"'),\n",
              " (187,\n",
              "  '0.056*\"renovation\" + 0.045*\"section\" + 0.024*\"low_floor\" + 0.023*\"select\" + 0.019*\"carson_tower\" + 0.017*\"among\" + 0.015*\"buffet\" + 0.014*\"attractive\" + 0.013*\"upgrade\" + 0.013*\"golden_nugget\"'),\n",
              " (188,\n",
              "  '0.061*\"relaxing\" + 0.027*\"make_feel\" + 0.024*\"superb\" + 0.021*\"romantic\" + 0.020*\"interesting\" + 0.018*\"convenience\" + 0.018*\"beautiful\" + 0.018*\"resort\" + 0.017*\"vip\" + 0.017*\"convention_center\"'),\n",
              " (189,\n",
              "  '0.079*\"tropicana\" + 0.030*\"activity\" + 0.026*\"weather\" + 0.026*\"vibe\" + 0.021*\"mix\" + 0.020*\"beach\" + 0.015*\"dining_option\" + 0.015*\"bar\" + 0.015*\"tower\" + 0.011*\"pool_area\"'),\n",
              " (190,\n",
              "  '0.025*\"make_feel_welcome\" + 0.024*\"serious\" + 0.021*\"pool_closed\" + 0.017*\"embarrassed\" + 0.016*\"ball\" + 0.016*\"east_coast\" + 0.015*\"seem\" + 0.013*\"ceasar_\\'s\" + 0.013*\"peace\" + 0.012*\"annoyance\"'),\n",
              " (191,\n",
              "  '0.041*\"new_york_new_york\" + 0.036*\"option\" + 0.024*\"variety\" + 0.019*\"smell_smoke\" + 0.018*\"plenty\" + 0.016*\"average\" + 0.014*\"many\" + 0.013*\"choose\" + 0.011*\"centrally_locate_strip\" + 0.011*\"excalibur\"'),\n",
              " (192,\n",
              "  '0.103*\"rude\" + 0.034*\"hardly\" + 0.026*\"bad\" + 0.022*\"spray\" + 0.018*\"properly\" + 0.015*\"fire\" + 0.014*\"act\" + 0.011*\"joke\" + 0.011*\"ask\" + 0.010*\"never\"'),\n",
              " (193,\n",
              "  '0.112*\"linq\" + 0.050*\"construction\" + 0.031*\"player\" + 0.030*\"harrahs\" + 0.021*\"lol\" + 0.018*\"new\" + 0.016*\"still\" + 0.012*\"trip\" + 0.010*\"little\" + 0.010*\"high_roller\"'),\n",
              " (194,\n",
              "  '0.078*\"really_enjoy\" + 0.050*\"ph\" + 0.035*\"caesar_\\'s\" + 0.029*\"terrific\" + 0.021*\"affordable\" + 0.020*\"caesar_\\'s_palace\" + 0.020*\"french\" + 0.018*\"comfortable\" + 0.017*\"staff_friendly_helpful\" + 0.016*\"town\"'),\n",
              " (195,\n",
              "  '0.057*\"plaza\" + 0.037*\"downtown\" + 0.035*\"young\" + 0.031*\"generally\" + 0.028*\"car_park\" + 0.023*\"hostess\" + 0.020*\"hotels\" + 0.019*\"fun\" + 0.018*\"portion\" + 0.015*\"many\"'),\n",
              " (196,\n",
              "  '0.037*\"bed_extremely_comfortable\" + 0.027*\"caesar\" + 0.026*\"venetian\" + 0.020*\"’s\" + 0.019*\"ceasars_palace\" + 0.016*\"titanic_exhibition\" + 0.016*\"staff_friendly_knowledgeable\" + 0.015*\"beautiful\" + 0.015*\"amazing\" + 0.014*\"service_impeccable\"'),\n",
              " (197,\n",
              "  '0.047*\"last_year\" + 0.039*\"last_week\" + 0.026*\"year\" + 0.024*\"blow_away\" + 0.021*\"high_quality\" + 0.019*\"20\" + 0.014*\"wire\" + 0.013*\"proper\" + 0.013*\"30_min\" + 0.012*\"wife\"'),\n",
              " (198,\n",
              "  '0.022*\"list\" + 0.022*\"elvis\" + 0.021*\"amazed\" + 0.021*\"mine\" + 0.020*\"aware\" + 0.016*\"fiancé\" + 0.016*\"paradise_tower\" + 0.015*\"cookie\" + 0.013*\"soooo\" + 0.013*\"monday\"'),\n",
              " (199,\n",
              "  '0.034*\"harrah\" + 0.033*\"slot_machine\" + 0.025*\"odd\" + 0.022*\"outdate\" + 0.020*\"compe\" + 0.018*\"bad\" + 0.018*\"centrally_locate\" + 0.018*\"delightful\" + 0.016*\"frequent\" + 0.015*\"buffett\"')]"
            ]
          },
          "metadata": {},
          "execution_count": 66
        }
      ]
    },
    {
      "cell_type": "markdown",
      "metadata": {
        "id": "6U3JciILEMeC"
      },
      "source": [
        "**Answer this**\n",
        "\n",
        "Pick 3 topics that you can label. Explain your label choice. \n",
        "\n",
        "1. (4, y) --> Caesar's Palace Review\n",
        "2. (168, y) --> Hotel Review\n",
        "3. (183, y) --> house features\n",
        "\n",
        "**Answer here**\n"
      ]
    },
    {
      "cell_type": "markdown",
      "metadata": {
        "id": "Fot5FBuqgXlS"
      },
      "source": [
        "**Explore topics**"
      ]
    },
    {
      "cell_type": "code",
      "metadata": {
        "id": "vZjF2FwxdoyO"
      },
      "source": [
        "# predict back the topic weights on each review\n",
        "df['topic_probs'] = df.parsed.str.split().apply(lambda x: dict(lda[dictionary.doc2bow(x)]))\n"
      ],
      "execution_count": 67,
      "outputs": []
    },
    {
      "cell_type": "code",
      "metadata": {
        "id": "mE9KzQ4de2Zj"
      },
      "source": [
        "# create top_k  columns for k = 0,...,ntopics\n",
        "# where top_k is the probability of each review representing topic k\n",
        "for t in range(ntopics):\n",
        "    df['top_{}'.format(t)] = df.topic_probs.apply(lambda x: x.get(t))\n"
      ],
      "execution_count": 68,
      "outputs": []
    },
    {
      "cell_type": "code",
      "metadata": {
        "id": "0qv7ZdF_gjJz"
      },
      "source": [
        "# create a variable that contains the list of top_k column names\n",
        "topiccols = ['top_{}'.format(t) for t in range(ntopics)]"
      ],
      "execution_count": 69,
      "outputs": []
    },
    {
      "cell_type": "markdown",
      "metadata": {
        "id": "JTBfBlNFDTk5"
      },
      "source": [
        "### Topics by travel category"
      ]
    },
    {
      "cell_type": "code",
      "metadata": {
        "id": "1dHOt9qyf2EX"
      },
      "source": [
        "# for each travel category, compute the average of all the topiccols \n",
        "# use .T at the end to transpose (i.e. rotate 90 deg) the dataframe\n",
        "topicmeans = df.groupby('travel_category')[topiccols].mean().T"
      ],
      "execution_count": 70,
      "outputs": []
    },
    {
      "cell_type": "code",
      "metadata": {
        "colab": {
          "base_uri": "https://localhost:8080/",
          "height": 206
        },
        "id": "4oNf5GcIimiF",
        "outputId": "1ea41f7c-f9c5-499a-82cc-3cda65cc3789"
      },
      "source": [
        "# preview the topicmeans dataframe\n",
        "topicmeans.head()"
      ],
      "execution_count": 71,
      "outputs": [
        {
          "output_type": "execute_result",
          "data": {
            "text/html": [
              "<div>\n",
              "<style scoped>\n",
              "    .dataframe tbody tr th:only-of-type {\n",
              "        vertical-align: middle;\n",
              "    }\n",
              "\n",
              "    .dataframe tbody tr th {\n",
              "        vertical-align: top;\n",
              "    }\n",
              "\n",
              "    .dataframe thead th {\n",
              "        text-align: right;\n",
              "    }\n",
              "</style>\n",
              "<table border=\"1\" class=\"dataframe\">\n",
              "  <thead>\n",
              "    <tr style=\"text-align: right;\">\n",
              "      <th>travel_category</th>\n",
              "      <th>business</th>\n",
              "      <th>couple</th>\n",
              "      <th>family</th>\n",
              "      <th>friends</th>\n",
              "      <th>solo</th>\n",
              "    </tr>\n",
              "  </thead>\n",
              "  <tbody>\n",
              "    <tr>\n",
              "      <th>top_0</th>\n",
              "      <td>0.006582</td>\n",
              "      <td>0.006054</td>\n",
              "      <td>0.006484</td>\n",
              "      <td>0.005881</td>\n",
              "      <td>0.005659</td>\n",
              "    </tr>\n",
              "    <tr>\n",
              "      <th>top_1</th>\n",
              "      <td>0.003074</td>\n",
              "      <td>0.003125</td>\n",
              "      <td>0.002827</td>\n",
              "      <td>0.003289</td>\n",
              "      <td>0.004100</td>\n",
              "    </tr>\n",
              "    <tr>\n",
              "      <th>top_2</th>\n",
              "      <td>0.006073</td>\n",
              "      <td>0.006132</td>\n",
              "      <td>0.004557</td>\n",
              "      <td>0.005255</td>\n",
              "      <td>0.006021</td>\n",
              "    </tr>\n",
              "    <tr>\n",
              "      <th>top_3</th>\n",
              "      <td>0.004573</td>\n",
              "      <td>0.005070</td>\n",
              "      <td>0.004091</td>\n",
              "      <td>0.004248</td>\n",
              "      <td>0.003371</td>\n",
              "    </tr>\n",
              "    <tr>\n",
              "      <th>top_4</th>\n",
              "      <td>0.005544</td>\n",
              "      <td>0.007027</td>\n",
              "      <td>0.008462</td>\n",
              "      <td>0.008660</td>\n",
              "      <td>0.009847</td>\n",
              "    </tr>\n",
              "  </tbody>\n",
              "</table>\n",
              "</div>"
            ],
            "text/plain": [
              "travel_category  business    couple    family   friends      solo\n",
              "top_0            0.006582  0.006054  0.006484  0.005881  0.005659\n",
              "top_1            0.003074  0.003125  0.002827  0.003289  0.004100\n",
              "top_2            0.006073  0.006132  0.004557  0.005255  0.006021\n",
              "top_3            0.004573  0.005070  0.004091  0.004248  0.003371\n",
              "top_4            0.005544  0.007027  0.008462  0.008660  0.009847"
            ]
          },
          "metadata": {},
          "execution_count": 71
        }
      ]
    },
    {
      "cell_type": "code",
      "metadata": {
        "colab": {
          "base_uri": "https://localhost:8080/",
          "height": 424
        },
        "id": "o2iUpoPTisxC",
        "outputId": "57eab49d-bf9c-4e89-9f2a-54a3a8ebd7f3"
      },
      "source": [
        "# use sort_values on topicmeans to find the common topic among solo travelers\n",
        "# use ascending = False option in sort_values to sort from largest to smallest\n",
        "topicmeans.sort_values(by = 'solo', ascending = False)"
      ],
      "execution_count": 72,
      "outputs": [
        {
          "output_type": "execute_result",
          "data": {
            "text/html": [
              "<div>\n",
              "<style scoped>\n",
              "    .dataframe tbody tr th:only-of-type {\n",
              "        vertical-align: middle;\n",
              "    }\n",
              "\n",
              "    .dataframe tbody tr th {\n",
              "        vertical-align: top;\n",
              "    }\n",
              "\n",
              "    .dataframe thead th {\n",
              "        text-align: right;\n",
              "    }\n",
              "</style>\n",
              "<table border=\"1\" class=\"dataframe\">\n",
              "  <thead>\n",
              "    <tr style=\"text-align: right;\">\n",
              "      <th>travel_category</th>\n",
              "      <th>business</th>\n",
              "      <th>couple</th>\n",
              "      <th>family</th>\n",
              "      <th>friends</th>\n",
              "      <th>solo</th>\n",
              "    </tr>\n",
              "  </thead>\n",
              "  <tbody>\n",
              "    <tr>\n",
              "      <th>top_133</th>\n",
              "      <td>0.007956</td>\n",
              "      <td>0.010912</td>\n",
              "      <td>0.011371</td>\n",
              "      <td>0.015922</td>\n",
              "      <td>0.017025</td>\n",
              "    </tr>\n",
              "    <tr>\n",
              "      <th>top_38</th>\n",
              "      <td>0.008866</td>\n",
              "      <td>0.009134</td>\n",
              "      <td>0.010389</td>\n",
              "      <td>0.010112</td>\n",
              "      <td>0.012733</td>\n",
              "    </tr>\n",
              "    <tr>\n",
              "      <th>top_103</th>\n",
              "      <td>0.007159</td>\n",
              "      <td>0.009530</td>\n",
              "      <td>0.012325</td>\n",
              "      <td>0.012394</td>\n",
              "      <td>0.012289</td>\n",
              "    </tr>\n",
              "    <tr>\n",
              "      <th>top_74</th>\n",
              "      <td>0.017934</td>\n",
              "      <td>0.015635</td>\n",
              "      <td>0.015423</td>\n",
              "      <td>0.015663</td>\n",
              "      <td>0.012191</td>\n",
              "    </tr>\n",
              "    <tr>\n",
              "      <th>top_137</th>\n",
              "      <td>0.010803</td>\n",
              "      <td>0.010047</td>\n",
              "      <td>0.009977</td>\n",
              "      <td>0.009498</td>\n",
              "      <td>0.011273</td>\n",
              "    </tr>\n",
              "    <tr>\n",
              "      <th>...</th>\n",
              "      <td>...</td>\n",
              "      <td>...</td>\n",
              "      <td>...</td>\n",
              "      <td>...</td>\n",
              "      <td>...</td>\n",
              "    </tr>\n",
              "    <tr>\n",
              "      <th>top_154</th>\n",
              "      <td>0.002708</td>\n",
              "      <td>0.002143</td>\n",
              "      <td>0.002568</td>\n",
              "      <td>0.002013</td>\n",
              "      <td>0.002145</td>\n",
              "    </tr>\n",
              "    <tr>\n",
              "      <th>top_78</th>\n",
              "      <td>0.003057</td>\n",
              "      <td>0.002525</td>\n",
              "      <td>0.003833</td>\n",
              "      <td>0.002411</td>\n",
              "      <td>0.002119</td>\n",
              "    </tr>\n",
              "    <tr>\n",
              "      <th>top_11</th>\n",
              "      <td>0.002319</td>\n",
              "      <td>0.002525</td>\n",
              "      <td>0.002243</td>\n",
              "      <td>0.002510</td>\n",
              "      <td>0.002040</td>\n",
              "    </tr>\n",
              "    <tr>\n",
              "      <th>top_31</th>\n",
              "      <td>0.002990</td>\n",
              "      <td>0.003465</td>\n",
              "      <td>0.003325</td>\n",
              "      <td>0.003364</td>\n",
              "      <td>0.002017</td>\n",
              "    </tr>\n",
              "    <tr>\n",
              "      <th>top_53</th>\n",
              "      <td>0.003483</td>\n",
              "      <td>0.002606</td>\n",
              "      <td>0.003185</td>\n",
              "      <td>0.002505</td>\n",
              "      <td>0.001869</td>\n",
              "    </tr>\n",
              "  </tbody>\n",
              "</table>\n",
              "<p>200 rows × 5 columns</p>\n",
              "</div>"
            ],
            "text/plain": [
              "travel_category  business    couple    family   friends      solo\n",
              "top_133          0.007956  0.010912  0.011371  0.015922  0.017025\n",
              "top_38           0.008866  0.009134  0.010389  0.010112  0.012733\n",
              "top_103          0.007159  0.009530  0.012325  0.012394  0.012289\n",
              "top_74           0.017934  0.015635  0.015423  0.015663  0.012191\n",
              "top_137          0.010803  0.010047  0.009977  0.009498  0.011273\n",
              "...                   ...       ...       ...       ...       ...\n",
              "top_154          0.002708  0.002143  0.002568  0.002013  0.002145\n",
              "top_78           0.003057  0.002525  0.003833  0.002411  0.002119\n",
              "top_11           0.002319  0.002525  0.002243  0.002510  0.002040\n",
              "top_31           0.002990  0.003465  0.003325  0.003364  0.002017\n",
              "top_53           0.003483  0.002606  0.003185  0.002505  0.001869\n",
              "\n",
              "[200 rows x 5 columns]"
            ]
          },
          "metadata": {},
          "execution_count": 72
        }
      ]
    },
    {
      "cell_type": "markdown",
      "metadata": {
        "id": "hpdJJ1VHjEMo"
      },
      "source": [
        "**Answer this**\n",
        "\n",
        "What is the topic ID for solo travelers' most likely review topic? **Answer**\n",
        "travel_category"
      ]
    },
    {
      "cell_type": "code",
      "metadata": {
        "id": "RG2ITgwQmkpn"
      },
      "source": [
        "topiccols = [c for c in topicmeans.columns if 'top_' in c]"
      ],
      "execution_count": 73,
      "outputs": []
    },
    {
      "cell_type": "code",
      "metadata": {
        "colab": {
          "base_uri": "https://localhost:8080/",
          "height": 363
        },
        "id": "MWLWEjBji8hr",
        "outputId": "28a4dcc7-9672-43e7-c46d-b9dd7666ac98"
      },
      "source": [
        "# take a look at the top solo traveler topic\n",
        "top_solo = 131 # use the most common solo traveler topic ID here\n",
        "pd.DataFrame(lda.show_topic(top_solo))"
      ],
      "execution_count": 74,
      "outputs": [
        {
          "output_type": "execute_result",
          "data": {
            "text/html": [
              "<div>\n",
              "<style scoped>\n",
              "    .dataframe tbody tr th:only-of-type {\n",
              "        vertical-align: middle;\n",
              "    }\n",
              "\n",
              "    .dataframe tbody tr th {\n",
              "        vertical-align: top;\n",
              "    }\n",
              "\n",
              "    .dataframe thead th {\n",
              "        text-align: right;\n",
              "    }\n",
              "</style>\n",
              "<table border=\"1\" class=\"dataframe\">\n",
              "  <thead>\n",
              "    <tr style=\"text-align: right;\">\n",
              "      <th></th>\n",
              "      <th>0</th>\n",
              "      <th>1</th>\n",
              "    </tr>\n",
              "  </thead>\n",
              "  <tbody>\n",
              "    <tr>\n",
              "      <th>0</th>\n",
              "      <td>deliver</td>\n",
              "      <td>0.054190</td>\n",
              "    </tr>\n",
              "    <tr>\n",
              "      <th>1</th>\n",
              "      <td>champagne</td>\n",
              "      <td>0.026826</td>\n",
              "    </tr>\n",
              "    <tr>\n",
              "      <th>2</th>\n",
              "      <td>skip</td>\n",
              "      <td>0.026679</td>\n",
              "    </tr>\n",
              "    <tr>\n",
              "      <th>3</th>\n",
              "      <td>specifically_ask</td>\n",
              "      <td>0.020235</td>\n",
              "    </tr>\n",
              "    <tr>\n",
              "      <th>4</th>\n",
              "      <td>fully</td>\n",
              "      <td>0.018632</td>\n",
              "    </tr>\n",
              "    <tr>\n",
              "      <th>5</th>\n",
              "      <td>order</td>\n",
              "      <td>0.018472</td>\n",
              "    </tr>\n",
              "    <tr>\n",
              "      <th>6</th>\n",
              "      <td>wake_call</td>\n",
              "      <td>0.016344</td>\n",
              "    </tr>\n",
              "    <tr>\n",
              "      <th>7</th>\n",
              "      <td>hash</td>\n",
              "      <td>0.012720</td>\n",
              "    </tr>\n",
              "    <tr>\n",
              "      <th>8</th>\n",
              "      <td>king_bed</td>\n",
              "      <td>0.012000</td>\n",
              "    </tr>\n",
              "    <tr>\n",
              "      <th>9</th>\n",
              "      <td>middle_everything</td>\n",
              "      <td>0.011375</td>\n",
              "    </tr>\n",
              "  </tbody>\n",
              "</table>\n",
              "</div>"
            ],
            "text/plain": [
              "                   0         1\n",
              "0            deliver  0.054190\n",
              "1          champagne  0.026826\n",
              "2               skip  0.026679\n",
              "3   specifically_ask  0.020235\n",
              "4              fully  0.018632\n",
              "5              order  0.018472\n",
              "6          wake_call  0.016344\n",
              "7               hash  0.012720\n",
              "8           king_bed  0.012000\n",
              "9  middle_everything  0.011375"
            ]
          },
          "metadata": {},
          "execution_count": 74
        }
      ]
    },
    {
      "cell_type": "code",
      "metadata": {
        "colab": {
          "base_uri": "https://localhost:8080/",
          "height": 424
        },
        "id": "95Amq4nKjdfG",
        "outputId": "944acf23-8472-41ab-9c35-43f43e2af11b"
      },
      "source": [
        "# look at the most common topic for business travelers\n",
        "topicmeans.sort_values(by = 'business', ascending = False)"
      ],
      "execution_count": 75,
      "outputs": [
        {
          "output_type": "execute_result",
          "data": {
            "text/html": [
              "<div>\n",
              "<style scoped>\n",
              "    .dataframe tbody tr th:only-of-type {\n",
              "        vertical-align: middle;\n",
              "    }\n",
              "\n",
              "    .dataframe tbody tr th {\n",
              "        vertical-align: top;\n",
              "    }\n",
              "\n",
              "    .dataframe thead th {\n",
              "        text-align: right;\n",
              "    }\n",
              "</style>\n",
              "<table border=\"1\" class=\"dataframe\">\n",
              "  <thead>\n",
              "    <tr style=\"text-align: right;\">\n",
              "      <th>travel_category</th>\n",
              "      <th>business</th>\n",
              "      <th>couple</th>\n",
              "      <th>family</th>\n",
              "      <th>friends</th>\n",
              "      <th>solo</th>\n",
              "    </tr>\n",
              "  </thead>\n",
              "  <tbody>\n",
              "    <tr>\n",
              "      <th>top_74</th>\n",
              "      <td>0.017934</td>\n",
              "      <td>0.015635</td>\n",
              "      <td>0.015423</td>\n",
              "      <td>0.015663</td>\n",
              "      <td>0.012191</td>\n",
              "    </tr>\n",
              "    <tr>\n",
              "      <th>top_105</th>\n",
              "      <td>0.015987</td>\n",
              "      <td>0.005147</td>\n",
              "      <td>0.005797</td>\n",
              "      <td>0.006198</td>\n",
              "      <td>0.009689</td>\n",
              "    </tr>\n",
              "    <tr>\n",
              "      <th>top_123</th>\n",
              "      <td>0.015526</td>\n",
              "      <td>0.008740</td>\n",
              "      <td>0.012441</td>\n",
              "      <td>0.008907</td>\n",
              "      <td>0.008502</td>\n",
              "    </tr>\n",
              "    <tr>\n",
              "      <th>top_159</th>\n",
              "      <td>0.011929</td>\n",
              "      <td>0.009769</td>\n",
              "      <td>0.008777</td>\n",
              "      <td>0.009008</td>\n",
              "      <td>0.011266</td>\n",
              "    </tr>\n",
              "    <tr>\n",
              "      <th>top_158</th>\n",
              "      <td>0.011687</td>\n",
              "      <td>0.009633</td>\n",
              "      <td>0.010384</td>\n",
              "      <td>0.009772</td>\n",
              "      <td>0.008652</td>\n",
              "    </tr>\n",
              "    <tr>\n",
              "      <th>...</th>\n",
              "      <td>...</td>\n",
              "      <td>...</td>\n",
              "      <td>...</td>\n",
              "      <td>...</td>\n",
              "      <td>...</td>\n",
              "    </tr>\n",
              "    <tr>\n",
              "      <th>top_51</th>\n",
              "      <td>0.002349</td>\n",
              "      <td>0.002998</td>\n",
              "      <td>0.003637</td>\n",
              "      <td>0.002786</td>\n",
              "      <td>0.003724</td>\n",
              "    </tr>\n",
              "    <tr>\n",
              "      <th>top_11</th>\n",
              "      <td>0.002319</td>\n",
              "      <td>0.002525</td>\n",
              "      <td>0.002243</td>\n",
              "      <td>0.002510</td>\n",
              "      <td>0.002040</td>\n",
              "    </tr>\n",
              "    <tr>\n",
              "      <th>top_146</th>\n",
              "      <td>0.002298</td>\n",
              "      <td>0.002635</td>\n",
              "      <td>0.003370</td>\n",
              "      <td>0.002550</td>\n",
              "      <td>0.003286</td>\n",
              "    </tr>\n",
              "    <tr>\n",
              "      <th>top_111</th>\n",
              "      <td>0.002291</td>\n",
              "      <td>0.002199</td>\n",
              "      <td>0.002385</td>\n",
              "      <td>0.002535</td>\n",
              "      <td>0.002452</td>\n",
              "    </tr>\n",
              "    <tr>\n",
              "      <th>top_166</th>\n",
              "      <td>0.002283</td>\n",
              "      <td>0.002795</td>\n",
              "      <td>0.002553</td>\n",
              "      <td>0.002965</td>\n",
              "      <td>0.002224</td>\n",
              "    </tr>\n",
              "  </tbody>\n",
              "</table>\n",
              "<p>200 rows × 5 columns</p>\n",
              "</div>"
            ],
            "text/plain": [
              "travel_category  business    couple    family   friends      solo\n",
              "top_74           0.017934  0.015635  0.015423  0.015663  0.012191\n",
              "top_105          0.015987  0.005147  0.005797  0.006198  0.009689\n",
              "top_123          0.015526  0.008740  0.012441  0.008907  0.008502\n",
              "top_159          0.011929  0.009769  0.008777  0.009008  0.011266\n",
              "top_158          0.011687  0.009633  0.010384  0.009772  0.008652\n",
              "...                   ...       ...       ...       ...       ...\n",
              "top_51           0.002349  0.002998  0.003637  0.002786  0.003724\n",
              "top_11           0.002319  0.002525  0.002243  0.002510  0.002040\n",
              "top_146          0.002298  0.002635  0.003370  0.002550  0.003286\n",
              "top_111          0.002291  0.002199  0.002385  0.002535  0.002452\n",
              "top_166          0.002283  0.002795  0.002553  0.002965  0.002224\n",
              "\n",
              "[200 rows x 5 columns]"
            ]
          },
          "metadata": {},
          "execution_count": 75
        }
      ]
    },
    {
      "cell_type": "code",
      "metadata": {
        "id": "jBiHuw5Zjdiw",
        "colab": {
          "base_uri": "https://localhost:8080/",
          "height": 363
        },
        "outputId": "27e5a188-4497-40de-9753-f5fa36970766"
      },
      "source": [
        "# preview the most common topic for business travelers\n",
        "top_business = 13\n",
        "pd.DataFrame(lda.show_topic(top_business))"
      ],
      "execution_count": 76,
      "outputs": [
        {
          "output_type": "execute_result",
          "data": {
            "text/html": [
              "<div>\n",
              "<style scoped>\n",
              "    .dataframe tbody tr th:only-of-type {\n",
              "        vertical-align: middle;\n",
              "    }\n",
              "\n",
              "    .dataframe tbody tr th {\n",
              "        vertical-align: top;\n",
              "    }\n",
              "\n",
              "    .dataframe thead th {\n",
              "        text-align: right;\n",
              "    }\n",
              "</style>\n",
              "<table border=\"1\" class=\"dataframe\">\n",
              "  <thead>\n",
              "    <tr style=\"text-align: right;\">\n",
              "      <th></th>\n",
              "      <th>0</th>\n",
              "      <th>1</th>\n",
              "    </tr>\n",
              "  </thead>\n",
              "  <tbody>\n",
              "    <tr>\n",
              "      <th>0</th>\n",
              "      <td>security</td>\n",
              "      <td>0.041940</td>\n",
              "    </tr>\n",
              "    <tr>\n",
              "      <th>1</th>\n",
              "      <td>reserve</td>\n",
              "      <td>0.030011</td>\n",
              "    </tr>\n",
              "    <tr>\n",
              "      <th>2</th>\n",
              "      <td>card</td>\n",
              "      <td>0.019188</td>\n",
              "    </tr>\n",
              "    <tr>\n",
              "      <th>3</th>\n",
              "      <td>tell</td>\n",
              "      <td>0.018797</td>\n",
              "    </tr>\n",
              "    <tr>\n",
              "      <th>4</th>\n",
              "      <td>steal</td>\n",
              "      <td>0.015218</td>\n",
              "    </tr>\n",
              "    <tr>\n",
              "      <th>5</th>\n",
              "      <td>motel</td>\n",
              "      <td>0.012828</td>\n",
              "    </tr>\n",
              "    <tr>\n",
              "      <th>6</th>\n",
              "      <td>suitcase</td>\n",
              "      <td>0.011690</td>\n",
              "    </tr>\n",
              "    <tr>\n",
              "      <th>7</th>\n",
              "      <td>talk_manager</td>\n",
              "      <td>0.011572</td>\n",
              "    </tr>\n",
              "    <tr>\n",
              "      <th>8</th>\n",
              "      <td>give</td>\n",
              "      <td>0.011080</td>\n",
              "    </tr>\n",
              "    <tr>\n",
              "      <th>9</th>\n",
              "      <td>try</td>\n",
              "      <td>0.010644</td>\n",
              "    </tr>\n",
              "  </tbody>\n",
              "</table>\n",
              "</div>"
            ],
            "text/plain": [
              "              0         1\n",
              "0      security  0.041940\n",
              "1       reserve  0.030011\n",
              "2          card  0.019188\n",
              "3          tell  0.018797\n",
              "4         steal  0.015218\n",
              "5         motel  0.012828\n",
              "6      suitcase  0.011690\n",
              "7  talk_manager  0.011572\n",
              "8          give  0.011080\n",
              "9           try  0.010644"
            ]
          },
          "metadata": {},
          "execution_count": 76
        }
      ]
    },
    {
      "cell_type": "code",
      "metadata": {
        "colab": {
          "base_uri": "https://localhost:8080/",
          "height": 424
        },
        "id": "AYXRaxsRj0a7",
        "outputId": "d1970661-615e-4d8e-9d7b-ff925f3ad29a"
      },
      "source": [
        "# look at the most common topic for couples\n",
        "topicmeans.sort_values(by = 'couple', ascending = False)"
      ],
      "execution_count": 77,
      "outputs": [
        {
          "output_type": "execute_result",
          "data": {
            "text/html": [
              "<div>\n",
              "<style scoped>\n",
              "    .dataframe tbody tr th:only-of-type {\n",
              "        vertical-align: middle;\n",
              "    }\n",
              "\n",
              "    .dataframe tbody tr th {\n",
              "        vertical-align: top;\n",
              "    }\n",
              "\n",
              "    .dataframe thead th {\n",
              "        text-align: right;\n",
              "    }\n",
              "</style>\n",
              "<table border=\"1\" class=\"dataframe\">\n",
              "  <thead>\n",
              "    <tr style=\"text-align: right;\">\n",
              "      <th>travel_category</th>\n",
              "      <th>business</th>\n",
              "      <th>couple</th>\n",
              "      <th>family</th>\n",
              "      <th>friends</th>\n",
              "      <th>solo</th>\n",
              "    </tr>\n",
              "  </thead>\n",
              "  <tbody>\n",
              "    <tr>\n",
              "      <th>top_74</th>\n",
              "      <td>0.017934</td>\n",
              "      <td>0.015635</td>\n",
              "      <td>0.015423</td>\n",
              "      <td>0.015663</td>\n",
              "      <td>0.012191</td>\n",
              "    </tr>\n",
              "    <tr>\n",
              "      <th>top_133</th>\n",
              "      <td>0.007956</td>\n",
              "      <td>0.010912</td>\n",
              "      <td>0.011371</td>\n",
              "      <td>0.015922</td>\n",
              "      <td>0.017025</td>\n",
              "    </tr>\n",
              "    <tr>\n",
              "      <th>top_162</th>\n",
              "      <td>0.009643</td>\n",
              "      <td>0.010574</td>\n",
              "      <td>0.009043</td>\n",
              "      <td>0.009079</td>\n",
              "      <td>0.010145</td>\n",
              "    </tr>\n",
              "    <tr>\n",
              "      <th>top_137</th>\n",
              "      <td>0.010803</td>\n",
              "      <td>0.010047</td>\n",
              "      <td>0.009977</td>\n",
              "      <td>0.009498</td>\n",
              "      <td>0.011273</td>\n",
              "    </tr>\n",
              "    <tr>\n",
              "      <th>top_159</th>\n",
              "      <td>0.011929</td>\n",
              "      <td>0.009769</td>\n",
              "      <td>0.008777</td>\n",
              "      <td>0.009008</td>\n",
              "      <td>0.011266</td>\n",
              "    </tr>\n",
              "    <tr>\n",
              "      <th>...</th>\n",
              "      <td>...</td>\n",
              "      <td>...</td>\n",
              "      <td>...</td>\n",
              "      <td>...</td>\n",
              "      <td>...</td>\n",
              "    </tr>\n",
              "    <tr>\n",
              "      <th>top_11</th>\n",
              "      <td>0.002319</td>\n",
              "      <td>0.002525</td>\n",
              "      <td>0.002243</td>\n",
              "      <td>0.002510</td>\n",
              "      <td>0.002040</td>\n",
              "    </tr>\n",
              "    <tr>\n",
              "      <th>top_155</th>\n",
              "      <td>0.002702</td>\n",
              "      <td>0.002378</td>\n",
              "      <td>0.002516</td>\n",
              "      <td>0.002405</td>\n",
              "      <td>0.003189</td>\n",
              "    </tr>\n",
              "    <tr>\n",
              "      <th>top_190</th>\n",
              "      <td>0.002899</td>\n",
              "      <td>0.002334</td>\n",
              "      <td>0.002949</td>\n",
              "      <td>0.003252</td>\n",
              "      <td>0.003700</td>\n",
              "    </tr>\n",
              "    <tr>\n",
              "      <th>top_111</th>\n",
              "      <td>0.002291</td>\n",
              "      <td>0.002199</td>\n",
              "      <td>0.002385</td>\n",
              "      <td>0.002535</td>\n",
              "      <td>0.002452</td>\n",
              "    </tr>\n",
              "    <tr>\n",
              "      <th>top_154</th>\n",
              "      <td>0.002708</td>\n",
              "      <td>0.002143</td>\n",
              "      <td>0.002568</td>\n",
              "      <td>0.002013</td>\n",
              "      <td>0.002145</td>\n",
              "    </tr>\n",
              "  </tbody>\n",
              "</table>\n",
              "<p>200 rows × 5 columns</p>\n",
              "</div>"
            ],
            "text/plain": [
              "travel_category  business    couple    family   friends      solo\n",
              "top_74           0.017934  0.015635  0.015423  0.015663  0.012191\n",
              "top_133          0.007956  0.010912  0.011371  0.015922  0.017025\n",
              "top_162          0.009643  0.010574  0.009043  0.009079  0.010145\n",
              "top_137          0.010803  0.010047  0.009977  0.009498  0.011273\n",
              "top_159          0.011929  0.009769  0.008777  0.009008  0.011266\n",
              "...                   ...       ...       ...       ...       ...\n",
              "top_11           0.002319  0.002525  0.002243  0.002510  0.002040\n",
              "top_155          0.002702  0.002378  0.002516  0.002405  0.003189\n",
              "top_190          0.002899  0.002334  0.002949  0.003252  0.003700\n",
              "top_111          0.002291  0.002199  0.002385  0.002535  0.002452\n",
              "top_154          0.002708  0.002143  0.002568  0.002013  0.002145\n",
              "\n",
              "[200 rows x 5 columns]"
            ]
          },
          "metadata": {},
          "execution_count": 77
        }
      ]
    },
    {
      "cell_type": "code",
      "metadata": {
        "colab": {
          "base_uri": "https://localhost:8080/",
          "height": 363
        },
        "id": "OjrQGDKijdlj",
        "outputId": "fe74efcf-8a61-4d18-ff95-70b6f4833dd8"
      },
      "source": [
        "# preview the most common topic for business travelers\n",
        "top_couple = 139\n",
        "pd.DataFrame(lda.show_topic(top_couple))"
      ],
      "execution_count": 78,
      "outputs": [
        {
          "output_type": "execute_result",
          "data": {
            "text/html": [
              "<div>\n",
              "<style scoped>\n",
              "    .dataframe tbody tr th:only-of-type {\n",
              "        vertical-align: middle;\n",
              "    }\n",
              "\n",
              "    .dataframe tbody tr th {\n",
              "        vertical-align: top;\n",
              "    }\n",
              "\n",
              "    .dataframe thead th {\n",
              "        text-align: right;\n",
              "    }\n",
              "</style>\n",
              "<table border=\"1\" class=\"dataframe\">\n",
              "  <thead>\n",
              "    <tr style=\"text-align: right;\">\n",
              "      <th></th>\n",
              "      <th>0</th>\n",
              "      <th>1</th>\n",
              "    </tr>\n",
              "  </thead>\n",
              "  <tbody>\n",
              "    <tr>\n",
              "      <th>0</th>\n",
              "      <td>tram</td>\n",
              "      <td>0.033430</td>\n",
              "    </tr>\n",
              "    <tr>\n",
              "      <th>1</th>\n",
              "      <td>besides</td>\n",
              "      <td>0.025429</td>\n",
              "    </tr>\n",
              "    <tr>\n",
              "      <th>2</th>\n",
              "      <td>departure</td>\n",
              "      <td>0.023538</td>\n",
              "    </tr>\n",
              "    <tr>\n",
              "      <th>3</th>\n",
              "      <td>curtain</td>\n",
              "      <td>0.022250</td>\n",
              "    </tr>\n",
              "    <tr>\n",
              "      <th>4</th>\n",
              "      <td>save</td>\n",
              "      <td>0.021419</td>\n",
              "    </tr>\n",
              "    <tr>\n",
              "      <th>5</th>\n",
              "      <td>control</td>\n",
              "      <td>0.020755</td>\n",
              "    </tr>\n",
              "    <tr>\n",
              "      <th>6</th>\n",
              "      <td>program</td>\n",
              "      <td>0.020744</td>\n",
              "    </tr>\n",
              "    <tr>\n",
              "      <th>7</th>\n",
              "      <td>far_away</td>\n",
              "      <td>0.020368</td>\n",
              "    </tr>\n",
              "    <tr>\n",
              "      <th>8</th>\n",
              "      <td>sweet</td>\n",
              "      <td>0.019120</td>\n",
              "    </tr>\n",
              "    <tr>\n",
              "      <th>9</th>\n",
              "      <td>navigate</td>\n",
              "      <td>0.019091</td>\n",
              "    </tr>\n",
              "  </tbody>\n",
              "</table>\n",
              "</div>"
            ],
            "text/plain": [
              "           0         1\n",
              "0       tram  0.033430\n",
              "1    besides  0.025429\n",
              "2  departure  0.023538\n",
              "3    curtain  0.022250\n",
              "4       save  0.021419\n",
              "5    control  0.020755\n",
              "6    program  0.020744\n",
              "7   far_away  0.020368\n",
              "8      sweet  0.019120\n",
              "9   navigate  0.019091"
            ]
          },
          "metadata": {},
          "execution_count": 78
        }
      ]
    },
    {
      "cell_type": "markdown",
      "metadata": {
        "id": "hBibeypqDY53"
      },
      "source": [
        "### Topics by rating for 1 hotel"
      ]
    },
    {
      "cell_type": "code",
      "metadata": {
        "colab": {
          "base_uri": "https://localhost:8080/"
        },
        "id": "kOXHaa3iEWd6",
        "outputId": "045c42f7-d037-49e9-c2d8-d47839f8a54c"
      },
      "source": [
        "# print out unique hotels\n",
        "r.v_name.unique()"
      ],
      "execution_count": 81,
      "outputs": [
        {
          "output_type": "execute_result",
          "data": {
            "text/plain": [
              "array(['Caesars Palace'], dtype=object)"
            ]
          },
          "metadata": {},
          "execution_count": 81
        }
      ]
    },
    {
      "cell_type": "code",
      "metadata": {
        "id": "0zqKx1U4S7Dm"
      },
      "source": [
        "# pick out a hotel to analyze in detail\n",
        "hotel = 'Wynn Las Vegas'\n",
        "df_h = df.loc[df.v_name==hotel].reset_index(drop = True)"
      ],
      "execution_count": 82,
      "outputs": []
    },
    {
      "cell_type": "code",
      "metadata": {
        "colab": {
          "base_uri": "https://localhost:8080/",
          "height": 329
        },
        "id": "3BdDf4WxS7F5",
        "outputId": "e4c260a3-2648-42eb-abf3-d18d47115c02"
      },
      "source": [
        "# compute the average topic probability for each rating level\n",
        "r = df_h.groupby('reviewrating')[topiccols].mean().T"
      ],
      "execution_count": 88,
      "outputs": [
        {
          "output_type": "error",
          "ename": "DataError",
          "evalue": "ignored",
          "traceback": [
            "\u001b[0;31m---------------------------------------------------------------------------\u001b[0m",
            "\u001b[0;31mDataError\u001b[0m                                 Traceback (most recent call last)",
            "\u001b[0;32m<ipython-input-88-6856ab362d2b>\u001b[0m in \u001b[0;36m<module>\u001b[0;34m()\u001b[0m\n\u001b[1;32m      1\u001b[0m \u001b[0;31m# compute the average topic probability for each rating level\u001b[0m\u001b[0;34m\u001b[0m\u001b[0;34m\u001b[0m\u001b[0;34m\u001b[0m\u001b[0m\n\u001b[0;32m----> 2\u001b[0;31m \u001b[0mr\u001b[0m \u001b[0;34m=\u001b[0m \u001b[0mdf_h\u001b[0m\u001b[0;34m.\u001b[0m\u001b[0mgroupby\u001b[0m\u001b[0;34m(\u001b[0m\u001b[0;34m'reviewrating'\u001b[0m\u001b[0;34m)\u001b[0m\u001b[0;34m[\u001b[0m\u001b[0mtopiccols\u001b[0m\u001b[0;34m]\u001b[0m\u001b[0;34m.\u001b[0m\u001b[0mmean\u001b[0m\u001b[0;34m(\u001b[0m\u001b[0;34m)\u001b[0m\u001b[0;34m.\u001b[0m\u001b[0mT\u001b[0m\u001b[0;34m\u001b[0m\u001b[0;34m\u001b[0m\u001b[0m\n\u001b[0m",
            "\u001b[0;32m/usr/local/lib/python3.7/dist-packages/pandas/core/groupby/groupby.py\u001b[0m in \u001b[0;36mmean\u001b[0;34m(self, numeric_only)\u001b[0m\n\u001b[1;32m   1396\u001b[0m             \u001b[0;34m\"mean\"\u001b[0m\u001b[0;34m,\u001b[0m\u001b[0;34m\u001b[0m\u001b[0;34m\u001b[0m\u001b[0m\n\u001b[1;32m   1397\u001b[0m             \u001b[0malt\u001b[0m\u001b[0;34m=\u001b[0m\u001b[0;32mlambda\u001b[0m \u001b[0mx\u001b[0m\u001b[0;34m,\u001b[0m \u001b[0maxis\u001b[0m\u001b[0;34m:\u001b[0m \u001b[0mSeries\u001b[0m\u001b[0;34m(\u001b[0m\u001b[0mx\u001b[0m\u001b[0;34m)\u001b[0m\u001b[0;34m.\u001b[0m\u001b[0mmean\u001b[0m\u001b[0;34m(\u001b[0m\u001b[0mnumeric_only\u001b[0m\u001b[0;34m=\u001b[0m\u001b[0mnumeric_only\u001b[0m\u001b[0;34m)\u001b[0m\u001b[0;34m,\u001b[0m\u001b[0;34m\u001b[0m\u001b[0;34m\u001b[0m\u001b[0m\n\u001b[0;32m-> 1398\u001b[0;31m             \u001b[0mnumeric_only\u001b[0m\u001b[0;34m=\u001b[0m\u001b[0mnumeric_only\u001b[0m\u001b[0;34m,\u001b[0m\u001b[0;34m\u001b[0m\u001b[0;34m\u001b[0m\u001b[0m\n\u001b[0m\u001b[1;32m   1399\u001b[0m         )\n\u001b[1;32m   1400\u001b[0m \u001b[0;34m\u001b[0m\u001b[0m\n",
            "\u001b[0;32m/usr/local/lib/python3.7/dist-packages/pandas/core/groupby/generic.py\u001b[0m in \u001b[0;36m_cython_agg_general\u001b[0;34m(self, how, alt, numeric_only, min_count)\u001b[0m\n\u001b[1;32m   1020\u001b[0m     ) -> DataFrame:\n\u001b[1;32m   1021\u001b[0m         agg_blocks, agg_items = self._cython_agg_blocks(\n\u001b[0;32m-> 1022\u001b[0;31m             \u001b[0mhow\u001b[0m\u001b[0;34m,\u001b[0m \u001b[0malt\u001b[0m\u001b[0;34m=\u001b[0m\u001b[0malt\u001b[0m\u001b[0;34m,\u001b[0m \u001b[0mnumeric_only\u001b[0m\u001b[0;34m=\u001b[0m\u001b[0mnumeric_only\u001b[0m\u001b[0;34m,\u001b[0m \u001b[0mmin_count\u001b[0m\u001b[0;34m=\u001b[0m\u001b[0mmin_count\u001b[0m\u001b[0;34m\u001b[0m\u001b[0;34m\u001b[0m\u001b[0m\n\u001b[0m\u001b[1;32m   1023\u001b[0m         )\n\u001b[1;32m   1024\u001b[0m         \u001b[0;32mreturn\u001b[0m \u001b[0mself\u001b[0m\u001b[0;34m.\u001b[0m\u001b[0m_wrap_agged_blocks\u001b[0m\u001b[0;34m(\u001b[0m\u001b[0magg_blocks\u001b[0m\u001b[0;34m,\u001b[0m \u001b[0mitems\u001b[0m\u001b[0;34m=\u001b[0m\u001b[0magg_items\u001b[0m\u001b[0;34m)\u001b[0m\u001b[0;34m\u001b[0m\u001b[0;34m\u001b[0m\u001b[0m\n",
            "\u001b[0;32m/usr/local/lib/python3.7/dist-packages/pandas/core/groupby/generic.py\u001b[0m in \u001b[0;36m_cython_agg_blocks\u001b[0;34m(self, how, alt, numeric_only, min_count)\u001b[0m\n\u001b[1;32m   1128\u001b[0m \u001b[0;34m\u001b[0m\u001b[0m\n\u001b[1;32m   1129\u001b[0m         \u001b[0;32mif\u001b[0m \u001b[0;32mnot\u001b[0m \u001b[0;34m(\u001b[0m\u001b[0magg_blocks\u001b[0m \u001b[0;32mor\u001b[0m \u001b[0msplit_frames\u001b[0m\u001b[0;34m)\u001b[0m\u001b[0;34m:\u001b[0m\u001b[0;34m\u001b[0m\u001b[0;34m\u001b[0m\u001b[0m\n\u001b[0;32m-> 1130\u001b[0;31m             \u001b[0;32mraise\u001b[0m \u001b[0mDataError\u001b[0m\u001b[0;34m(\u001b[0m\u001b[0;34m\"No numeric types to aggregate\"\u001b[0m\u001b[0;34m)\u001b[0m\u001b[0;34m\u001b[0m\u001b[0;34m\u001b[0m\u001b[0m\n\u001b[0m\u001b[1;32m   1131\u001b[0m \u001b[0;34m\u001b[0m\u001b[0m\n\u001b[1;32m   1132\u001b[0m         \u001b[0;32mif\u001b[0m \u001b[0msplit_items\u001b[0m\u001b[0;34m:\u001b[0m\u001b[0;34m\u001b[0m\u001b[0;34m\u001b[0m\u001b[0m\n",
            "\u001b[0;31mDataError\u001b[0m: No numeric types to aggregate"
          ]
        }
      ]
    },
    {
      "cell_type": "code",
      "metadata": {
        "colab": {
          "base_uri": "https://localhost:8080/",
          "height": 329
        },
        "id": "Z66AcGGLS7Il",
        "outputId": "595599f0-8a8f-4d85-c766-57f75e40201b"
      },
      "source": [
        "# look at top topics for 1 star ratings\n",
        "topicmeans.sort_values(by = 1, ascending = False)"
      ],
      "execution_count": 84,
      "outputs": [
        {
          "output_type": "error",
          "ename": "KeyError",
          "evalue": "ignored",
          "traceback": [
            "\u001b[0;31m---------------------------------------------------------------------------\u001b[0m",
            "\u001b[0;31mKeyError\u001b[0m                                  Traceback (most recent call last)",
            "\u001b[0;32m<ipython-input-84-c2507199202b>\u001b[0m in \u001b[0;36m<module>\u001b[0;34m()\u001b[0m\n\u001b[1;32m      1\u001b[0m \u001b[0;31m# look at top topics for 1 star ratings\u001b[0m\u001b[0;34m\u001b[0m\u001b[0;34m\u001b[0m\u001b[0;34m\u001b[0m\u001b[0m\n\u001b[0;32m----> 2\u001b[0;31m \u001b[0mtopicmeans\u001b[0m\u001b[0;34m.\u001b[0m\u001b[0msort_values\u001b[0m\u001b[0;34m(\u001b[0m\u001b[0mby\u001b[0m \u001b[0;34m=\u001b[0m \u001b[0;36m1\u001b[0m\u001b[0;34m,\u001b[0m \u001b[0mascending\u001b[0m \u001b[0;34m=\u001b[0m \u001b[0;32mFalse\u001b[0m\u001b[0;34m)\u001b[0m\u001b[0;34m\u001b[0m\u001b[0;34m\u001b[0m\u001b[0m\n\u001b[0m",
            "\u001b[0;32m/usr/local/lib/python3.7/dist-packages/pandas/core/frame.py\u001b[0m in \u001b[0;36msort_values\u001b[0;34m(self, by, axis, ascending, inplace, kind, na_position, ignore_index, key)\u001b[0m\n\u001b[1;32m   5296\u001b[0m \u001b[0;34m\u001b[0m\u001b[0m\n\u001b[1;32m   5297\u001b[0m             \u001b[0mby\u001b[0m \u001b[0;34m=\u001b[0m \u001b[0mby\u001b[0m\u001b[0;34m[\u001b[0m\u001b[0;36m0\u001b[0m\u001b[0;34m]\u001b[0m\u001b[0;34m\u001b[0m\u001b[0;34m\u001b[0m\u001b[0m\n\u001b[0;32m-> 5298\u001b[0;31m             \u001b[0mk\u001b[0m \u001b[0;34m=\u001b[0m \u001b[0mself\u001b[0m\u001b[0;34m.\u001b[0m\u001b[0m_get_label_or_level_values\u001b[0m\u001b[0;34m(\u001b[0m\u001b[0mby\u001b[0m\u001b[0;34m,\u001b[0m \u001b[0maxis\u001b[0m\u001b[0;34m=\u001b[0m\u001b[0maxis\u001b[0m\u001b[0;34m)\u001b[0m\u001b[0;34m\u001b[0m\u001b[0;34m\u001b[0m\u001b[0m\n\u001b[0m\u001b[1;32m   5299\u001b[0m \u001b[0;34m\u001b[0m\u001b[0m\n\u001b[1;32m   5300\u001b[0m             \u001b[0;31m# need to rewrap column in Series to apply key function\u001b[0m\u001b[0;34m\u001b[0m\u001b[0;34m\u001b[0m\u001b[0;34m\u001b[0m\u001b[0m\n",
            "\u001b[0;32m/usr/local/lib/python3.7/dist-packages/pandas/core/generic.py\u001b[0m in \u001b[0;36m_get_label_or_level_values\u001b[0;34m(self, key, axis)\u001b[0m\n\u001b[1;32m   1561\u001b[0m             \u001b[0mvalues\u001b[0m \u001b[0;34m=\u001b[0m \u001b[0mself\u001b[0m\u001b[0;34m.\u001b[0m\u001b[0maxes\u001b[0m\u001b[0;34m[\u001b[0m\u001b[0maxis\u001b[0m\u001b[0;34m]\u001b[0m\u001b[0;34m.\u001b[0m\u001b[0mget_level_values\u001b[0m\u001b[0;34m(\u001b[0m\u001b[0mkey\u001b[0m\u001b[0;34m)\u001b[0m\u001b[0;34m.\u001b[0m\u001b[0m_values\u001b[0m\u001b[0;34m\u001b[0m\u001b[0;34m\u001b[0m\u001b[0m\n\u001b[1;32m   1562\u001b[0m         \u001b[0;32melse\u001b[0m\u001b[0;34m:\u001b[0m\u001b[0;34m\u001b[0m\u001b[0;34m\u001b[0m\u001b[0m\n\u001b[0;32m-> 1563\u001b[0;31m             \u001b[0;32mraise\u001b[0m \u001b[0mKeyError\u001b[0m\u001b[0;34m(\u001b[0m\u001b[0mkey\u001b[0m\u001b[0;34m)\u001b[0m\u001b[0;34m\u001b[0m\u001b[0;34m\u001b[0m\u001b[0m\n\u001b[0m\u001b[1;32m   1564\u001b[0m \u001b[0;34m\u001b[0m\u001b[0m\n\u001b[1;32m   1565\u001b[0m         \u001b[0;31m# Check for duplicates\u001b[0m\u001b[0;34m\u001b[0m\u001b[0;34m\u001b[0m\u001b[0;34m\u001b[0m\u001b[0m\n",
            "\u001b[0;31mKeyError\u001b[0m: 1"
          ]
        }
      ]
    },
    {
      "cell_type": "code",
      "metadata": {
        "id": "K0KttLbIoRMt"
      },
      "source": [
        "# look at the highest rated topic for 1 star ratings\n",
        "lda.show_topic(13) "
      ],
      "execution_count": null,
      "outputs": []
    },
    {
      "cell_type": "code",
      "metadata": {
        "id": "q5X-f8iZS7Lb"
      },
      "source": [
        "# look at top topics for 5 star ratings\n",
        "\n",
        "topicmeans.sort_values(by = 5, ascending = False).head()"
      ],
      "execution_count": null,
      "outputs": []
    },
    {
      "cell_type": "code",
      "metadata": {
        "id": "fObyEjlAoZE9"
      },
      "source": [
        "# look at the highest rated topic for 5 star ratings\n",
        "# that are not in the top 5 for 1 star ratings\n",
        "\n",
        "topicmeans.sort_values(by = 5, ascending = False).head(5)\n",
        "\n"
      ],
      "execution_count": null,
      "outputs": []
    },
    {
      "cell_type": "markdown",
      "metadata": {
        "id": "6ODePDkrJPV9"
      },
      "source": [
        "**Answer Question**\n",
        "\n",
        "Any intuition behind the distinctive 5 star topic and the top 1 star topic? Explain.\n",
        "\n",
        "1. **Answer** No, they have no correlation to one another and are on opposite sides of the rating reviews. "
      ]
    },
    {
      "cell_type": "markdown",
      "metadata": {
        "id": "PyHJz_FaI1Vf"
      },
      "source": [
        "# Create wordcloud from LDA (+2 Bonus)\n",
        "\n"
      ]
    },
    {
      "cell_type": "markdown",
      "metadata": {
        "id": "d5eJIMJGtYIU"
      },
      "source": [
        "## Example for creating 1 wordcloud"
      ]
    },
    {
      "cell_type": "code",
      "metadata": {
        "id": "iA78Q6rjrnNa"
      },
      "source": [
        "# to get the topic weights for topic k:\n",
        "k = 0\n",
        "# topn = number of top words to use\n",
        "topicwts = dict(lda.show_topic(k, topn = 100))"
      ],
      "execution_count": null,
      "outputs": []
    },
    {
      "cell_type": "code",
      "metadata": {
        "id": "fHudGG8NrfRn"
      },
      "source": [
        "from wordcloud import WordCloud\n",
        "wc = WordCloud(width = 1920, height = 1080, background_color = 'white').fit_words(topicwts) # specify w/h for HD figure"
      ],
      "execution_count": null,
      "outputs": []
    },
    {
      "cell_type": "code",
      "metadata": {
        "id": "xnJVX9Txsaae"
      },
      "source": [
        "# plot wc\n",
        "plt.figure(figsize = (10,5))\n",
        "plt.imshow(wc, interpolation='bilinear')\n",
        "plt.title('Topic {}'.format(k))\n",
        "plt.axis('off')\n",
        "plt.show()"
      ],
      "execution_count": null,
      "outputs": []
    },
    {
      "cell_type": "markdown",
      "metadata": {
        "id": "bXjgXZqSsrsC"
      },
      "source": [
        "## Challenge problem (for the bonus): \n",
        "Use only the data from your chosen hotel, i.e. df_h.\n",
        "\n",
        "For positive and negative reviews, where positive is 4-5 stars and negative is 1-3 stars, create a wordcloud for any of the top 5 topics for that category of ratings that are not in the top 5 of the other category. For instance, if topic 88 is one of the top 5 topics for negative reviews and **not** one of the top 5 topics for positive reviews, then create a wordcloud for it. Make sure that the title of the wordcloud image reflects the review type (positive/negative) and the topic number: e.g., 'Positive review topic: 88'.\n",
        "\n",
        "*Use what you have learned throughout the semester and the internet to figure out how to do this without any hard-coded results, especially with respect to selecting the topics to visualize. For example: use code to write a generic solution such that you do not have to manually select the topics used for word cloud. If you had to re-run the code where top 5 topics is now top 3 topics, you should only have to change the 5 to 3 once in the code.\n",
        "\n"
      ]
    },
    {
      "cell_type": "code",
      "metadata": {
        "id": "jP4SGPydwRRZ"
      },
      "source": [
        "# solution below, feel free to add multiple additional cells"
      ],
      "execution_count": null,
      "outputs": []
    }
  ]
}