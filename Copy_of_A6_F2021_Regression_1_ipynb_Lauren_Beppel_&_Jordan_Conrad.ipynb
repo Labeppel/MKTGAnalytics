{
  "nbformat": 4,
  "nbformat_minor": 0,
  "metadata": {
    "colab": {
      "name": "Copy of A6 F2021 Regression 1.ipynb - Lauren Beppel & Jordan Conrad",
      "provenance": [],
      "collapsed_sections": []
    },
    "kernelspec": {
      "name": "python3",
      "display_name": "Python 3"
    }
  },
  "cells": [
    {
      "cell_type": "markdown",
      "metadata": {
        "id": "UFHvr3sOU066"
      },
      "source": [
        "**Rationale** This assignment will help you practice running and interpreting basic regressions analysis.\n",
        "\n",
        "**[Datasets](https://drive.google.com/drive/folders/1LJ38ctVX62ggGGygJDLlLG2V6jZ4BNml?usp=sharing)**\n",
        "1. [Safegraph Temple Visitor Sample](https://drive.google.com/file/d/1u_sDxFp9fja-_cop4yzIAJ_hX2-fplWN/view?usp=sharing) \n",
        "1. [Avocado Prices](https://drive.google.com/file/d/1QJ_dyyBFkHhC6VkzVvdAFa385mtqtntM/view?usp=sharing)\n",
        "\n",
        "**Data description** This dataset includes SafeGraph's sampled foot traffic volume for Temple University between 1-1-2019 and 5-31-2020. Safegraph collects the foot traffic data from a network of phone apps. You can view the `visits` data as the number of SafeGraph tracked devices to visit Temple University. This dataset is merged with Philadelphia's weather data. \n"
      ]
    },
    {
      "cell_type": "markdown",
      "metadata": {
        "id": "xMiIPD5fTfBa"
      },
      "source": [
        "# 1. Run and interpret a simple linear regression (5 points)...\n",
        "...to figure out the relationship between daily average temperateure as measured in degrees fahrenheit, `\"temp\"`, and people on campus `\"visits\"` for the Fall 2019 semester (limit data to M-F 8-26 - 11-24-2019, inclusive).\n",
        "\n",
        "In your answer: \n",
        "1. First, look at data. What is the average number of SafeGraph visitors to Temple University during the teaching days of the Fall 2019 semester? Roughly what percent of the Temple student population is this?\n",
        "1. Specify (write out the regression equation), run, and interpret a regression that documents the relationship between temperature and foot traffic (visits) on campus.\n",
        "    1. Do more students visit campus (and presumably go to class) when the weather is warmer or colder?\n",
        "    1. Besides students not wanting to go to class when the temperature is not to their liking, what else might cause the observed relationship between visits and temperature?"
      ]
    },
    {
      "cell_type": "code",
      "metadata": {
        "id": "SsqX3z-sRx36",
        "colab": {
          "base_uri": "https://localhost:8080/"
        },
        "outputId": "d05067b1-fd73-47d8-c8c0-63b8c1ee26c8"
      },
      "source": [
        "# imports here\n",
        "import os, pandas as pd, matplotlib.pyplot as plt\n",
        "from google.colab import drive\n",
        "from statsmodels.formula import api as smf\n",
        "drive.mount('drive')"
      ],
      "execution_count": 1,
      "outputs": [
        {
          "output_type": "stream",
          "name": "stderr",
          "text": [
            "/usr/local/lib/python3.7/dist-packages/statsmodels/tools/_testing.py:19: FutureWarning: pandas.util.testing is deprecated. Use the functions in the public API at pandas.testing instead.\n",
            "  import pandas.util.testing as tm\n"
          ]
        },
        {
          "output_type": "stream",
          "name": "stdout",
          "text": [
            "Mounted at drive\n"
          ]
        }
      ]
    },
    {
      "cell_type": "code",
      "metadata": {
        "colab": {
          "base_uri": "https://localhost:8080/"
        },
        "id": "Gp4FG9vZ0ppg",
        "outputId": "44051e12-f89a-4bdf-a021-c00695ef3c2a"
      },
      "source": [
        "# list directory containing the data\n",
        "fpath = 'drive/MyDrive/A6/' # change this to your data folder\n",
        "os.listdir(fpath)"
      ],
      "execution_count": 2,
      "outputs": [
        {
          "output_type": "execute_result",
          "data": {
            "text/plain": [
              "['temple_traffic.csv', 'avocado.csv', 'retail_data']"
            ]
          },
          "metadata": {},
          "execution_count": 2
        }
      ]
    },
    {
      "cell_type": "code",
      "metadata": {
        "id": "2vmT-l-52Pd0"
      },
      "source": [
        "# read in the dataset\n",
        "temple = pd.read_csv(fpath + 'temple_traffic.csv', index_col = 0)"
      ],
      "execution_count": 3,
      "outputs": []
    },
    {
      "cell_type": "code",
      "metadata": {
        "colab": {
          "base_uri": "https://localhost:8080/",
          "height": 609
        },
        "id": "uRIWQvVsqqV2",
        "outputId": "bf69ad9e-9641-42f5-9d0d-c5925bf449a1"
      },
      "source": [
        "temple"
      ],
      "execution_count": 4,
      "outputs": [
        {
          "output_type": "execute_result",
          "data": {
            "text/html": [
              "<div>\n",
              "<style scoped>\n",
              "    .dataframe tbody tr th:only-of-type {\n",
              "        vertical-align: middle;\n",
              "    }\n",
              "\n",
              "    .dataframe tbody tr th {\n",
              "        vertical-align: top;\n",
              "    }\n",
              "\n",
              "    .dataframe thead th {\n",
              "        text-align: right;\n",
              "    }\n",
              "</style>\n",
              "<table border=\"1\" class=\"dataframe\">\n",
              "  <thead>\n",
              "    <tr style=\"text-align: right;\">\n",
              "      <th></th>\n",
              "      <th>safegraph_place_id</th>\n",
              "      <th>date</th>\n",
              "      <th>visits</th>\n",
              "      <th>stn</th>\n",
              "      <th>wban</th>\n",
              "      <th>temp</th>\n",
              "      <th>count_temp</th>\n",
              "      <th>dewp</th>\n",
              "      <th>count_dewp</th>\n",
              "      <th>slp</th>\n",
              "      <th>count_slp</th>\n",
              "      <th>stp</th>\n",
              "      <th>count_stp</th>\n",
              "      <th>visib</th>\n",
              "      <th>count_visib</th>\n",
              "      <th>wdsp</th>\n",
              "      <th>count_wdsp</th>\n",
              "      <th>mxspd</th>\n",
              "      <th>gust</th>\n",
              "      <th>maxtemp</th>\n",
              "      <th>flag_max</th>\n",
              "      <th>mintemp</th>\n",
              "      <th>flag_min</th>\n",
              "      <th>prcp</th>\n",
              "      <th>flag_prcp</th>\n",
              "      <th>sndp</th>\n",
              "      <th>frshtt</th>\n",
              "    </tr>\n",
              "  </thead>\n",
              "  <tbody>\n",
              "    <tr>\n",
              "      <th>0</th>\n",
              "      <td>sg:00579e722c8e48178ef0c66a7c91f92c</td>\n",
              "      <td>2020-03-02</td>\n",
              "      <td>65</td>\n",
              "      <td>997286.0</td>\n",
              "      <td>99999.0</td>\n",
              "      <td>45.8</td>\n",
              "      <td>24.0</td>\n",
              "      <td>NaN</td>\n",
              "      <td>0.0</td>\n",
              "      <td>1016.8</td>\n",
              "      <td>24.0</td>\n",
              "      <td>NaN</td>\n",
              "      <td>0.0</td>\n",
              "      <td>NaN</td>\n",
              "      <td>0.0</td>\n",
              "      <td>0.0</td>\n",
              "      <td>24.0</td>\n",
              "      <td>NaN</td>\n",
              "      <td>NaN</td>\n",
              "      <td>63.3</td>\n",
              "      <td>*</td>\n",
              "      <td>34.7</td>\n",
              "      <td>*</td>\n",
              "      <td>0.0</td>\n",
              "      <td>I</td>\n",
              "      <td>NaN</td>\n",
              "      <td>0.0</td>\n",
              "    </tr>\n",
              "    <tr>\n",
              "      <th>1</th>\n",
              "      <td>sg:00579e722c8e48178ef0c66a7c91f92c</td>\n",
              "      <td>2020-03-03</td>\n",
              "      <td>68</td>\n",
              "      <td>997286.0</td>\n",
              "      <td>99999.0</td>\n",
              "      <td>53.0</td>\n",
              "      <td>24.0</td>\n",
              "      <td>NaN</td>\n",
              "      <td>0.0</td>\n",
              "      <td>1006.3</td>\n",
              "      <td>24.0</td>\n",
              "      <td>NaN</td>\n",
              "      <td>0.0</td>\n",
              "      <td>NaN</td>\n",
              "      <td>0.0</td>\n",
              "      <td>0.0</td>\n",
              "      <td>24.0</td>\n",
              "      <td>NaN</td>\n",
              "      <td>NaN</td>\n",
              "      <td>59.9</td>\n",
              "      <td>*</td>\n",
              "      <td>45.9</td>\n",
              "      <td>*</td>\n",
              "      <td>0.0</td>\n",
              "      <td>I</td>\n",
              "      <td>NaN</td>\n",
              "      <td>0.0</td>\n",
              "    </tr>\n",
              "    <tr>\n",
              "      <th>2</th>\n",
              "      <td>sg:00579e722c8e48178ef0c66a7c91f92c</td>\n",
              "      <td>2020-03-04</td>\n",
              "      <td>71</td>\n",
              "      <td>997286.0</td>\n",
              "      <td>99999.0</td>\n",
              "      <td>51.4</td>\n",
              "      <td>24.0</td>\n",
              "      <td>NaN</td>\n",
              "      <td>0.0</td>\n",
              "      <td>1006.3</td>\n",
              "      <td>24.0</td>\n",
              "      <td>NaN</td>\n",
              "      <td>0.0</td>\n",
              "      <td>NaN</td>\n",
              "      <td>0.0</td>\n",
              "      <td>0.0</td>\n",
              "      <td>24.0</td>\n",
              "      <td>NaN</td>\n",
              "      <td>NaN</td>\n",
              "      <td>58.6</td>\n",
              "      <td>*</td>\n",
              "      <td>45.1</td>\n",
              "      <td>*</td>\n",
              "      <td>0.0</td>\n",
              "      <td>I</td>\n",
              "      <td>NaN</td>\n",
              "      <td>0.0</td>\n",
              "    </tr>\n",
              "    <tr>\n",
              "      <th>3</th>\n",
              "      <td>sg:00579e722c8e48178ef0c66a7c91f92c</td>\n",
              "      <td>2020-03-05</td>\n",
              "      <td>70</td>\n",
              "      <td>997286.0</td>\n",
              "      <td>99999.0</td>\n",
              "      <td>49.2</td>\n",
              "      <td>24.0</td>\n",
              "      <td>NaN</td>\n",
              "      <td>0.0</td>\n",
              "      <td>1017.0</td>\n",
              "      <td>24.0</td>\n",
              "      <td>NaN</td>\n",
              "      <td>0.0</td>\n",
              "      <td>NaN</td>\n",
              "      <td>0.0</td>\n",
              "      <td>0.0</td>\n",
              "      <td>24.0</td>\n",
              "      <td>NaN</td>\n",
              "      <td>NaN</td>\n",
              "      <td>55.8</td>\n",
              "      <td>*</td>\n",
              "      <td>41.7</td>\n",
              "      <td>*</td>\n",
              "      <td>0.0</td>\n",
              "      <td>I</td>\n",
              "      <td>NaN</td>\n",
              "      <td>0.0</td>\n",
              "    </tr>\n",
              "    <tr>\n",
              "      <th>4</th>\n",
              "      <td>sg:00579e722c8e48178ef0c66a7c91f92c</td>\n",
              "      <td>2020-03-06</td>\n",
              "      <td>57</td>\n",
              "      <td>997286.0</td>\n",
              "      <td>99999.0</td>\n",
              "      <td>41.7</td>\n",
              "      <td>24.0</td>\n",
              "      <td>NaN</td>\n",
              "      <td>0.0</td>\n",
              "      <td>1013.1</td>\n",
              "      <td>24.0</td>\n",
              "      <td>NaN</td>\n",
              "      <td>0.0</td>\n",
              "      <td>NaN</td>\n",
              "      <td>0.0</td>\n",
              "      <td>0.0</td>\n",
              "      <td>24.0</td>\n",
              "      <td>NaN</td>\n",
              "      <td>NaN</td>\n",
              "      <td>49.1</td>\n",
              "      <td>*</td>\n",
              "      <td>37.2</td>\n",
              "      <td>*</td>\n",
              "      <td>0.0</td>\n",
              "      <td>I</td>\n",
              "      <td>NaN</td>\n",
              "      <td>0.0</td>\n",
              "    </tr>\n",
              "    <tr>\n",
              "      <th>...</th>\n",
              "      <td>...</td>\n",
              "      <td>...</td>\n",
              "      <td>...</td>\n",
              "      <td>...</td>\n",
              "      <td>...</td>\n",
              "      <td>...</td>\n",
              "      <td>...</td>\n",
              "      <td>...</td>\n",
              "      <td>...</td>\n",
              "      <td>...</td>\n",
              "      <td>...</td>\n",
              "      <td>...</td>\n",
              "      <td>...</td>\n",
              "      <td>...</td>\n",
              "      <td>...</td>\n",
              "      <td>...</td>\n",
              "      <td>...</td>\n",
              "      <td>...</td>\n",
              "      <td>...</td>\n",
              "      <td>...</td>\n",
              "      <td>...</td>\n",
              "      <td>...</td>\n",
              "      <td>...</td>\n",
              "      <td>...</td>\n",
              "      <td>...</td>\n",
              "      <td>...</td>\n",
              "      <td>...</td>\n",
              "    </tr>\n",
              "    <tr>\n",
              "      <th>513</th>\n",
              "      <td>sg:00579e722c8e48178ef0c66a7c91f92c</td>\n",
              "      <td>2020-02-19</td>\n",
              "      <td>122</td>\n",
              "      <td>997286.0</td>\n",
              "      <td>99999.0</td>\n",
              "      <td>49.4</td>\n",
              "      <td>24.0</td>\n",
              "      <td>NaN</td>\n",
              "      <td>0.0</td>\n",
              "      <td>1020.9</td>\n",
              "      <td>24.0</td>\n",
              "      <td>NaN</td>\n",
              "      <td>0.0</td>\n",
              "      <td>NaN</td>\n",
              "      <td>0.0</td>\n",
              "      <td>0.0</td>\n",
              "      <td>24.0</td>\n",
              "      <td>NaN</td>\n",
              "      <td>NaN</td>\n",
              "      <td>58.1</td>\n",
              "      <td>*</td>\n",
              "      <td>43.0</td>\n",
              "      <td>*</td>\n",
              "      <td>0.0</td>\n",
              "      <td>I</td>\n",
              "      <td>NaN</td>\n",
              "      <td>0.0</td>\n",
              "    </tr>\n",
              "    <tr>\n",
              "      <th>514</th>\n",
              "      <td>sg:00579e722c8e48178ef0c66a7c91f92c</td>\n",
              "      <td>2020-02-20</td>\n",
              "      <td>100</td>\n",
              "      <td>997286.0</td>\n",
              "      <td>99999.0</td>\n",
              "      <td>37.1</td>\n",
              "      <td>24.0</td>\n",
              "      <td>NaN</td>\n",
              "      <td>0.0</td>\n",
              "      <td>1030.0</td>\n",
              "      <td>24.0</td>\n",
              "      <td>NaN</td>\n",
              "      <td>0.0</td>\n",
              "      <td>NaN</td>\n",
              "      <td>0.0</td>\n",
              "      <td>0.0</td>\n",
              "      <td>24.0</td>\n",
              "      <td>NaN</td>\n",
              "      <td>NaN</td>\n",
              "      <td>45.3</td>\n",
              "      <td>*</td>\n",
              "      <td>31.6</td>\n",
              "      <td>*</td>\n",
              "      <td>0.0</td>\n",
              "      <td>I</td>\n",
              "      <td>NaN</td>\n",
              "      <td>0.0</td>\n",
              "    </tr>\n",
              "    <tr>\n",
              "      <th>515</th>\n",
              "      <td>sg:00579e722c8e48178ef0c66a7c91f92c</td>\n",
              "      <td>2020-02-21</td>\n",
              "      <td>107</td>\n",
              "      <td>997286.0</td>\n",
              "      <td>99999.0</td>\n",
              "      <td>29.7</td>\n",
              "      <td>24.0</td>\n",
              "      <td>NaN</td>\n",
              "      <td>0.0</td>\n",
              "      <td>1031.6</td>\n",
              "      <td>24.0</td>\n",
              "      <td>NaN</td>\n",
              "      <td>0.0</td>\n",
              "      <td>NaN</td>\n",
              "      <td>0.0</td>\n",
              "      <td>0.0</td>\n",
              "      <td>24.0</td>\n",
              "      <td>NaN</td>\n",
              "      <td>NaN</td>\n",
              "      <td>36.1</td>\n",
              "      <td>*</td>\n",
              "      <td>23.0</td>\n",
              "      <td>*</td>\n",
              "      <td>0.0</td>\n",
              "      <td>I</td>\n",
              "      <td>NaN</td>\n",
              "      <td>0.0</td>\n",
              "    </tr>\n",
              "    <tr>\n",
              "      <th>516</th>\n",
              "      <td>sg:00579e722c8e48178ef0c66a7c91f92c</td>\n",
              "      <td>2020-02-22</td>\n",
              "      <td>63</td>\n",
              "      <td>997286.0</td>\n",
              "      <td>99999.0</td>\n",
              "      <td>37.1</td>\n",
              "      <td>24.0</td>\n",
              "      <td>NaN</td>\n",
              "      <td>0.0</td>\n",
              "      <td>1026.9</td>\n",
              "      <td>24.0</td>\n",
              "      <td>NaN</td>\n",
              "      <td>0.0</td>\n",
              "      <td>NaN</td>\n",
              "      <td>0.0</td>\n",
              "      <td>0.0</td>\n",
              "      <td>24.0</td>\n",
              "      <td>NaN</td>\n",
              "      <td>NaN</td>\n",
              "      <td>51.3</td>\n",
              "      <td>*</td>\n",
              "      <td>28.4</td>\n",
              "      <td>*</td>\n",
              "      <td>0.0</td>\n",
              "      <td>I</td>\n",
              "      <td>NaN</td>\n",
              "      <td>0.0</td>\n",
              "    </tr>\n",
              "    <tr>\n",
              "      <th>517</th>\n",
              "      <td>sg:00579e722c8e48178ef0c66a7c91f92c</td>\n",
              "      <td>2020-02-23</td>\n",
              "      <td>66</td>\n",
              "      <td>997286.0</td>\n",
              "      <td>99999.0</td>\n",
              "      <td>43.3</td>\n",
              "      <td>24.0</td>\n",
              "      <td>NaN</td>\n",
              "      <td>0.0</td>\n",
              "      <td>1022.8</td>\n",
              "      <td>24.0</td>\n",
              "      <td>NaN</td>\n",
              "      <td>0.0</td>\n",
              "      <td>NaN</td>\n",
              "      <td>0.0</td>\n",
              "      <td>0.0</td>\n",
              "      <td>24.0</td>\n",
              "      <td>NaN</td>\n",
              "      <td>NaN</td>\n",
              "      <td>55.9</td>\n",
              "      <td>*</td>\n",
              "      <td>31.1</td>\n",
              "      <td>*</td>\n",
              "      <td>0.0</td>\n",
              "      <td>I</td>\n",
              "      <td>NaN</td>\n",
              "      <td>0.0</td>\n",
              "    </tr>\n",
              "  </tbody>\n",
              "</table>\n",
              "<p>518 rows × 27 columns</p>\n",
              "</div>"
            ],
            "text/plain": [
              "                      safegraph_place_id        date  ...  sndp  frshtt\n",
              "0    sg:00579e722c8e48178ef0c66a7c91f92c  2020-03-02  ...   NaN     0.0\n",
              "1    sg:00579e722c8e48178ef0c66a7c91f92c  2020-03-03  ...   NaN     0.0\n",
              "2    sg:00579e722c8e48178ef0c66a7c91f92c  2020-03-04  ...   NaN     0.0\n",
              "3    sg:00579e722c8e48178ef0c66a7c91f92c  2020-03-05  ...   NaN     0.0\n",
              "4    sg:00579e722c8e48178ef0c66a7c91f92c  2020-03-06  ...   NaN     0.0\n",
              "..                                   ...         ...  ...   ...     ...\n",
              "513  sg:00579e722c8e48178ef0c66a7c91f92c  2020-02-19  ...   NaN     0.0\n",
              "514  sg:00579e722c8e48178ef0c66a7c91f92c  2020-02-20  ...   NaN     0.0\n",
              "515  sg:00579e722c8e48178ef0c66a7c91f92c  2020-02-21  ...   NaN     0.0\n",
              "516  sg:00579e722c8e48178ef0c66a7c91f92c  2020-02-22  ...   NaN     0.0\n",
              "517  sg:00579e722c8e48178ef0c66a7c91f92c  2020-02-23  ...   NaN     0.0\n",
              "\n",
              "[518 rows x 27 columns]"
            ]
          },
          "metadata": {},
          "execution_count": 4
        }
      ]
    },
    {
      "cell_type": "code",
      "metadata": {
        "id": "c7enE1M-JBzd"
      },
      "source": [
        "# convert the date column to pandas datetime using pd.to_datetime(...)\n",
        "# if you've fogotten, look through notes from module 3\n",
        "temple.date= pd.to_datetime(temple.date)\n"
      ],
      "execution_count": 5,
      "outputs": []
    },
    {
      "cell_type": "code",
      "metadata": {
        "id": "tqUZKoCvKi3M"
      },
      "source": [
        "# create a new column called 'dow' (for day of week) using temple.date.dt.weekday\n",
        "# note that Monday through Sunday corresponds to 0 through 6\n",
        "\n",
        "temple['dow'] = temple.date.dt.weekday\n",
        "\n"
      ],
      "execution_count": 6,
      "outputs": []
    },
    {
      "cell_type": "code",
      "metadata": {
        "id": "lV4btKbsJT_r"
      },
      "source": [
        "# select only the rows where the date lies between 2019/8/26 and 2019/11/24 (inclusive) \n",
        "# and correspond to a regular school date (e.g. are M-F)\n",
        "# call the reuslting dataframe F2019\n",
        "# remember you can select rows using df.loc[conditions]\n",
        "# If you forgot how to do this, look at the notes and in class exercise from module 3\n",
        "F2019 = temple.loc[temple.date >= '2019/8/26'] \n",
        "F2019 = temple.loc[temple.date <= '2019/11/24']\n",
        "\n",
        "cond = (temple.date > '2019/8/26') & (temple.date < '2019/11/24') & (temple.dow <=4)\n",
        "F2019 = temple.loc[cond]\n",
        "\n",
        "# must add M-F\n",
        "#dow does not show up on cond"
      ],
      "execution_count": 7,
      "outputs": []
    },
    {
      "cell_type": "code",
      "metadata": {
        "colab": {
          "base_uri": "https://localhost:8080/",
          "height": 609
        },
        "id": "cokHi2PLwFWZ",
        "outputId": "f61a31a0-afa5-42c5-a66e-6966037dcd69"
      },
      "source": [
        "F2019"
      ],
      "execution_count": 8,
      "outputs": [
        {
          "output_type": "execute_result",
          "data": {
            "text/html": [
              "<div>\n",
              "<style scoped>\n",
              "    .dataframe tbody tr th:only-of-type {\n",
              "        vertical-align: middle;\n",
              "    }\n",
              "\n",
              "    .dataframe tbody tr th {\n",
              "        vertical-align: top;\n",
              "    }\n",
              "\n",
              "    .dataframe thead th {\n",
              "        text-align: right;\n",
              "    }\n",
              "</style>\n",
              "<table border=\"1\" class=\"dataframe\">\n",
              "  <thead>\n",
              "    <tr style=\"text-align: right;\">\n",
              "      <th></th>\n",
              "      <th>safegraph_place_id</th>\n",
              "      <th>date</th>\n",
              "      <th>visits</th>\n",
              "      <th>stn</th>\n",
              "      <th>wban</th>\n",
              "      <th>temp</th>\n",
              "      <th>count_temp</th>\n",
              "      <th>dewp</th>\n",
              "      <th>count_dewp</th>\n",
              "      <th>slp</th>\n",
              "      <th>count_slp</th>\n",
              "      <th>stp</th>\n",
              "      <th>count_stp</th>\n",
              "      <th>visib</th>\n",
              "      <th>count_visib</th>\n",
              "      <th>wdsp</th>\n",
              "      <th>count_wdsp</th>\n",
              "      <th>mxspd</th>\n",
              "      <th>gust</th>\n",
              "      <th>maxtemp</th>\n",
              "      <th>flag_max</th>\n",
              "      <th>mintemp</th>\n",
              "      <th>flag_min</th>\n",
              "      <th>prcp</th>\n",
              "      <th>flag_prcp</th>\n",
              "      <th>sndp</th>\n",
              "      <th>frshtt</th>\n",
              "      <th>dow</th>\n",
              "    </tr>\n",
              "  </thead>\n",
              "  <tbody>\n",
              "    <tr>\n",
              "      <th>7</th>\n",
              "      <td>sg:00579e722c8e48178ef0c66a7c91f92c</td>\n",
              "      <td>2019-09-23</td>\n",
              "      <td>169</td>\n",
              "      <td>997286.0</td>\n",
              "      <td>99999.0</td>\n",
              "      <td>80.2</td>\n",
              "      <td>23.0</td>\n",
              "      <td>NaN</td>\n",
              "      <td>0.0</td>\n",
              "      <td>1012.9</td>\n",
              "      <td>23.0</td>\n",
              "      <td>NaN</td>\n",
              "      <td>0.0</td>\n",
              "      <td>NaN</td>\n",
              "      <td>0.0</td>\n",
              "      <td>0.0</td>\n",
              "      <td>23.0</td>\n",
              "      <td>NaN</td>\n",
              "      <td>NaN</td>\n",
              "      <td>90.7</td>\n",
              "      <td>*</td>\n",
              "      <td>70.9</td>\n",
              "      <td>*</td>\n",
              "      <td>0.0</td>\n",
              "      <td>I</td>\n",
              "      <td>NaN</td>\n",
              "      <td>0.0</td>\n",
              "      <td>0</td>\n",
              "    </tr>\n",
              "    <tr>\n",
              "      <th>8</th>\n",
              "      <td>sg:00579e722c8e48178ef0c66a7c91f92c</td>\n",
              "      <td>2019-09-24</td>\n",
              "      <td>182</td>\n",
              "      <td>997286.0</td>\n",
              "      <td>99999.0</td>\n",
              "      <td>75.3</td>\n",
              "      <td>24.0</td>\n",
              "      <td>NaN</td>\n",
              "      <td>0.0</td>\n",
              "      <td>1009.2</td>\n",
              "      <td>24.0</td>\n",
              "      <td>NaN</td>\n",
              "      <td>0.0</td>\n",
              "      <td>NaN</td>\n",
              "      <td>0.0</td>\n",
              "      <td>0.0</td>\n",
              "      <td>24.0</td>\n",
              "      <td>NaN</td>\n",
              "      <td>NaN</td>\n",
              "      <td>83.3</td>\n",
              "      <td>*</td>\n",
              "      <td>66.7</td>\n",
              "      <td>*</td>\n",
              "      <td>0.0</td>\n",
              "      <td>I</td>\n",
              "      <td>NaN</td>\n",
              "      <td>0.0</td>\n",
              "      <td>1</td>\n",
              "    </tr>\n",
              "    <tr>\n",
              "      <th>9</th>\n",
              "      <td>sg:00579e722c8e48178ef0c66a7c91f92c</td>\n",
              "      <td>2019-09-25</td>\n",
              "      <td>156</td>\n",
              "      <td>997286.0</td>\n",
              "      <td>99999.0</td>\n",
              "      <td>72.3</td>\n",
              "      <td>24.0</td>\n",
              "      <td>NaN</td>\n",
              "      <td>0.0</td>\n",
              "      <td>1011.7</td>\n",
              "      <td>24.0</td>\n",
              "      <td>NaN</td>\n",
              "      <td>0.0</td>\n",
              "      <td>NaN</td>\n",
              "      <td>0.0</td>\n",
              "      <td>0.0</td>\n",
              "      <td>24.0</td>\n",
              "      <td>NaN</td>\n",
              "      <td>NaN</td>\n",
              "      <td>81.0</td>\n",
              "      <td>*</td>\n",
              "      <td>61.7</td>\n",
              "      <td>*</td>\n",
              "      <td>0.0</td>\n",
              "      <td>I</td>\n",
              "      <td>NaN</td>\n",
              "      <td>0.0</td>\n",
              "      <td>2</td>\n",
              "    </tr>\n",
              "    <tr>\n",
              "      <th>10</th>\n",
              "      <td>sg:00579e722c8e48178ef0c66a7c91f92c</td>\n",
              "      <td>2019-09-26</td>\n",
              "      <td>168</td>\n",
              "      <td>997286.0</td>\n",
              "      <td>99999.0</td>\n",
              "      <td>72.1</td>\n",
              "      <td>24.0</td>\n",
              "      <td>NaN</td>\n",
              "      <td>0.0</td>\n",
              "      <td>1009.5</td>\n",
              "      <td>24.0</td>\n",
              "      <td>NaN</td>\n",
              "      <td>0.0</td>\n",
              "      <td>NaN</td>\n",
              "      <td>0.0</td>\n",
              "      <td>0.0</td>\n",
              "      <td>24.0</td>\n",
              "      <td>NaN</td>\n",
              "      <td>NaN</td>\n",
              "      <td>87.3</td>\n",
              "      <td>*</td>\n",
              "      <td>63.5</td>\n",
              "      <td>*</td>\n",
              "      <td>0.0</td>\n",
              "      <td>I</td>\n",
              "      <td>NaN</td>\n",
              "      <td>0.0</td>\n",
              "      <td>3</td>\n",
              "    </tr>\n",
              "    <tr>\n",
              "      <th>11</th>\n",
              "      <td>sg:00579e722c8e48178ef0c66a7c91f92c</td>\n",
              "      <td>2019-09-27</td>\n",
              "      <td>165</td>\n",
              "      <td>997286.0</td>\n",
              "      <td>99999.0</td>\n",
              "      <td>70.3</td>\n",
              "      <td>22.0</td>\n",
              "      <td>NaN</td>\n",
              "      <td>0.0</td>\n",
              "      <td>1017.1</td>\n",
              "      <td>22.0</td>\n",
              "      <td>NaN</td>\n",
              "      <td>0.0</td>\n",
              "      <td>NaN</td>\n",
              "      <td>0.0</td>\n",
              "      <td>0.0</td>\n",
              "      <td>22.0</td>\n",
              "      <td>NaN</td>\n",
              "      <td>NaN</td>\n",
              "      <td>79.3</td>\n",
              "      <td>*</td>\n",
              "      <td>63.7</td>\n",
              "      <td>*</td>\n",
              "      <td>0.0</td>\n",
              "      <td>I</td>\n",
              "      <td>NaN</td>\n",
              "      <td>0.0</td>\n",
              "      <td>4</td>\n",
              "    </tr>\n",
              "    <tr>\n",
              "      <th>...</th>\n",
              "      <td>...</td>\n",
              "      <td>...</td>\n",
              "      <td>...</td>\n",
              "      <td>...</td>\n",
              "      <td>...</td>\n",
              "      <td>...</td>\n",
              "      <td>...</td>\n",
              "      <td>...</td>\n",
              "      <td>...</td>\n",
              "      <td>...</td>\n",
              "      <td>...</td>\n",
              "      <td>...</td>\n",
              "      <td>...</td>\n",
              "      <td>...</td>\n",
              "      <td>...</td>\n",
              "      <td>...</td>\n",
              "      <td>...</td>\n",
              "      <td>...</td>\n",
              "      <td>...</td>\n",
              "      <td>...</td>\n",
              "      <td>...</td>\n",
              "      <td>...</td>\n",
              "      <td>...</td>\n",
              "      <td>...</td>\n",
              "      <td>...</td>\n",
              "      <td>...</td>\n",
              "      <td>...</td>\n",
              "      <td>...</td>\n",
              "    </tr>\n",
              "    <tr>\n",
              "      <th>504</th>\n",
              "      <td>sg:00579e722c8e48178ef0c66a7c91f92c</td>\n",
              "      <td>2019-11-11</td>\n",
              "      <td>117</td>\n",
              "      <td>997286.0</td>\n",
              "      <td>99999.0</td>\n",
              "      <td>51.7</td>\n",
              "      <td>23.0</td>\n",
              "      <td>NaN</td>\n",
              "      <td>0.0</td>\n",
              "      <td>1016.7</td>\n",
              "      <td>23.0</td>\n",
              "      <td>NaN</td>\n",
              "      <td>0.0</td>\n",
              "      <td>NaN</td>\n",
              "      <td>0.0</td>\n",
              "      <td>0.0</td>\n",
              "      <td>23.0</td>\n",
              "      <td>NaN</td>\n",
              "      <td>NaN</td>\n",
              "      <td>63.5</td>\n",
              "      <td>*</td>\n",
              "      <td>42.4</td>\n",
              "      <td>*</td>\n",
              "      <td>0.0</td>\n",
              "      <td>I</td>\n",
              "      <td>NaN</td>\n",
              "      <td>0.0</td>\n",
              "      <td>0</td>\n",
              "    </tr>\n",
              "    <tr>\n",
              "      <th>505</th>\n",
              "      <td>sg:00579e722c8e48178ef0c66a7c91f92c</td>\n",
              "      <td>2019-11-12</td>\n",
              "      <td>106</td>\n",
              "      <td>997286.0</td>\n",
              "      <td>99999.0</td>\n",
              "      <td>47.8</td>\n",
              "      <td>24.0</td>\n",
              "      <td>NaN</td>\n",
              "      <td>0.0</td>\n",
              "      <td>1010.9</td>\n",
              "      <td>24.0</td>\n",
              "      <td>NaN</td>\n",
              "      <td>0.0</td>\n",
              "      <td>NaN</td>\n",
              "      <td>0.0</td>\n",
              "      <td>0.0</td>\n",
              "      <td>24.0</td>\n",
              "      <td>NaN</td>\n",
              "      <td>NaN</td>\n",
              "      <td>57.9</td>\n",
              "      <td>*</td>\n",
              "      <td>34.5</td>\n",
              "      <td>*</td>\n",
              "      <td>0.0</td>\n",
              "      <td>I</td>\n",
              "      <td>NaN</td>\n",
              "      <td>0.0</td>\n",
              "      <td>1</td>\n",
              "    </tr>\n",
              "    <tr>\n",
              "      <th>506</th>\n",
              "      <td>sg:00579e722c8e48178ef0c66a7c91f92c</td>\n",
              "      <td>2019-11-13</td>\n",
              "      <td>106</td>\n",
              "      <td>997286.0</td>\n",
              "      <td>99999.0</td>\n",
              "      <td>30.5</td>\n",
              "      <td>23.0</td>\n",
              "      <td>NaN</td>\n",
              "      <td>0.0</td>\n",
              "      <td>1025.9</td>\n",
              "      <td>23.0</td>\n",
              "      <td>NaN</td>\n",
              "      <td>0.0</td>\n",
              "      <td>NaN</td>\n",
              "      <td>0.0</td>\n",
              "      <td>0.0</td>\n",
              "      <td>23.0</td>\n",
              "      <td>NaN</td>\n",
              "      <td>NaN</td>\n",
              "      <td>35.6</td>\n",
              "      <td>*</td>\n",
              "      <td>24.8</td>\n",
              "      <td>*</td>\n",
              "      <td>0.0</td>\n",
              "      <td>I</td>\n",
              "      <td>NaN</td>\n",
              "      <td>0.0</td>\n",
              "      <td>2</td>\n",
              "    </tr>\n",
              "    <tr>\n",
              "      <th>507</th>\n",
              "      <td>sg:00579e722c8e48178ef0c66a7c91f92c</td>\n",
              "      <td>2019-11-14</td>\n",
              "      <td>107</td>\n",
              "      <td>997286.0</td>\n",
              "      <td>99999.0</td>\n",
              "      <td>35.6</td>\n",
              "      <td>22.0</td>\n",
              "      <td>NaN</td>\n",
              "      <td>0.0</td>\n",
              "      <td>1029.5</td>\n",
              "      <td>22.0</td>\n",
              "      <td>NaN</td>\n",
              "      <td>0.0</td>\n",
              "      <td>NaN</td>\n",
              "      <td>0.0</td>\n",
              "      <td>0.0</td>\n",
              "      <td>22.0</td>\n",
              "      <td>NaN</td>\n",
              "      <td>NaN</td>\n",
              "      <td>45.9</td>\n",
              "      <td>*</td>\n",
              "      <td>28.9</td>\n",
              "      <td>*</td>\n",
              "      <td>0.0</td>\n",
              "      <td>I</td>\n",
              "      <td>NaN</td>\n",
              "      <td>0.0</td>\n",
              "      <td>3</td>\n",
              "    </tr>\n",
              "    <tr>\n",
              "      <th>508</th>\n",
              "      <td>sg:00579e722c8e48178ef0c66a7c91f92c</td>\n",
              "      <td>2019-11-15</td>\n",
              "      <td>114</td>\n",
              "      <td>997286.0</td>\n",
              "      <td>99999.0</td>\n",
              "      <td>42.8</td>\n",
              "      <td>24.0</td>\n",
              "      <td>NaN</td>\n",
              "      <td>0.0</td>\n",
              "      <td>1024.2</td>\n",
              "      <td>24.0</td>\n",
              "      <td>NaN</td>\n",
              "      <td>0.0</td>\n",
              "      <td>NaN</td>\n",
              "      <td>0.0</td>\n",
              "      <td>0.0</td>\n",
              "      <td>24.0</td>\n",
              "      <td>NaN</td>\n",
              "      <td>NaN</td>\n",
              "      <td>53.4</td>\n",
              "      <td>*</td>\n",
              "      <td>35.4</td>\n",
              "      <td>*</td>\n",
              "      <td>0.0</td>\n",
              "      <td>I</td>\n",
              "      <td>NaN</td>\n",
              "      <td>0.0</td>\n",
              "      <td>4</td>\n",
              "    </tr>\n",
              "  </tbody>\n",
              "</table>\n",
              "<p>64 rows × 28 columns</p>\n",
              "</div>"
            ],
            "text/plain": [
              "                      safegraph_place_id       date  visits  ...  sndp  frshtt  dow\n",
              "7    sg:00579e722c8e48178ef0c66a7c91f92c 2019-09-23     169  ...   NaN     0.0    0\n",
              "8    sg:00579e722c8e48178ef0c66a7c91f92c 2019-09-24     182  ...   NaN     0.0    1\n",
              "9    sg:00579e722c8e48178ef0c66a7c91f92c 2019-09-25     156  ...   NaN     0.0    2\n",
              "10   sg:00579e722c8e48178ef0c66a7c91f92c 2019-09-26     168  ...   NaN     0.0    3\n",
              "11   sg:00579e722c8e48178ef0c66a7c91f92c 2019-09-27     165  ...   NaN     0.0    4\n",
              "..                                   ...        ...     ...  ...   ...     ...  ...\n",
              "504  sg:00579e722c8e48178ef0c66a7c91f92c 2019-11-11     117  ...   NaN     0.0    0\n",
              "505  sg:00579e722c8e48178ef0c66a7c91f92c 2019-11-12     106  ...   NaN     0.0    1\n",
              "506  sg:00579e722c8e48178ef0c66a7c91f92c 2019-11-13     106  ...   NaN     0.0    2\n",
              "507  sg:00579e722c8e48178ef0c66a7c91f92c 2019-11-14     107  ...   NaN     0.0    3\n",
              "508  sg:00579e722c8e48178ef0c66a7c91f92c 2019-11-15     114  ...   NaN     0.0    4\n",
              "\n",
              "[64 rows x 28 columns]"
            ]
          },
          "metadata": {},
          "execution_count": 8
        }
      ]
    },
    {
      "cell_type": "code",
      "metadata": {
        "id": "4vxvJXQ8KDNt",
        "colab": {
          "base_uri": "https://localhost:8080/"
        },
        "outputId": "96510e2e-2e8e-411d-f143-293845827c3b"
      },
      "source": [
        "# find the maximum date of F2019, make sure that it is less than or equal to 2019/11/24\n",
        "F2019['date'].max()\n"
      ],
      "execution_count": 9,
      "outputs": [
        {
          "output_type": "execute_result",
          "data": {
            "text/plain": [
              "Timestamp('2019-11-22 00:00:00')"
            ]
          },
          "metadata": {},
          "execution_count": 9
        }
      ]
    },
    {
      "cell_type": "code",
      "metadata": {
        "id": "SRdjXtSGKMpz",
        "colab": {
          "base_uri": "https://localhost:8080/"
        },
        "outputId": "0ea5aee1-75f8-4369-8abe-52d31eebc296"
      },
      "source": [
        "# find the minimum date of F2019, make sure that it is greater than or equal to 2019/8/26\n",
        "F2019['date'].min()\n"
      ],
      "execution_count": 10,
      "outputs": [
        {
          "output_type": "execute_result",
          "data": {
            "text/plain": [
              "Timestamp('2019-08-27 00:00:00')"
            ]
          },
          "metadata": {},
          "execution_count": 10
        }
      ]
    },
    {
      "cell_type": "code",
      "metadata": {
        "id": "3woD6jmTKhXE",
        "colab": {
          "base_uri": "https://localhost:8080/"
        },
        "outputId": "6ce683b8-0295-4c29-a01e-001723a38292"
      },
      "source": [
        "# display the unique values of dow in F2019 (use the .unique() method on dow column)\n",
        "# make sure there are only M-F (e.g. 0-4)\n",
        "\n",
        "F2019['dow'].unique()"
      ],
      "execution_count": 11,
      "outputs": [
        {
          "output_type": "execute_result",
          "data": {
            "text/plain": [
              "array([0, 1, 2, 3, 4])"
            ]
          },
          "metadata": {},
          "execution_count": 11
        }
      ]
    },
    {
      "cell_type": "code",
      "metadata": {
        "id": "vWMllbS92PhR",
        "colab": {
          "base_uri": "https://localhost:8080/"
        },
        "outputId": "b4ad03f5-2820-4751-835a-70f3d5187fa1"
      },
      "source": [
        "# compute the mean visits\n",
        "\n",
        "F2019['visits'].mean()"
      ],
      "execution_count": 12,
      "outputs": [
        {
          "output_type": "execute_result",
          "data": {
            "text/plain": [
              "137.296875"
            ]
          },
          "metadata": {},
          "execution_count": 12
        }
      ]
    },
    {
      "cell_type": "code",
      "metadata": {
        "id": "gNv3QYQlIIWi",
        "colab": {
          "base_uri": "https://localhost:8080/"
        },
        "outputId": "ff79e7f0-4417-45e6-b087-7184b9992bcf"
      },
      "source": [
        "# look up the total number of temple students in 2019 and compute the percentage the above average represents\n",
        "\n",
        "print(137.296875/ 38794)\n"
      ],
      "execution_count": 13,
      "outputs": [
        {
          "output_type": "stream",
          "name": "stdout",
          "text": [
            "0.003539126540186627\n"
          ]
        }
      ]
    },
    {
      "cell_type": "markdown",
      "metadata": {
        "id": "DngEeFYSH9g7"
      },
      "source": [
        "**Edit this cell**\n",
        "The average number of visitors in the sample is **__137.296875__**, this is approximately **_.00354_**\\% of the Temple student population."
      ]
    },
    {
      "cell_type": "markdown",
      "metadata": {
        "id": "oaHre7HHH9lW"
      },
      "source": [
        "**Edit this cell**\n",
        "\n",
        "Before running a regression to document the relationship between temperature and the sampled visitors, answer the following.\n",
        "\n",
        "The logical dependent variable should be **__visits__**, the logical indepdent (aka explanatory) variable should be **____temperature___** because **____temperature____** should cause changes in **__visits__** and not the other way around.\n",
        "\n",
        "\n",
        "Consequently, the following regression equation describes the relationship between temperature and foot traffic (change the $x$ and $y$ to the approriate variable names):\n",
        "\n",
        "$$\n",
        "y = \\beta_0 +\\beta_1x + e \n",
        "$$\n"
      ]
    },
    {
      "cell_type": "code",
      "metadata": {
        "id": "X-y0o9jRIZBt",
        "colab": {
          "base_uri": "https://localhost:8080/",
          "height": 130
        },
        "outputId": "c7aa53a8-7433-414e-cc8e-0b30d77c2a15"
      },
      "source": [
        "# run the above regression using statsmodels\n",
        "# call the resulting regression results object the variable \"res\"\n",
        "\n",
        "formula = smf.ols('visits ~ temperature', data=)\n"
      ],
      "execution_count": 14,
      "outputs": [
        {
          "output_type": "error",
          "ename": "SyntaxError",
          "evalue": "ignored",
          "traceback": [
            "\u001b[0;36m  File \u001b[0;32m\"<ipython-input-14-75456bd323eb>\"\u001b[0;36m, line \u001b[0;32m4\u001b[0m\n\u001b[0;31m    formula = smf.ols('visits ~ temperature', data=)\u001b[0m\n\u001b[0m                                                   ^\u001b[0m\n\u001b[0;31mSyntaxError\u001b[0m\u001b[0;31m:\u001b[0m invalid syntax\n"
          ]
        }
      ]
    },
    {
      "cell_type": "code",
      "metadata": {
        "id": "zB0ui4NIIZE8",
        "colab": {
          "base_uri": "https://localhost:8080/",
          "height": 181
        },
        "outputId": "712031b7-634d-48d6-dd08-043e7c270b2f"
      },
      "source": [
        "# print the regression summary table (e.g. print(res.summary()))\n",
        "print(res.summary())\n"
      ],
      "execution_count": 15,
      "outputs": [
        {
          "output_type": "error",
          "ename": "NameError",
          "evalue": "ignored",
          "traceback": [
            "\u001b[0;31m---------------------------------------------------------------------------\u001b[0m",
            "\u001b[0;31mNameError\u001b[0m                                 Traceback (most recent call last)",
            "\u001b[0;32m<ipython-input-15-d8a690eb7458>\u001b[0m in \u001b[0;36m<module>\u001b[0;34m()\u001b[0m\n\u001b[1;32m      1\u001b[0m \u001b[0;31m# print the regression summary table (e.g. print(res.summary()))\u001b[0m\u001b[0;34m\u001b[0m\u001b[0;34m\u001b[0m\u001b[0;34m\u001b[0m\u001b[0m\n\u001b[0;32m----> 2\u001b[0;31m \u001b[0mprint\u001b[0m\u001b[0;34m(\u001b[0m\u001b[0mres\u001b[0m\u001b[0;34m.\u001b[0m\u001b[0msummary\u001b[0m\u001b[0;34m(\u001b[0m\u001b[0;34m)\u001b[0m\u001b[0;34m)\u001b[0m\u001b[0;34m\u001b[0m\u001b[0;34m\u001b[0m\u001b[0m\n\u001b[0m",
            "\u001b[0;31mNameError\u001b[0m: name 'res' is not defined"
          ]
        }
      ]
    },
    {
      "cell_type": "markdown",
      "metadata": {
        "id": "FPJQfl1DM6Ym"
      },
      "source": [
        "**Edit this cell**\n",
        "\n",
        "The regression's R$^2$ is **___.002___**, this suggests that **___.2__**\\% of the variation in **___visits_____** is explained by **___temperature____**.\n",
        "\n",
        "The intercept ($\\beta_0$) is **___87.0039__**, this means that when **__temperature___** is 0 **degrees fahreinheit**, **___visits___** is on average **____87.0039__**. This is statistically **significant(choose one)**, meaning that it is different from **___temperature___** in the population.\n",
        "\n",
        "The coefficient ($\\beta_1$) for **___temperature___** is **____0.1281__**. This means that for every **___one___** increase in **____visitors_**, **___temperature_** **decreases (choose one)** by **___0.1281___**. This is statistically **significant(choose one)**, meaning that it is different from **____temperature___** in the population. In other words, we can reject the null hypothesis that there is no effect of temperature on campus foot traffic."
      ]
    },
    {
      "cell_type": "markdown",
      "metadata": {
        "id": "pfC8WyR1RP5X"
      },
      "source": [
        "# 2. Avocado price and demand (5 points) (multiple regression)\n",
        "\n",
        "For this exercise, use our familiar avocado dataset.\n",
        "\n",
        "For the following cities, run a multiple regression that investigates the relationship between demand and price while simultaneously accounting for the effect or regions and avocado types.\n",
        "\n",
        "Use only the conventional avocado data from the following cities:\n",
        "\n",
        "```\n",
        "cities = ['Philadelphia', 'NewYork', 'BaltimoreWashington', 'Boston', 'Chicago', 'SanFrancisco']\n",
        "```\n"
      ]
    },
    {
      "cell_type": "code",
      "metadata": {
        "id": "bsMuz0YMSHdc",
        "colab": {
          "base_uri": "https://localhost:8080/",
          "height": 306
        },
        "outputId": "e1de2a6b-08c5-4cab-d2b5-d2822638f73b"
      },
      "source": [
        "# read in the dataset, call it avocado\n",
        "avocado = pd.read_csv(fpath + 'avocado.csv', index_col = 0)\n",
        "avocado.head()"
      ],
      "execution_count": 17,
      "outputs": [
        {
          "output_type": "execute_result",
          "data": {
            "text/html": [
              "<div>\n",
              "<style scoped>\n",
              "    .dataframe tbody tr th:only-of-type {\n",
              "        vertical-align: middle;\n",
              "    }\n",
              "\n",
              "    .dataframe tbody tr th {\n",
              "        vertical-align: top;\n",
              "    }\n",
              "\n",
              "    .dataframe thead th {\n",
              "        text-align: right;\n",
              "    }\n",
              "</style>\n",
              "<table border=\"1\" class=\"dataframe\">\n",
              "  <thead>\n",
              "    <tr style=\"text-align: right;\">\n",
              "      <th></th>\n",
              "      <th>Date</th>\n",
              "      <th>AveragePrice</th>\n",
              "      <th>Total Volume</th>\n",
              "      <th>4046</th>\n",
              "      <th>4225</th>\n",
              "      <th>4770</th>\n",
              "      <th>Total Bags</th>\n",
              "      <th>Small Bags</th>\n",
              "      <th>Large Bags</th>\n",
              "      <th>XLarge Bags</th>\n",
              "      <th>type</th>\n",
              "      <th>year</th>\n",
              "      <th>region</th>\n",
              "    </tr>\n",
              "  </thead>\n",
              "  <tbody>\n",
              "    <tr>\n",
              "      <th>0</th>\n",
              "      <td>2015-12-27</td>\n",
              "      <td>1.33</td>\n",
              "      <td>64236.62</td>\n",
              "      <td>1036.74</td>\n",
              "      <td>54454.85</td>\n",
              "      <td>48.16</td>\n",
              "      <td>8696.87</td>\n",
              "      <td>8603.62</td>\n",
              "      <td>93.25</td>\n",
              "      <td>0.0</td>\n",
              "      <td>conventional</td>\n",
              "      <td>2015</td>\n",
              "      <td>Albany</td>\n",
              "    </tr>\n",
              "    <tr>\n",
              "      <th>1</th>\n",
              "      <td>2015-12-20</td>\n",
              "      <td>1.35</td>\n",
              "      <td>54876.98</td>\n",
              "      <td>674.28</td>\n",
              "      <td>44638.81</td>\n",
              "      <td>58.33</td>\n",
              "      <td>9505.56</td>\n",
              "      <td>9408.07</td>\n",
              "      <td>97.49</td>\n",
              "      <td>0.0</td>\n",
              "      <td>conventional</td>\n",
              "      <td>2015</td>\n",
              "      <td>Albany</td>\n",
              "    </tr>\n",
              "    <tr>\n",
              "      <th>2</th>\n",
              "      <td>2015-12-13</td>\n",
              "      <td>0.93</td>\n",
              "      <td>118220.22</td>\n",
              "      <td>794.70</td>\n",
              "      <td>109149.67</td>\n",
              "      <td>130.50</td>\n",
              "      <td>8145.35</td>\n",
              "      <td>8042.21</td>\n",
              "      <td>103.14</td>\n",
              "      <td>0.0</td>\n",
              "      <td>conventional</td>\n",
              "      <td>2015</td>\n",
              "      <td>Albany</td>\n",
              "    </tr>\n",
              "    <tr>\n",
              "      <th>3</th>\n",
              "      <td>2015-12-06</td>\n",
              "      <td>1.08</td>\n",
              "      <td>78992.15</td>\n",
              "      <td>1132.00</td>\n",
              "      <td>71976.41</td>\n",
              "      <td>72.58</td>\n",
              "      <td>5811.16</td>\n",
              "      <td>5677.40</td>\n",
              "      <td>133.76</td>\n",
              "      <td>0.0</td>\n",
              "      <td>conventional</td>\n",
              "      <td>2015</td>\n",
              "      <td>Albany</td>\n",
              "    </tr>\n",
              "    <tr>\n",
              "      <th>4</th>\n",
              "      <td>2015-11-29</td>\n",
              "      <td>1.28</td>\n",
              "      <td>51039.60</td>\n",
              "      <td>941.48</td>\n",
              "      <td>43838.39</td>\n",
              "      <td>75.78</td>\n",
              "      <td>6183.95</td>\n",
              "      <td>5986.26</td>\n",
              "      <td>197.69</td>\n",
              "      <td>0.0</td>\n",
              "      <td>conventional</td>\n",
              "      <td>2015</td>\n",
              "      <td>Albany</td>\n",
              "    </tr>\n",
              "  </tbody>\n",
              "</table>\n",
              "</div>"
            ],
            "text/plain": [
              "         Date  AveragePrice  Total Volume  ...          type  year  region\n",
              "0  2015-12-27          1.33      64236.62  ...  conventional  2015  Albany\n",
              "1  2015-12-20          1.35      54876.98  ...  conventional  2015  Albany\n",
              "2  2015-12-13          0.93     118220.22  ...  conventional  2015  Albany\n",
              "3  2015-12-06          1.08      78992.15  ...  conventional  2015  Albany\n",
              "4  2015-11-29          1.28      51039.60  ...  conventional  2015  Albany\n",
              "\n",
              "[5 rows x 13 columns]"
            ]
          },
          "metadata": {},
          "execution_count": 17
        }
      ]
    },
    {
      "cell_type": "code",
      "metadata": {
        "id": "jOJ8Rrl7Rifv"
      },
      "source": [
        "# select only the rows corresponding to the cities listed above\n",
        "# call the resulting dataframe avocado (replace avocado with the result of this subset selection)\n",
        "# use .isin(...) method (see notes from module 4 bar plot to find an example of this)\n",
        "# also make sure to select only the data for the conventional avocado type\n",
        "cities = ['Philadelphia', ' NewYork', 'BaltimoreWashington', 'Boston', 'Chicago', 'San Francisco']\n",
        "avocado = avocado[(avocado.region.isin(cities))&(avocado.type=='conventional')].copy()\n"
      ],
      "execution_count": 18,
      "outputs": []
    },
    {
      "cell_type": "code",
      "metadata": {
        "colab": {
          "base_uri": "https://localhost:8080/",
          "height": 626
        },
        "id": "C2wwrQCszsI4",
        "outputId": "a15a5a31-59ae-4a5d-cb6b-68ae1b4bfeb7"
      },
      "source": [
        "avocado"
      ],
      "execution_count": 19,
      "outputs": [
        {
          "output_type": "execute_result",
          "data": {
            "text/html": [
              "<div>\n",
              "<style scoped>\n",
              "    .dataframe tbody tr th:only-of-type {\n",
              "        vertical-align: middle;\n",
              "    }\n",
              "\n",
              "    .dataframe tbody tr th {\n",
              "        vertical-align: top;\n",
              "    }\n",
              "\n",
              "    .dataframe thead th {\n",
              "        text-align: right;\n",
              "    }\n",
              "</style>\n",
              "<table border=\"1\" class=\"dataframe\">\n",
              "  <thead>\n",
              "    <tr style=\"text-align: right;\">\n",
              "      <th></th>\n",
              "      <th>Date</th>\n",
              "      <th>AveragePrice</th>\n",
              "      <th>Total Volume</th>\n",
              "      <th>4046</th>\n",
              "      <th>4225</th>\n",
              "      <th>4770</th>\n",
              "      <th>Total Bags</th>\n",
              "      <th>Small Bags</th>\n",
              "      <th>Large Bags</th>\n",
              "      <th>XLarge Bags</th>\n",
              "      <th>type</th>\n",
              "      <th>year</th>\n",
              "      <th>region</th>\n",
              "    </tr>\n",
              "  </thead>\n",
              "  <tbody>\n",
              "    <tr>\n",
              "      <th>104</th>\n",
              "      <td>2015-12-27</td>\n",
              "      <td>1.17</td>\n",
              "      <td>596819.40</td>\n",
              "      <td>40450.49</td>\n",
              "      <td>394104.02</td>\n",
              "      <td>17353.79</td>\n",
              "      <td>144911.10</td>\n",
              "      <td>142543.88</td>\n",
              "      <td>2367.22</td>\n",
              "      <td>0.00</td>\n",
              "      <td>conventional</td>\n",
              "      <td>2015</td>\n",
              "      <td>BaltimoreWashington</td>\n",
              "    </tr>\n",
              "    <tr>\n",
              "      <th>105</th>\n",
              "      <td>2015-12-20</td>\n",
              "      <td>1.11</td>\n",
              "      <td>642682.40</td>\n",
              "      <td>44741.37</td>\n",
              "      <td>434590.82</td>\n",
              "      <td>19112.14</td>\n",
              "      <td>144238.07</td>\n",
              "      <td>141751.91</td>\n",
              "      <td>2486.16</td>\n",
              "      <td>0.00</td>\n",
              "      <td>conventional</td>\n",
              "      <td>2015</td>\n",
              "      <td>BaltimoreWashington</td>\n",
              "    </tr>\n",
              "    <tr>\n",
              "      <th>106</th>\n",
              "      <td>2015-12-13</td>\n",
              "      <td>1.15</td>\n",
              "      <td>619509.33</td>\n",
              "      <td>44400.26</td>\n",
              "      <td>399851.59</td>\n",
              "      <td>24291.20</td>\n",
              "      <td>150966.28</td>\n",
              "      <td>149070.40</td>\n",
              "      <td>1895.88</td>\n",
              "      <td>0.00</td>\n",
              "      <td>conventional</td>\n",
              "      <td>2015</td>\n",
              "      <td>BaltimoreWashington</td>\n",
              "    </tr>\n",
              "    <tr>\n",
              "      <th>107</th>\n",
              "      <td>2015-12-06</td>\n",
              "      <td>1.04</td>\n",
              "      <td>649141.25</td>\n",
              "      <td>51129.29</td>\n",
              "      <td>453586.50</td>\n",
              "      <td>25760.49</td>\n",
              "      <td>118664.97</td>\n",
              "      <td>117112.77</td>\n",
              "      <td>1552.20</td>\n",
              "      <td>0.00</td>\n",
              "      <td>conventional</td>\n",
              "      <td>2015</td>\n",
              "      <td>BaltimoreWashington</td>\n",
              "    </tr>\n",
              "    <tr>\n",
              "      <th>108</th>\n",
              "      <td>2015-11-29</td>\n",
              "      <td>1.16</td>\n",
              "      <td>545800.05</td>\n",
              "      <td>41028.15</td>\n",
              "      <td>379156.09</td>\n",
              "      <td>20147.53</td>\n",
              "      <td>105468.28</td>\n",
              "      <td>103615.95</td>\n",
              "      <td>1852.33</td>\n",
              "      <td>0.00</td>\n",
              "      <td>conventional</td>\n",
              "      <td>2015</td>\n",
              "      <td>BaltimoreWashington</td>\n",
              "    </tr>\n",
              "    <tr>\n",
              "      <th>...</th>\n",
              "      <td>...</td>\n",
              "      <td>...</td>\n",
              "      <td>...</td>\n",
              "      <td>...</td>\n",
              "      <td>...</td>\n",
              "      <td>...</td>\n",
              "      <td>...</td>\n",
              "      <td>...</td>\n",
              "      <td>...</td>\n",
              "      <td>...</td>\n",
              "      <td>...</td>\n",
              "      <td>...</td>\n",
              "      <td>...</td>\n",
              "    </tr>\n",
              "    <tr>\n",
              "      <th>8869</th>\n",
              "      <td>2018-02-04</td>\n",
              "      <td>1.12</td>\n",
              "      <td>819224.30</td>\n",
              "      <td>62044.22</td>\n",
              "      <td>467927.80</td>\n",
              "      <td>645.87</td>\n",
              "      <td>288606.41</td>\n",
              "      <td>254149.59</td>\n",
              "      <td>33540.82</td>\n",
              "      <td>916.00</td>\n",
              "      <td>conventional</td>\n",
              "      <td>2018</td>\n",
              "      <td>Philadelphia</td>\n",
              "    </tr>\n",
              "    <tr>\n",
              "      <th>8870</th>\n",
              "      <td>2018-01-28</td>\n",
              "      <td>1.23</td>\n",
              "      <td>537883.88</td>\n",
              "      <td>90381.50</td>\n",
              "      <td>256525.12</td>\n",
              "      <td>390.07</td>\n",
              "      <td>190587.19</td>\n",
              "      <td>183977.34</td>\n",
              "      <td>6289.85</td>\n",
              "      <td>320.00</td>\n",
              "      <td>conventional</td>\n",
              "      <td>2018</td>\n",
              "      <td>Philadelphia</td>\n",
              "    </tr>\n",
              "    <tr>\n",
              "      <th>8871</th>\n",
              "      <td>2018-01-21</td>\n",
              "      <td>1.32</td>\n",
              "      <td>527860.09</td>\n",
              "      <td>69862.88</td>\n",
              "      <td>303263.33</td>\n",
              "      <td>383.99</td>\n",
              "      <td>154349.89</td>\n",
              "      <td>144550.12</td>\n",
              "      <td>9797.01</td>\n",
              "      <td>2.76</td>\n",
              "      <td>conventional</td>\n",
              "      <td>2018</td>\n",
              "      <td>Philadelphia</td>\n",
              "    </tr>\n",
              "    <tr>\n",
              "      <th>8872</th>\n",
              "      <td>2018-01-14</td>\n",
              "      <td>1.50</td>\n",
              "      <td>419189.36</td>\n",
              "      <td>36351.30</td>\n",
              "      <td>232190.19</td>\n",
              "      <td>443.69</td>\n",
              "      <td>150204.18</td>\n",
              "      <td>126685.84</td>\n",
              "      <td>23512.81</td>\n",
              "      <td>5.53</td>\n",
              "      <td>conventional</td>\n",
              "      <td>2018</td>\n",
              "      <td>Philadelphia</td>\n",
              "    </tr>\n",
              "    <tr>\n",
              "      <th>8873</th>\n",
              "      <td>2018-01-07</td>\n",
              "      <td>1.56</td>\n",
              "      <td>408203.49</td>\n",
              "      <td>22384.92</td>\n",
              "      <td>239185.79</td>\n",
              "      <td>407.29</td>\n",
              "      <td>146225.49</td>\n",
              "      <td>114764.69</td>\n",
              "      <td>31460.80</td>\n",
              "      <td>0.00</td>\n",
              "      <td>conventional</td>\n",
              "      <td>2018</td>\n",
              "      <td>Philadelphia</td>\n",
              "    </tr>\n",
              "  </tbody>\n",
              "</table>\n",
              "<p>676 rows × 13 columns</p>\n",
              "</div>"
            ],
            "text/plain": [
              "            Date  AveragePrice  ...  year               region\n",
              "104   2015-12-27          1.17  ...  2015  BaltimoreWashington\n",
              "105   2015-12-20          1.11  ...  2015  BaltimoreWashington\n",
              "106   2015-12-13          1.15  ...  2015  BaltimoreWashington\n",
              "107   2015-12-06          1.04  ...  2015  BaltimoreWashington\n",
              "108   2015-11-29          1.16  ...  2015  BaltimoreWashington\n",
              "...          ...           ...  ...   ...                  ...\n",
              "8869  2018-02-04          1.12  ...  2018         Philadelphia\n",
              "8870  2018-01-28          1.23  ...  2018         Philadelphia\n",
              "8871  2018-01-21          1.32  ...  2018         Philadelphia\n",
              "8872  2018-01-14          1.50  ...  2018         Philadelphia\n",
              "8873  2018-01-07          1.56  ...  2018         Philadelphia\n",
              "\n",
              "[676 rows x 13 columns]"
            ]
          },
          "metadata": {},
          "execution_count": 19
        }
      ]
    },
    {
      "cell_type": "code",
      "metadata": {
        "id": "-Z-2TrTERiiW",
        "colab": {
          "base_uri": "https://localhost:8080/"
        },
        "outputId": "35a31373-d937-4bbf-f029-8d7d3fbfcc2f"
      },
      "source": [
        "# show the unique regions in the resulting dataframe \n",
        "# make sure we have only the ones we wanted to select from above\n",
        "\n",
        "avocado.region.unique()\n",
        "\n"
      ],
      "execution_count": 20,
      "outputs": [
        {
          "output_type": "execute_result",
          "data": {
            "text/plain": [
              "array(['BaltimoreWashington', 'Boston', 'Chicago', 'Philadelphia'],\n",
              "      dtype=object)"
            ]
          },
          "metadata": {},
          "execution_count": 20
        }
      ]
    },
    {
      "cell_type": "code",
      "metadata": {
        "id": "df-5xO72UfQI",
        "colab": {
          "base_uri": "https://localhost:8080/"
        },
        "outputId": "04918cd8-61a2-4c98-caba-c305c5a9a003"
      },
      "source": [
        "# show the unique types in the resulting dataframe \n",
        "# make sure we have only conventional\n",
        "\n",
        "avocado.type.unique()"
      ],
      "execution_count": 21,
      "outputs": [
        {
          "output_type": "execute_result",
          "data": {
            "text/plain": [
              "array(['conventional'], dtype=object)"
            ]
          },
          "metadata": {},
          "execution_count": 21
        }
      ]
    },
    {
      "cell_type": "markdown",
      "metadata": {
        "id": "bPfImhR6TnpB"
      },
      "source": [
        "**edit this cell**\n",
        "To model the demand of avocaldos, we want to run the following regression:\n",
        "\n",
        "$$\n",
        "Demand = \\beta_0 + \\beta_1 Price +\\beta_2 Boston +\\beta_3Chicago +\\beta_4NewYork + \\beta_5 Philadelphia + \\beta_6 SanFrancisco+e\n",
        "$$\n",
        "\n",
        "In this equation (given the cities we've selected for the dataset), $\\beta_0$ represents the average demand in **_total bags_** when price is \\$ $0$.\n",
        "\n"
      ]
    },
    {
      "cell_type": "code",
      "metadata": {
        "id": "R7tnkt4TWZwS"
      },
      "source": [
        "# since statsmodels expects variable names to not have spaces\n",
        "# use a list comprehension to replace  spaces with underscores\n",
        "# make sure you understand how/why this works:\n",
        "avocado.columns = [c.replace(' ', ' ') for c in avocado.columns]"
      ],
      "execution_count": 22,
      "outputs": []
    },
    {
      "cell_type": "code",
      "metadata": {
        "id": "v8kYfHkyWs3y",
        "colab": {
          "base_uri": "https://localhost:8080/"
        },
        "outputId": "a4b1f89f-12cc-4e67-af42-6c68491a12de"
      },
      "source": [
        "# take a look at the resulting dataframe\n",
        "\n",
        "avocado.columns"
      ],
      "execution_count": 23,
      "outputs": [
        {
          "output_type": "execute_result",
          "data": {
            "text/plain": [
              "Index(['Date', 'AveragePrice', 'Total Volume', '4046', '4225', '4770',\n",
              "       'Total Bags', 'Small Bags', 'Large Bags', 'XLarge Bags', 'type', 'year',\n",
              "       'region'],\n",
              "      dtype='object')"
            ]
          },
          "metadata": {},
          "execution_count": 23
        }
      ]
    },
    {
      "cell_type": "code",
      "metadata": {
        "id": "ExG_RDNsRilF",
        "colab": {
          "base_uri": "https://localhost:8080/",
          "height": 198
        },
        "outputId": "ed88f193-869c-462f-ed59-21083c9572db"
      },
      "source": [
        "# run the regression using statsmodels\n",
        "# call the result object res\n",
        "# for demand, use 'Total Bags'\n",
        "\n",
        "formula = 'Total Bags - AveragePrice - C(region)'\n",
        "res = smf.ols('formula, data ~ avocado').fit()"
      ],
      "execution_count": 24,
      "outputs": [
        {
          "output_type": "error",
          "ename": "TypeError",
          "evalue": "ignored",
          "traceback": [
            "\u001b[0;31m---------------------------------------------------------------------------\u001b[0m",
            "\u001b[0;31mTypeError\u001b[0m                                 Traceback (most recent call last)",
            "\u001b[0;32m<ipython-input-24-bfed3913cfc6>\u001b[0m in \u001b[0;36m<module>\u001b[0;34m()\u001b[0m\n\u001b[1;32m      4\u001b[0m \u001b[0;34m\u001b[0m\u001b[0m\n\u001b[1;32m      5\u001b[0m \u001b[0mformula\u001b[0m \u001b[0;34m=\u001b[0m \u001b[0;34m'Total Bags - AveragePrice - C(region)'\u001b[0m\u001b[0;34m\u001b[0m\u001b[0;34m\u001b[0m\u001b[0m\n\u001b[0;32m----> 6\u001b[0;31m \u001b[0mres\u001b[0m \u001b[0;34m=\u001b[0m \u001b[0msmf\u001b[0m\u001b[0;34m.\u001b[0m\u001b[0mols\u001b[0m\u001b[0;34m(\u001b[0m\u001b[0;34m'formula, data ~ avocado'\u001b[0m\u001b[0;34m)\u001b[0m\u001b[0;34m.\u001b[0m\u001b[0mfit\u001b[0m\u001b[0;34m(\u001b[0m\u001b[0;34m)\u001b[0m\u001b[0;34m\u001b[0m\u001b[0;34m\u001b[0m\u001b[0m\n\u001b[0m",
            "\u001b[0;31mTypeError\u001b[0m: from_formula() missing 1 required positional argument: 'data'"
          ]
        }
      ]
    },
    {
      "cell_type": "code",
      "metadata": {
        "id": "AgIUxo1tW3A0"
      },
      "source": [
        "# print the regression summary table\n",
        "\n",
        "print(res.summary())"
      ],
      "execution_count": null,
      "outputs": []
    },
    {
      "cell_type": "markdown",
      "metadata": {
        "id": "OSggG2udW8vP"
      },
      "source": [
        "**Edit this cell**\n",
        "1. The R$^2$ is **___0.765___**, this means that **76.5**\\% of the variation in demand is explained by the model.\n",
        "1. The intercept ($\\beta_0$) is **__1.847e+05___________** and is statistically **significant (choose one)**. This is the average demand in **_____Total bags_________** when price is \\$0.\n",
        "1. The coefficient for Boston is **____8.097e+04____________**, which means that the average demand in Boston is **____________** **fewer (pick one)** bags than in **___all other cities______________**. This difference is statistically **significant **\n",
        "1. The coefficient for price is **__8121.8105_____________**, which means that when price increases by \\$1 in any region, demand increases by on average **___8121.8105___________** bags. This effect is statistically **insignificant (pick one)** which means that there is enough evidence to show that price **does not (choose one)** have an **negative (pick one)** impact on demand.\n",
        "1. The region with the highest demand is **___New York_______________**."
      ]
    },
    {
      "cell_type": "markdown",
      "metadata": {
        "id": "S_w3rvOfS9AJ"
      },
      "source": [
        "# 3. Putting what we've learned all together (the power of programming) (2 points - extra point for bonus, try your best - there may or may not be a prize involved)\n",
        "\n",
        "In this exercise, you will run one regression for each region and each avocado type, i.e. one regression of total bags sold on price for Philly conventional, one for Philly organic, one for NY conventional, one for NY organic, and so on... (think loop). \n",
        "\n",
        "You will then visualize the coefficients for conventional and organic price by region on a scatter plot (each dot's (x, y) coordinates = one region's (price coefficient for conventional, price coefficient for organic). \n",
        "\n",
        "To do this break down the problem to the following components (and then put it all together):\n",
        "\n",
        "* Suppose you have selected a region $r$ and avocado type $t$, how would you run the regression?\n",
        "* How can you extract just the price coefficient given a regression result object `res`?\n",
        "* For some region, `r`, and some avocado type `t`, how would you select only the rows pertaining to region `r` and type `t`?\n",
        "* How can you loop through regions and types? (Need 2 nested \"for\" loops, one inside the other)\n",
        "* Suppose you have named the conventional and organic price coefficients for region `r` as `bConv` and `bOrg`, how would you create a list that looks like: `[region, conventional coeff, organic coefficient]`?\n",
        "* Given a list `results`, how would you *append* the list above to `results`? i.e. make keep adding to `results`: `[[region1, conventional coeff1, organic coeff1], [region2, conventional coeff2, organic coeff2], [region3, conventional coeff3, organic coeff3],...]`\n",
        "* Once you've run every regression and have a complete `results` list, convert it to a dataframe using `df = pd.DataFrame(results)`, give it some column names.\n",
        "\n",
        "The final code might have a structure similar to the pseudo code below:\n",
        "\n",
        "```\n",
        "results = list()\n",
        "for r in ##all the unique regions##:\n",
        "    for t in ##all the unique types##:\n",
        "        temp = # Select the appropriate rows of df\n",
        "        # run the regression using temp\n",
        "        if ##this iteration represents conventional avocados##:\n",
        "            ##extract the price parameter assign it to the variable bConv##\n",
        "        else:\n",
        "            ##extract the price parameter and name it bOrg##\n",
        "    ##append the results with newest [region, conventional price coeff, organic price coefficient]##\n",
        "df = pd.DataFrame(results) # convert to dataframe\n",
        "df.columns = ['region', 'beta_conv', 'beta_org'] # rename dataframe columns\n",
        "```\n",
        "\n",
        "The resulting dataframe of coefficients should look something like:\n",
        "\n",
        "| region | beta_conv | beta_org |\n",
        "|-|-|-|\n",
        "| Albany |8.579340e+02\t |-3168.491384|\n",
        "| Atlanta| -3.377365e+05 | -6352.937420 |\n",
        "| BaltimoreWashington | -3.251570e+05 | -15537.003211 |\n",
        "|...|...|...|...|\n",
        "\n",
        "(note numbers above are illustrative, not necessarily representative of actual results)\n"
      ]
    },
    {
      "cell_type": "code",
      "metadata": {
        "id": "2o6lf_eohCkm"
      },
      "source": [
        "# first re-read the original avocado dataframe to use for this problem\n",
        "avocado = pd.read_csv(fpath + 'avocado.csv', index_col = 0)"
      ],
      "execution_count": null,
      "outputs": []
    },
    {
      "cell_type": "code",
      "metadata": {
        "id": "jdCOaQydkjyt"
      },
      "source": [
        "# rename columns to get rid of spaces\n"
      ],
      "execution_count": null,
      "outputs": []
    },
    {
      "cell_type": "code",
      "metadata": {
        "id": "EnpfGJQEcnB6"
      },
      "source": [
        "# run all the regressions\n",
        "# create a dataframe with region, beta_conv, beta_org as the 3 columns \n",
        "# using the regression results\n",
        "\n",
        "\n"
      ],
      "execution_count": null,
      "outputs": []
    },
    {
      "cell_type": "code",
      "metadata": {
        "id": "cqMCmqKjd_e4"
      },
      "source": [
        "# Get rid of the TotalUS region from the regression results dataframe\n",
        "\n"
      ],
      "execution_count": null,
      "outputs": []
    },
    {
      "cell_type": "code",
      "metadata": {
        "id": "BmtNXW9kdJrH"
      },
      "source": [
        "# show the full resulting table\n",
        "\n"
      ],
      "execution_count": null,
      "outputs": []
    },
    {
      "cell_type": "code",
      "metadata": {
        "id": "T5ob8DzqdVnh"
      },
      "source": [
        ""
      ],
      "execution_count": null,
      "outputs": []
    },
    {
      "cell_type": "code",
      "metadata": {
        "id": "sObNE08meO1C"
      },
      "source": [
        "# make scatter plot of the coefficients\n",
        "# change aesthetics so the dots are not a single blob\n",
        "\n",
        "\n"
      ],
      "execution_count": null,
      "outputs": []
    },
    {
      "cell_type": "code",
      "metadata": {
        "id": "eP80H3UmeU2T"
      },
      "source": [
        "# which regions have upward sloping demand curve for organic (as price increases, so did demand)?\n",
        "# use code to show these rows of df\n",
        "\n"
      ],
      "execution_count": null,
      "outputs": []
    },
    {
      "cell_type": "code",
      "metadata": {
        "id": "JC5ytO-GevTU"
      },
      "source": [
        "# which regions have upward sloping demand curve for conventional (as price increases, so did demand)?\n",
        "# use code to show these rows of df\n",
        "\n"
      ],
      "execution_count": null,
      "outputs": []
    },
    {
      "cell_type": "markdown",
      "metadata": {
        "id": "dir5sgD7e1Ki"
      },
      "source": [
        "Why might the relationship between price and demand be upward sloping instead of the expected downward sloping demand curve theorized in economics? i.e. the law of demand, when price increases, demand decreases. \n",
        "\n",
        "**Your answer here**"
      ]
    }
  ]
}