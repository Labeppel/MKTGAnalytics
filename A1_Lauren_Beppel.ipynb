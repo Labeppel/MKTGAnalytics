{
  "nbformat": 4,
  "nbformat_minor": 0,
  "metadata": {
    "colab": {
      "name": "A1 Lauren Beppel.ipynb",
      "provenance": []
    },
    "kernelspec": {
      "name": "python3",
      "display_name": "Python 3"
    },
    "language_info": {
      "name": "python"
    }
  },
  "cells": [
    {
      "cell_type": "markdown",
      "metadata": {
        "id": "tMhcHsu_VvyW"
      },
      "source": [
        "# Lauren's Resume\n",
        "Email: [lauren.beppel@temple.edu]\n",
        "\n",
        "\n",
        "Web: [LinkedIn](https://www.linkedin.com/in/lauren-beppel-2b2a7a1a1/)\n",
        "\n"
      ]
    },
    {
      "cell_type": "markdown",
      "metadata": {
        "id": "9qIuvMbM1e7E"
      },
      "source": [
        "# Summary\n",
        "\n"
      ]
    },
    {
      "cell_type": "markdown",
      "metadata": {
        "id": "L38hYf7kBBIu"
      },
      "source": [
        "Junior marketing student with experience in social media marketing with intelligence tools in Microsoft Office. Promoting brands effectively, I have helped over 200 people connect to brands to grow the company's network."
      ]
    },
    {
      "cell_type": "markdown",
      "metadata": {
        "id": "LWsYhmn_-24S"
      },
      "source": [
        "# Education"
      ]
    },
    {
      "cell_type": "markdown",
      "metadata": {
        "id": "D4CYZUScXerb"
      },
      "source": [
        "TEMPLE UNIVERSITY, Fox School of Business **Bachelor of Business Administration, Graduation: May 2023**\n",
        "\n",
        "**Major: Marketing|Minor: Digital Media Engagement**\n",
        "\n",
        "*Selected Courses:\n",
        "Marketing Research\n",
        "Marketing Management*"
      ]
    },
    {
      "cell_type": "markdown",
      "metadata": {
        "id": "fHuEwZtuX_G0"
      },
      "source": [
        "# Experience\n"
      ]
    },
    {
      "cell_type": "markdown",
      "metadata": {
        "id": "bRM7l9pH6T5Q"
      },
      "source": [
        "COLLEGEVILLE ITALIAN BAKERY\n",
        "\n",
        "Cashier\n",
        "December 2020 - Present\n",
        "\n",
        "\n",
        "*   Provide first class hospitality\n",
        "*   Assist in selling and baking Italian desserts and bread\n",
        "*   Stock and maintain bakery area, ensuring a clean presentation\n",
        "*   Process POS transactions including check, cash and credit purchases\n",
        "\n",
        "\n",
        "\n"
      ]
    },
    {
      "cell_type": "markdown",
      "metadata": {
        "id": "PBNoK45v1-Oa"
      },
      "source": [
        "FIREBIRDS WOOD-FIRED GRILL, COLLEGEVILLE\n",
        "April 2019 - August 2020\n",
        "Server\n",
        "\n",
        "\n",
        "*   Provide customer service and operational support for an upscale restaurant serving up to 200 guests\n",
        "*   Recommending food items, accomodating dietary, and selling specials\n",
        "*   Handle monetary transactions averaging $600 per shift\n",
        "*   Communicate with kitchen staff regarding food orders and dietary\n",
        "\n",
        "Hostess\n",
        "January 2019 - August 2020\n",
        "\n",
        "*   Encourage a warm welcome and assist customers with reservations and specific requests\n",
        "*   Answer phone calls, booked reservations for the customers, and took call-in orders\n",
        "*   Managed the floor and other hosts on where to seat customers and when to perform specific duties\n",
        "\n",
        "\n",
        "\n",
        "\n",
        "\n",
        "\n",
        "\n",
        "\n",
        "\n",
        "\n",
        "\n",
        "\n"
      ]
    },
    {
      "cell_type": "markdown",
      "metadata": {
        "id": "IwRWUGzaH7OI"
      },
      "source": [
        "# Skills"
      ]
    },
    {
      "cell_type": "markdown",
      "metadata": {
        "id": "EdQcppr6H_l7"
      },
      "source": [
        "\n",
        "\n",
        "*   Microsoft Office (Word, Powerpoint, Publisher, Excel)\n",
        "*   Social Media Marketing\n",
        "\n"
      ]
    },
    {
      "cell_type": "code",
      "metadata": {
        "id": "i3M87B7tIZkC"
      },
      "source": [
        "import os"
      ],
      "execution_count": 5,
      "outputs": []
    },
    {
      "cell_type": "code",
      "metadata": {
        "colab": {
          "base_uri": "https://localhost:8080/"
        },
        "id": "QB7NaXN4Ifbq",
        "outputId": "e4d0769e-a298-439b-d1ab-9eb9f6bb5b1e"
      },
      "source": [
        "os.listdir('drive/MyDrive/Marketing Customer Data Analytics/')"
      ],
      "execution_count": 10,
      "outputs": [
        {
          "output_type": "execute_result",
          "data": {
            "text/plain": [
              "['Untitled0.ipynb', 'A1 Lauren Beppel.ipynb']"
            ]
          },
          "metadata": {},
          "execution_count": 10
        }
      ]
    },
    {
      "cell_type": "code",
      "metadata": {
        "colab": {
          "base_uri": "https://localhost:8080/"
        },
        "id": "mn_MN8oBKsRD",
        "outputId": "5445e4d3-5d0d-498f-de0c-808fe0eb2117"
      },
      "source": [
        "from google.colab import drive\n",
        "drive.mount(\"drive\")"
      ],
      "execution_count": 11,
      "outputs": [
        {
          "output_type": "stream",
          "text": [
            "Drive already mounted at drive; to attempt to forcibly remount, call drive.mount(\"drive\", force_remount=True).\n"
          ],
          "name": "stdout"
        }
      ]
    }
  ]
}